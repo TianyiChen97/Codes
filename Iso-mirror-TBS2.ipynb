{
 "cells": [
  {
   "cell_type": "code",
   "execution_count": 1,
   "metadata": {},
   "outputs": [
    {
     "data": {
      "text/plain": [
       "<matplotlib.pyplot._IonContext at 0x7fe9f0842880>"
      ]
     },
     "execution_count": 1,
     "metadata": {},
     "output_type": "execute_result"
    }
   ],
   "source": [
    "import numpy as np\n",
    "import pickle as pkl\n",
    "from pprint import pprint\n",
    "import os\n",
    "import matplotlib\n",
    "import matplotlib.pyplot as plt\n",
    "from datetime import datetime\n",
    "plt.ion()"
   ]
  },
  {
   "cell_type": "code",
   "execution_count": 2,
   "metadata": {},
   "outputs": [],
   "source": [
    "dr='/Users/tianyichen/Desktop/Research /PhDresearch/Hopkins_Organoid/April 19 2024/Run_8_TBS_Experiment_ecr_results_windowed/230601 RUN 8 Wells 1-3'"
   ]
  },
  {
   "cell_type": "code",
   "execution_count": 3,
   "metadata": {},
   "outputs": [
    {
     "data": {
      "text/plain": [
       "['#12 (well #3 post stim 3)',\n",
       " '#4 (well #1 post stim 3)',\n",
       " '#6 (well #2 post stim 1)',\n",
       " '.DS_Store',\n",
       " '#3 (well #1 post stim 2)',\n",
       " '#18 ( Well #1 340 minutes Well #2 240 minutes Well #3 180 minutes)',\n",
       " '#9 (well #2 post stim 4)',\n",
       " '#11 (well #3 post stim 2)',\n",
       " '#17 (Well #1 310 minutes Well #2 210 minutes Well #3 150 minutes)',\n",
       " '#15 (Well #1 210 minutes Well #2 150 minutes Well #3 90 minutes)',\n",
       " '#16 (Well #1 240 minutes Well #2 180 minutes Well #3 120 minutes',\n",
       " '#7 (well #2 post stim 2)',\n",
       " '#8 (well #2 post stim 3)',\n",
       " '#14 (Well #1 180 minutes Well #2 120 minutes Well #3 60 minutes)',\n",
       " '#1 (baseline)',\n",
       " '#2 (well #1 post stim 1)',\n",
       " '#5 (well #1 post stim 4)',\n",
       " '#10 (well #3 post stim 1)',\n",
       " '#13 (well #3 post stim 4)']"
      ]
     },
     "execution_count": 3,
     "metadata": {},
     "output_type": "execute_result"
    }
   ],
   "source": [
    "filenames=os.listdir(dr)\n",
    "filenames"
   ]
  },
  {
   "cell_type": "code",
   "execution_count": 6,
   "metadata": {},
   "outputs": [],
   "source": [
    "filenames.remove('.DS_Store')"
   ]
  },
  {
   "cell_type": "code",
   "execution_count": 7,
   "metadata": {},
   "outputs": [
    {
     "data": {
      "text/plain": [
       "['#1 (baseline)',\n",
       " '#2 (well #4 post stim 1)',\n",
       " '#3 (well #4 post stim 2)',\n",
       " '#4 (well #4 post stim 3)',\n",
       " '#5 (well #4 post stim 4)',\n",
       " '#6 (well #5 post stim 1)',\n",
       " '#7 (well #5 post stim 2)',\n",
       " '#8 (well #5 post stim 3)',\n",
       " '#9 (well #5 post stim 4)',\n",
       " '#10 (well #6 post stim 1)',\n",
       " '#11 (well #6 post stim 2)',\n",
       " '#12 (well #6 post stim 3)',\n",
       " '#13 (well #6 post stim 4)',\n",
       " '#14 (Well #4 180 min, Well #5 120 min, Well #6 60 min)',\n",
       " '#15 (Well #4 210 minutes after, Well #5 150 minutes after, Well #6 90 mintes after',\n",
       " '#16 (Well #4 240 minutes after, Well #5 180 minutes after, Well #6 120 mintes after)',\n",
       " '#17 (310 minutes after, Well #5 210 minutes after, Well #6 150 mintes after)',\n",
       " '#18 (340 minutes after, Well #5 240 minutes after, Well #6 180 mintes after)']"
      ]
     },
     "execution_count": 7,
     "metadata": {},
     "output_type": "execute_result"
    }
   ],
   "source": [
    "sorted_filenames = sorted(filenames, key=lambda x: int(x.split('#')[1].split()[0]))\n",
    "sorted_filenames"
   ]
  },
  {
   "cell_type": "code",
   "execution_count": 7,
   "metadata": {},
   "outputs": [
    {
     "name": "stdout",
     "output_type": "stream",
     "text": [
      "[1, 2, 3, 4, 13, 14, 15, 16, 17]\n"
     ]
    }
   ],
   "source": [
    "indices = [i for i, filename in enumerate(sorted_filenames) if 'well #1' in filename.lower()]\n",
    "print(indices)"
   ]
  },
  {
   "cell_type": "code",
   "execution_count": 8,
   "metadata": {},
   "outputs": [],
   "source": [
    "os.chdir(dr)"
   ]
  },
  {
   "cell_type": "code",
   "execution_count": 8,
   "metadata": {},
   "outputs": [
    {
     "data": {
      "text/plain": [
       "['#1 (baseline)/data.raw_20240415_18h04m.pkl',\n",
       " '#2 (well #4 post stim 1)/data.raw_20240415_18h04m.pkl',\n",
       " '#3 (well #4 post stim 2)/data.raw_20240415_18h04m.pkl',\n",
       " '#4 (well #4 post stim 3)/data.raw_20240415_18h04m.pkl',\n",
       " '#5 (well #4 post stim 4)/data.raw_20240415_18h04m.pkl',\n",
       " '#6 (well #5 post stim 1)/data.raw_20240415_18h04m.pkl',\n",
       " '#7 (well #5 post stim 2)/data.raw_20240415_18h04m.pkl',\n",
       " '#8 (well #5 post stim 3)/data.raw_20240415_18h04m.pkl',\n",
       " '#9 (well #5 post stim 4)/data.raw_20240415_18h04m.pkl',\n",
       " '#10 (well #6 post stim 1)/data.raw_20240415_18h04m.pkl',\n",
       " '#11 (well #6 post stim 2)/data.raw_20240415_18h04m.pkl',\n",
       " '#12 (well #6 post stim 3)/data.raw_20240415_18h04m.pkl',\n",
       " '#13 (well #6 post stim 4)/data.raw_20240415_18h04m.pkl',\n",
       " '#14 (Well #4 180 min, Well #5 120 min, Well #6 60 min)/data.raw_20240415_18h04m.pkl',\n",
       " '#15 (Well #4 210 minutes after, Well #5 150 minutes after, Well #6 90 mintes after/data.raw_20240415_18h04m.pkl',\n",
       " '#16 (Well #4 240 minutes after, Well #5 180 minutes after, Well #6 120 mintes after)/data.raw_20240415_18h04m.pkl',\n",
       " '#17 (310 minutes after, Well #5 210 minutes after, Well #6 150 mintes after)/data.raw_20240415_18h04m.pkl',\n",
       " '#18 (340 minutes after, Well #5 240 minutes after, Well #6 180 mintes after)/data.raw_20240415_18h04m.pkl']"
      ]
     },
     "execution_count": 8,
     "metadata": {},
     "output_type": "execute_result"
    }
   ],
   "source": [
    "sorted_filenames_updated = [filename + '/data.raw_20240415_18h04m.pkl' for filename in sorted_filenames]\n",
    "sorted_filenames_updated"
   ]
  },
  {
   "cell_type": "code",
   "execution_count": 10,
   "metadata": {},
   "outputs": [],
   "source": [
    "def filter_matrix(src_filename, well, win):\n",
    "    # Load data from the specified source file\n",
    "    with open(src_filename, 'rb') as f:\n",
    "        data = pkl.load(f)\n",
    "\n",
    "    # Extract necessary data from the loaded data structure\n",
    "    adj_matrix = data[well][win]['adj_matrix_predicted']\n",
    "    votes = data[well][win]['votes']  # This variable is loaded but not used in the snippet you provided\n",
    "    corr_peaks = data[well][win]['corr_peaks']\n",
    "    fs = data['config']['data']['fs']  # Sampling frequency\n",
    "\n",
    "    # Initialize a matrix to track synchronization based on correlation peaks\n",
    "    synced_matrix = np.full(adj_matrix.shape, False)\n",
    "    for key in corr_peaks.keys():\n",
    "        if np.all(np.abs(np.array(corr_peaks[key]['delays'])) < 1/fs):\n",
    "            synced_matrix[key[0], key[1]] = True\n",
    "            synced_matrix[key[1], key[0]] = True\n",
    "\n",
    "    # Create the filtered matrix as per the given logic\n",
    "    filtered_matrix = np.logical_and(adj_matrix, np.logical_not(synced_matrix))\n",
    "\n",
    "    return filtered_matrix"
   ]
  },
  {
   "cell_type": "code",
   "execution_count": 30,
   "metadata": {},
   "outputs": [],
   "source": [
    "with open(sorted_filenames_updated[0], 'rb') as f:\n",
    "        data = pkl.load(f)"
   ]
  },
  {
   "cell_type": "code",
   "execution_count": 34,
   "metadata": {},
   "outputs": [
    {
     "data": {
      "text/plain": [
       "dict_keys(['source_filename', 'config', 'well000', 'well001', 'well002', 'well003', 'well004', 'well005'])"
      ]
     },
     "execution_count": 34,
     "metadata": {},
     "output_type": "execute_result"
    }
   ],
   "source": [
    "data.keys()"
   ]
  },
  {
   "cell_type": "code",
   "execution_count": 45,
   "metadata": {},
   "outputs": [
    {
     "data": {
      "text/plain": [
       "3"
      ]
     },
     "execution_count": 45,
     "metadata": {},
     "output_type": "execute_result"
    }
   ],
   "source": [
    "sum(sum(data['well000']['win_2']['adj_matrix_predicted']))"
   ]
  },
  {
   "cell_type": "code",
   "execution_count": 11,
   "metadata": {},
   "outputs": [],
   "source": [
    "import numpy as np\n",
    "import itertools\n",
    "\n",
    "all_well=['well000', 'well001', 'well002', 'well003', 'well004', 'well005']\n",
    "all_win=[ 'win_0', 'win_1', 'win_2', 'win_3', 'win_4', 'win_5', 'win_6', 'win_7', 'win_8', 'win_9']\n",
    "\n",
    "summary_array = np.empty((60, 1), dtype=np.dtype([('col1', 'U10'), ('col2', 'U10'), ('col3', float), ('col4', float)]))\n",
    "\n",
    "# Create the Cartesian product of all_well and all_win\n",
    "cartesian_product = list(itertools.product(all_well, all_win))\n",
    "\n",
    "summary_array['col1'] = np.array([item[0] for item in cartesian_product]).reshape((60,1))\n",
    "summary_array['col2'] = np.array([item[1] for item in cartesian_product]).reshape((60,1))"
   ]
  },
  {
   "cell_type": "code",
   "execution_count": 12,
   "metadata": {},
   "outputs": [],
   "source": [
    "def calculate_summary(well_choosen, win_choosen):\n",
    "    m = len(sorted_filenames_updated)\n",
    "    all_adj = []\n",
    "    for i in range(m):\n",
    "        try:\n",
    "            adj = filter_matrix(sorted_filenames_updated[i], well_choosen, win_choosen)\n",
    "            all_adj.append(adj)\n",
    "        except:\n",
    "            all_adj.append(None)\n",
    "    \n",
    "    sort_filename = np.zeros((m, 3))  # Define the sort_filename variable\n",
    "    for i in range(0, m):\n",
    "        if all_adj[i] is not None:\n",
    "            mat_data = all_adj[i]\n",
    "            sort_filename[i, 1] = (mat_data.shape[0])\n",
    "            #sort_filename[i, 2] = (sum(sum(mat_data > 0)))\n",
    "            sort_filename[i, 2] = (sum(sum(mat_data > 0)))>900\n",
    "    #sort_filename[:,[0]] = np.reshape([filename.split('DIV ')[1] for filename in sorted_filenames], (m, 1))\n",
    "    mean_col2 = np.mean(sort_filename[:, 1])\n",
    "    mean_col3 = np.mean(sort_filename[:, 2])\n",
    "\n",
    "    return mean_col2, mean_col3"
   ]
  },
  {
   "cell_type": "code",
   "execution_count": 36,
   "metadata": {},
   "outputs": [
    {
     "name": "stdout",
     "output_type": "stream",
     "text": [
      "('well000', 'win_0', 631.72222222, 25.5)\n",
      "('well000', 'win_1', 631.72222222, 23.55555556)\n",
      "('well000', 'win_2', 631.72222222, 12.)\n",
      "('well000', 'win_3', 631.72222222, 23.83333333)\n",
      "('well000', 'win_4', 631.72222222, 18.38888889)\n",
      "('well000', 'win_5', 631.72222222, 16.38888889)\n",
      "('well000', 'win_6', 631.72222222, 13.22222222)\n",
      "('well000', 'win_7', 631.72222222, 9.38888889)\n",
      "('well000', 'win_8', 631.72222222, 10.5)\n",
      "('well000', 'win_9', 631.72222222, 7.88888889)\n",
      "('well001', 'win_0', 471.05555556, 2.27777778)\n",
      "('well001', 'win_1', 471.05555556, 2.22222222)\n",
      "('well001', 'win_2', 471.05555556, 2.16666667)\n",
      "('well001', 'win_3', 471.05555556, 2.55555556)\n",
      "('well001', 'win_4', 471.05555556, 1.61111111)\n",
      "('well001', 'win_5', 471.05555556, 1.33333333)\n",
      "('well001', 'win_6', 471.05555556, 1.72222222)\n",
      "('well001', 'win_7', 471.05555556, 1.11111111)\n",
      "('well001', 'win_8', 471.05555556, 1.)\n",
      "('well001', 'win_9', 471.05555556, 0.94444444)\n",
      "('well002', 'win_0', 376.16666667, 1.5)\n",
      "('well002', 'win_1', 376.16666667, 1.55555556)\n",
      "('well002', 'win_2', 376.16666667, 1.5)\n",
      "('well002', 'win_3', 376.16666667, 1.33333333)\n",
      "('well002', 'win_4', 376.16666667, 1.22222222)\n",
      "('well002', 'win_5', 376.16666667, 1.94444444)\n",
      "('well002', 'win_6', 376.16666667, 0.94444444)\n",
      "('well002', 'win_7', 376.16666667, 0.88888889)\n",
      "('well002', 'win_8', 376.16666667, 1.16666667)\n",
      "('well002', 'win_9', 376.16666667, 1.05555556)\n",
      "('well003', 'win_0', 925.55555556, 597.22222222)\n",
      "('well003', 'win_1', 925.55555556, 137.5)\n",
      "('well003', 'win_2', 925.55555556, 358.77777778)\n",
      "('well003', 'win_3', 925.55555556, 392.27777778)\n",
      "('well003', 'win_4', 925.55555556, 7.44444444)\n",
      "('well003', 'win_5', 925.55555556, 48.44444444)\n",
      "('well003', 'win_6', 925.55555556, 106.94444444)\n",
      "('well003', 'win_7', 925.55555556, 125.88888889)\n",
      "('well003', 'win_8', 925.55555556, 59.44444444)\n",
      "('well003', 'win_9', 925.55555556, 49.61111111)\n",
      "('well004', 'win_0', 978.83333333, 10267.72222222)\n",
      "('well004', 'win_1', 978.83333333, 3112.33333333)\n",
      "('well004', 'win_2', 978.83333333, 3440.22222222)\n",
      "('well004', 'win_3', 978.83333333, 4195.88888889)\n",
      "('well004', 'win_4', 978.83333333, 4165.38888889)\n",
      "('well004', 'win_5', 978.83333333, 2412.94444444)\n",
      "('well004', 'win_6', 978.83333333, 2235.72222222)\n",
      "('well004', 'win_7', 978.83333333, 2098.27777778)\n",
      "('well004', 'win_8', 978.83333333, 2375.22222222)\n",
      "('well004', 'win_9', 978.83333333, 1005.5)\n",
      "('well005', 'win_0', 950.66666667, 263.66666667)\n",
      "('well005', 'win_1', 950.66666667, 201.77777778)\n",
      "('well005', 'win_2', 950.66666667, 230.61111111)\n",
      "('well005', 'win_3', 950.66666667, 113.94444444)\n",
      "('well005', 'win_4', 950.66666667, 74.94444444)\n",
      "('well005', 'win_5', 950.66666667, 185.55555556)\n",
      "('well005', 'win_6', 950.66666667, 69.33333333)\n",
      "('well005', 'win_7', 950.66666667, 105.38888889)\n",
      "('well005', 'win_8', 950.66666667, 78.5)\n",
      "('well005', 'win_9', 950.66666667, 53.)\n"
     ]
    }
   ],
   "source": [
    "for i in range(0, 60):\n",
    "    cs=calculate_summary(summary_array[i, 0][0], summary_array[i, 0][1])\n",
    "    summary_array[i, 0][2]=cs[0]\n",
    "    summary_array[i, 0][3]=cs[1]\n",
    "    print(summary_array[i,0])"
   ]
  },
  {
   "cell_type": "code",
   "execution_count": null,
   "metadata": {},
   "outputs": [],
   "source": []
  },
  {
   "cell_type": "code",
   "execution_count": 37,
   "metadata": {},
   "outputs": [],
   "source": [
    "well='well004'\n",
    "win='win_0'"
   ]
  },
  {
   "cell_type": "code",
   "execution_count": 38,
   "metadata": {},
   "outputs": [
    {
     "name": "stdout",
     "output_type": "stream",
     "text": [
      "0 22919 978\n",
      "1 172 985\n",
      "2 126 981\n",
      "3 20128 979\n",
      "4 173 985\n",
      "5 27156 980\n",
      "6 26862 982\n",
      "7 21399 982\n",
      "8 162 987\n",
      "9 156 980\n",
      "10 404 977\n",
      "11 30563 975\n",
      "12 583 982\n",
      "13 123 975\n",
      "14 528 981\n",
      "15 33125 971\n",
      "16 103 968\n",
      "17 137 971\n"
     ]
    }
   ],
   "source": [
    "m = len(sorted_filenames_updated)\n",
    "all_adj = []\n",
    "for i in range(m):\n",
    "    try:\n",
    "        adj = filter_matrix(sorted_filenames_updated[i], well, win)\n",
    "        print(i, sum(sum(adj)), adj.shape[0]  )\n",
    "        all_adj.append(adj)\n",
    "    except:\n",
    "        all_adj.append(None)"
   ]
  },
  {
   "cell_type": "code",
   "execution_count": 15,
   "metadata": {},
   "outputs": [
    {
     "data": {
      "text/plain": [
       "['#13 (well #6 post stim 4)',\n",
       " '#6 (well #5 post stim 1)',\n",
       " '#17 (310 minutes after, Well #5 210 minutes after, Well #6 150 mintes after)',\n",
       " '#5 (well #4 post stim 4)',\n",
       " '#10 (well #6 post stim 1)',\n",
       " '#18 (340 minutes after, Well #5 240 minutes after, Well #6 180 mintes after)',\n",
       " '#9 (well #5 post stim 4)',\n",
       " '#2 (well #4 post stim 1)',\n",
       " '#16 (Well #4 240 minutes after, Well #5 180 minutes after, Well #6 120 mintes after)',\n",
       " '#14 (Well #4 180 min, Well #5 120 min, Well #6 60 min)',\n",
       " '#7 (well #5 post stim 2)',\n",
       " '#15 (Well #4 210 minutes after, Well #5 150 minutes after, Well #6 90 mintes after',\n",
       " '#8 (well #5 post stim 3)',\n",
       " '#1 (baseline)',\n",
       " '#11 (well #6 post stim 2)',\n",
       " '#4 (well #4 post stim 3)',\n",
       " '#3 (well #4 post stim 2)',\n",
       " '#12 (well #6 post stim 3)']"
      ]
     },
     "execution_count": 15,
     "metadata": {},
     "output_type": "execute_result"
    }
   ],
   "source": [
    "dr='/Users/tianyichen/Desktop/Research /PhDresearch/Hopkins_Organoid/April 19 2024/Run_8_TBS_Experiment_ecr_results_windowed/230602 RUN 8 Wells 4-6'\n",
    "filenames=os.listdir(dr)\n",
    "filenames.remove('.DS_Store')\n",
    "filenames"
   ]
  },
  {
   "cell_type": "code",
   "execution_count": 16,
   "metadata": {},
   "outputs": [
    {
     "data": {
      "text/plain": [
       "['#1 (baseline)/data.raw_20240415_18h04m.pkl',\n",
       " '#2 (well #4 post stim 1)/data.raw_20240415_18h04m.pkl',\n",
       " '#3 (well #4 post stim 2)/data.raw_20240415_18h04m.pkl',\n",
       " '#4 (well #4 post stim 3)/data.raw_20240415_18h04m.pkl',\n",
       " '#5 (well #4 post stim 4)/data.raw_20240415_18h04m.pkl',\n",
       " '#6 (well #5 post stim 1)/data.raw_20240415_18h04m.pkl',\n",
       " '#7 (well #5 post stim 2)/data.raw_20240415_18h04m.pkl',\n",
       " '#8 (well #5 post stim 3)/data.raw_20240415_18h04m.pkl',\n",
       " '#9 (well #5 post stim 4)/data.raw_20240415_18h04m.pkl',\n",
       " '#10 (well #6 post stim 1)/data.raw_20240415_18h04m.pkl',\n",
       " '#11 (well #6 post stim 2)/data.raw_20240415_18h04m.pkl',\n",
       " '#12 (well #6 post stim 3)/data.raw_20240415_18h04m.pkl',\n",
       " '#13 (well #6 post stim 4)/data.raw_20240415_18h04m.pkl',\n",
       " '#14 (Well #4 180 min, Well #5 120 min, Well #6 60 min)/data.raw_20240415_18h04m.pkl',\n",
       " '#15 (Well #4 210 minutes after, Well #5 150 minutes after, Well #6 90 mintes after/data.raw_20240415_18h04m.pkl',\n",
       " '#16 (Well #4 240 minutes after, Well #5 180 minutes after, Well #6 120 mintes after)/data.raw_20240415_18h04m.pkl',\n",
       " '#17 (310 minutes after, Well #5 210 minutes after, Well #6 150 mintes after)/data.raw_20240415_18h04m.pkl',\n",
       " '#18 (340 minutes after, Well #5 240 minutes after, Well #6 180 mintes after)/data.raw_20240415_18h04m.pkl']"
      ]
     },
     "execution_count": 16,
     "metadata": {},
     "output_type": "execute_result"
    }
   ],
   "source": [
    "sorted_filenames = sorted(filenames, key=lambda x: int(x.split('#')[1].split()[0]))\n",
    "#sorted_filenames\n",
    "os.chdir(dr)\n",
    "sorted_filenames_updated = [filename + '/data.raw_20240415_18h04m.pkl' for filename in sorted_filenames]\n",
    "sorted_filenames_updated"
   ]
  },
  {
   "cell_type": "code",
   "execution_count": 29,
   "metadata": {},
   "outputs": [],
   "source": [
    "%store -r time_diff"
   ]
  },
  {
   "cell_type": "code",
   "execution_count": 33,
   "metadata": {},
   "outputs": [
    {
     "name": "stdout",
     "output_type": "stream",
     "text": [
      "[['#1 (baseline)/data.raw_20240415_18h04m.pkl' '0.0']\n",
      " ['#2 (well #4 post stim 1)/data.raw_20240415_18h04m.pkl'\n",
      "  '13.216666666666667']\n",
      " ['#3 (well #4 post stim 2)/data.raw_20240415_18h04m.pkl'\n",
      "  '26.433333333333334']\n",
      " ['#4 (well #4 post stim 3)/data.raw_20240415_18h04m.pkl'\n",
      "  '39.666666666666664']\n",
      " ['#5 (well #4 post stim 4)/data.raw_20240415_18h04m.pkl'\n",
      "  '52.916666666666664']\n",
      " ['#6 (well #5 post stim 1)/data.raw_20240415_18h04m.pkl' '71.35']\n",
      " ['#7 (well #5 post stim 2)/data.raw_20240415_18h04m.pkl'\n",
      "  '84.63333333333334']\n",
      " ['#8 (well #5 post stim 3)/data.raw_20240415_18h04m.pkl'\n",
      "  '97.91666666666667']\n",
      " ['#9 (well #5 post stim 4)/data.raw_20240415_18h04m.pkl' '111.2']\n",
      " ['#10 (well #6 post stim 1)/data.raw_20240415_18h04m.pkl'\n",
      "  '132.16666666666666']\n",
      " ['#11 (well #6 post stim 2)/data.raw_20240415_18h04m.pkl'\n",
      "  '145.41666666666666']\n",
      " ['#12 (well #6 post stim 3)/data.raw_20240415_18h04m.pkl' '158.65']\n",
      " ['#13 (well #6 post stim 4)/data.raw_20240415_18h04m.pkl' '171.9']\n",
      " ['#14 (Well #4 180 min, Well #5 120 min, Well #6 60 min)/data.raw_20240415_18h04m.pkl'\n",
      "  '192.03333333333333']\n",
      " ['#15 (Well #4 210 minutes after, Well #5 150 minutes after, Well #6 90 mintes after/data.raw_20240415_18h04m.pkl'\n",
      "  '221.88333333333333']\n",
      " ['#16 (Well #4 240 minutes after, Well #5 180 minutes after, Well #6 120 mintes after)/data.raw_20240415_18h04m.pkl'\n",
      "  '250.95']\n",
      " ['#17 (310 minutes after, Well #5 210 minutes after, Well #6 150 mintes after)/data.raw_20240415_18h04m.pkl'\n",
      "  '281.6666666666667']\n",
      " ['#18 (340 minutes after, Well #5 240 minutes after, Well #6 180 mintes after)/data.raw_20240415_18h04m.pkl'\n",
      "  '311.05']]\n"
     ]
    },
    {
     "data": {
      "text/plain": [
       "13.216666666666667"
      ]
     },
     "execution_count": 33,
     "metadata": {},
     "output_type": "execute_result"
    }
   ],
   "source": [
    "data_structure = np.column_stack((sorted_filenames_updated, time_diff))\n",
    "print(data_structure)\n",
    "float(data_structure[1,1])\n"
   ]
  },
  {
   "cell_type": "code",
   "execution_count": 43,
   "metadata": {},
   "outputs": [
    {
     "data": {
      "text/plain": [
       "array([['#1 (baseline)/data.raw_20240415_18h04m.pkl', '0.0', 'win_0'],\n",
       "       ['#1 (baseline)/data.raw_20240415_18h04m.pkl', '0.0', 'win_1'],\n",
       "       ['#1 (baseline)/data.raw_20240415_18h04m.pkl', '0.0', 'win_2'],\n",
       "       ['#1 (baseline)/data.raw_20240415_18h04m.pkl', '0.0', 'win_3'],\n",
       "       ['#1 (baseline)/data.raw_20240415_18h04m.pkl', '0.0', 'win_4'],\n",
       "       ['#1 (baseline)/data.raw_20240415_18h04m.pkl', '0.0', 'win_5'],\n",
       "       ['#1 (baseline)/data.raw_20240415_18h04m.pkl', '0.0', 'win_6'],\n",
       "       ['#1 (baseline)/data.raw_20240415_18h04m.pkl', '0.0', 'win_7'],\n",
       "       ['#1 (baseline)/data.raw_20240415_18h04m.pkl', '0.0', 'win_8'],\n",
       "       ['#1 (baseline)/data.raw_20240415_18h04m.pkl', '0.0', 'win_9'],\n",
       "       ['#2 (well #4 post stim 1)/data.raw_20240415_18h04m.pkl',\n",
       "        '13.216666666666667', 'win_0'],\n",
       "       ['#2 (well #4 post stim 1)/data.raw_20240415_18h04m.pkl',\n",
       "        '13.216666666666667', 'win_1'],\n",
       "       ['#2 (well #4 post stim 1)/data.raw_20240415_18h04m.pkl',\n",
       "        '13.216666666666667', 'win_2'],\n",
       "       ['#2 (well #4 post stim 1)/data.raw_20240415_18h04m.pkl',\n",
       "        '13.216666666666667', 'win_3'],\n",
       "       ['#2 (well #4 post stim 1)/data.raw_20240415_18h04m.pkl',\n",
       "        '13.216666666666667', 'win_4'],\n",
       "       ['#2 (well #4 post stim 1)/data.raw_20240415_18h04m.pkl',\n",
       "        '13.216666666666667', 'win_5'],\n",
       "       ['#2 (well #4 post stim 1)/data.raw_20240415_18h04m.pkl',\n",
       "        '13.216666666666667', 'win_6'],\n",
       "       ['#2 (well #4 post stim 1)/data.raw_20240415_18h04m.pkl',\n",
       "        '13.216666666666667', 'win_7'],\n",
       "       ['#2 (well #4 post stim 1)/data.raw_20240415_18h04m.pkl',\n",
       "        '13.216666666666667', 'win_8'],\n",
       "       ['#2 (well #4 post stim 1)/data.raw_20240415_18h04m.pkl',\n",
       "        '13.216666666666667', 'win_9'],\n",
       "       ['#3 (well #4 post stim 2)/data.raw_20240415_18h04m.pkl',\n",
       "        '26.433333333333334', 'win_0'],\n",
       "       ['#3 (well #4 post stim 2)/data.raw_20240415_18h04m.pkl',\n",
       "        '26.433333333333334', 'win_1'],\n",
       "       ['#3 (well #4 post stim 2)/data.raw_20240415_18h04m.pkl',\n",
       "        '26.433333333333334', 'win_2'],\n",
       "       ['#3 (well #4 post stim 2)/data.raw_20240415_18h04m.pkl',\n",
       "        '26.433333333333334', 'win_3'],\n",
       "       ['#3 (well #4 post stim 2)/data.raw_20240415_18h04m.pkl',\n",
       "        '26.433333333333334', 'win_4'],\n",
       "       ['#3 (well #4 post stim 2)/data.raw_20240415_18h04m.pkl',\n",
       "        '26.433333333333334', 'win_5'],\n",
       "       ['#3 (well #4 post stim 2)/data.raw_20240415_18h04m.pkl',\n",
       "        '26.433333333333334', 'win_6'],\n",
       "       ['#3 (well #4 post stim 2)/data.raw_20240415_18h04m.pkl',\n",
       "        '26.433333333333334', 'win_7'],\n",
       "       ['#3 (well #4 post stim 2)/data.raw_20240415_18h04m.pkl',\n",
       "        '26.433333333333334', 'win_8'],\n",
       "       ['#3 (well #4 post stim 2)/data.raw_20240415_18h04m.pkl',\n",
       "        '26.433333333333334', 'win_9'],\n",
       "       ['#4 (well #4 post stim 3)/data.raw_20240415_18h04m.pkl',\n",
       "        '39.666666666666664', 'win_0'],\n",
       "       ['#4 (well #4 post stim 3)/data.raw_20240415_18h04m.pkl',\n",
       "        '39.666666666666664', 'win_1'],\n",
       "       ['#4 (well #4 post stim 3)/data.raw_20240415_18h04m.pkl',\n",
       "        '39.666666666666664', 'win_2'],\n",
       "       ['#4 (well #4 post stim 3)/data.raw_20240415_18h04m.pkl',\n",
       "        '39.666666666666664', 'win_3'],\n",
       "       ['#4 (well #4 post stim 3)/data.raw_20240415_18h04m.pkl',\n",
       "        '39.666666666666664', 'win_4'],\n",
       "       ['#4 (well #4 post stim 3)/data.raw_20240415_18h04m.pkl',\n",
       "        '39.666666666666664', 'win_5'],\n",
       "       ['#4 (well #4 post stim 3)/data.raw_20240415_18h04m.pkl',\n",
       "        '39.666666666666664', 'win_6'],\n",
       "       ['#4 (well #4 post stim 3)/data.raw_20240415_18h04m.pkl',\n",
       "        '39.666666666666664', 'win_7'],\n",
       "       ['#4 (well #4 post stim 3)/data.raw_20240415_18h04m.pkl',\n",
       "        '39.666666666666664', 'win_8'],\n",
       "       ['#4 (well #4 post stim 3)/data.raw_20240415_18h04m.pkl',\n",
       "        '39.666666666666664', 'win_9'],\n",
       "       ['#5 (well #4 post stim 4)/data.raw_20240415_18h04m.pkl',\n",
       "        '52.916666666666664', 'win_0'],\n",
       "       ['#5 (well #4 post stim 4)/data.raw_20240415_18h04m.pkl',\n",
       "        '52.916666666666664', 'win_1'],\n",
       "       ['#5 (well #4 post stim 4)/data.raw_20240415_18h04m.pkl',\n",
       "        '52.916666666666664', 'win_2'],\n",
       "       ['#5 (well #4 post stim 4)/data.raw_20240415_18h04m.pkl',\n",
       "        '52.916666666666664', 'win_3'],\n",
       "       ['#5 (well #4 post stim 4)/data.raw_20240415_18h04m.pkl',\n",
       "        '52.916666666666664', 'win_4'],\n",
       "       ['#5 (well #4 post stim 4)/data.raw_20240415_18h04m.pkl',\n",
       "        '52.916666666666664', 'win_5'],\n",
       "       ['#5 (well #4 post stim 4)/data.raw_20240415_18h04m.pkl',\n",
       "        '52.916666666666664', 'win_6'],\n",
       "       ['#5 (well #4 post stim 4)/data.raw_20240415_18h04m.pkl',\n",
       "        '52.916666666666664', 'win_7'],\n",
       "       ['#5 (well #4 post stim 4)/data.raw_20240415_18h04m.pkl',\n",
       "        '52.916666666666664', 'win_8'],\n",
       "       ['#5 (well #4 post stim 4)/data.raw_20240415_18h04m.pkl',\n",
       "        '52.916666666666664', 'win_9'],\n",
       "       ['#6 (well #5 post stim 1)/data.raw_20240415_18h04m.pkl', '71.35',\n",
       "        'win_0'],\n",
       "       ['#6 (well #5 post stim 1)/data.raw_20240415_18h04m.pkl', '71.35',\n",
       "        'win_1'],\n",
       "       ['#6 (well #5 post stim 1)/data.raw_20240415_18h04m.pkl', '71.35',\n",
       "        'win_2'],\n",
       "       ['#6 (well #5 post stim 1)/data.raw_20240415_18h04m.pkl', '71.35',\n",
       "        'win_3'],\n",
       "       ['#6 (well #5 post stim 1)/data.raw_20240415_18h04m.pkl', '71.35',\n",
       "        'win_4'],\n",
       "       ['#6 (well #5 post stim 1)/data.raw_20240415_18h04m.pkl', '71.35',\n",
       "        'win_5'],\n",
       "       ['#6 (well #5 post stim 1)/data.raw_20240415_18h04m.pkl', '71.35',\n",
       "        'win_6'],\n",
       "       ['#6 (well #5 post stim 1)/data.raw_20240415_18h04m.pkl', '71.35',\n",
       "        'win_7'],\n",
       "       ['#6 (well #5 post stim 1)/data.raw_20240415_18h04m.pkl', '71.35',\n",
       "        'win_8'],\n",
       "       ['#6 (well #5 post stim 1)/data.raw_20240415_18h04m.pkl', '71.35',\n",
       "        'win_9'],\n",
       "       ['#7 (well #5 post stim 2)/data.raw_20240415_18h04m.pkl',\n",
       "        '84.63333333333334', 'win_0'],\n",
       "       ['#7 (well #5 post stim 2)/data.raw_20240415_18h04m.pkl',\n",
       "        '84.63333333333334', 'win_1'],\n",
       "       ['#7 (well #5 post stim 2)/data.raw_20240415_18h04m.pkl',\n",
       "        '84.63333333333334', 'win_2'],\n",
       "       ['#7 (well #5 post stim 2)/data.raw_20240415_18h04m.pkl',\n",
       "        '84.63333333333334', 'win_3'],\n",
       "       ['#7 (well #5 post stim 2)/data.raw_20240415_18h04m.pkl',\n",
       "        '84.63333333333334', 'win_4'],\n",
       "       ['#7 (well #5 post stim 2)/data.raw_20240415_18h04m.pkl',\n",
       "        '84.63333333333334', 'win_5'],\n",
       "       ['#7 (well #5 post stim 2)/data.raw_20240415_18h04m.pkl',\n",
       "        '84.63333333333334', 'win_6'],\n",
       "       ['#7 (well #5 post stim 2)/data.raw_20240415_18h04m.pkl',\n",
       "        '84.63333333333334', 'win_7'],\n",
       "       ['#7 (well #5 post stim 2)/data.raw_20240415_18h04m.pkl',\n",
       "        '84.63333333333334', 'win_8'],\n",
       "       ['#7 (well #5 post stim 2)/data.raw_20240415_18h04m.pkl',\n",
       "        '84.63333333333334', 'win_9'],\n",
       "       ['#8 (well #5 post stim 3)/data.raw_20240415_18h04m.pkl',\n",
       "        '97.91666666666667', 'win_0'],\n",
       "       ['#8 (well #5 post stim 3)/data.raw_20240415_18h04m.pkl',\n",
       "        '97.91666666666667', 'win_1'],\n",
       "       ['#8 (well #5 post stim 3)/data.raw_20240415_18h04m.pkl',\n",
       "        '97.91666666666667', 'win_2'],\n",
       "       ['#8 (well #5 post stim 3)/data.raw_20240415_18h04m.pkl',\n",
       "        '97.91666666666667', 'win_3'],\n",
       "       ['#8 (well #5 post stim 3)/data.raw_20240415_18h04m.pkl',\n",
       "        '97.91666666666667', 'win_4'],\n",
       "       ['#8 (well #5 post stim 3)/data.raw_20240415_18h04m.pkl',\n",
       "        '97.91666666666667', 'win_5'],\n",
       "       ['#8 (well #5 post stim 3)/data.raw_20240415_18h04m.pkl',\n",
       "        '97.91666666666667', 'win_6'],\n",
       "       ['#8 (well #5 post stim 3)/data.raw_20240415_18h04m.pkl',\n",
       "        '97.91666666666667', 'win_7'],\n",
       "       ['#8 (well #5 post stim 3)/data.raw_20240415_18h04m.pkl',\n",
       "        '97.91666666666667', 'win_8'],\n",
       "       ['#8 (well #5 post stim 3)/data.raw_20240415_18h04m.pkl',\n",
       "        '97.91666666666667', 'win_9'],\n",
       "       ['#9 (well #5 post stim 4)/data.raw_20240415_18h04m.pkl', '111.2',\n",
       "        'win_0'],\n",
       "       ['#9 (well #5 post stim 4)/data.raw_20240415_18h04m.pkl', '111.2',\n",
       "        'win_1'],\n",
       "       ['#9 (well #5 post stim 4)/data.raw_20240415_18h04m.pkl', '111.2',\n",
       "        'win_2'],\n",
       "       ['#9 (well #5 post stim 4)/data.raw_20240415_18h04m.pkl', '111.2',\n",
       "        'win_3'],\n",
       "       ['#9 (well #5 post stim 4)/data.raw_20240415_18h04m.pkl', '111.2',\n",
       "        'win_4'],\n",
       "       ['#9 (well #5 post stim 4)/data.raw_20240415_18h04m.pkl', '111.2',\n",
       "        'win_5'],\n",
       "       ['#9 (well #5 post stim 4)/data.raw_20240415_18h04m.pkl', '111.2',\n",
       "        'win_6'],\n",
       "       ['#9 (well #5 post stim 4)/data.raw_20240415_18h04m.pkl', '111.2',\n",
       "        'win_7'],\n",
       "       ['#9 (well #5 post stim 4)/data.raw_20240415_18h04m.pkl', '111.2',\n",
       "        'win_8'],\n",
       "       ['#9 (well #5 post stim 4)/data.raw_20240415_18h04m.pkl', '111.2',\n",
       "        'win_9'],\n",
       "       ['#10 (well #6 post stim 1)/data.raw_20240415_18h04m.pkl',\n",
       "        '132.16666666666666', 'win_0'],\n",
       "       ['#10 (well #6 post stim 1)/data.raw_20240415_18h04m.pkl',\n",
       "        '132.16666666666666', 'win_1'],\n",
       "       ['#10 (well #6 post stim 1)/data.raw_20240415_18h04m.pkl',\n",
       "        '132.16666666666666', 'win_2'],\n",
       "       ['#10 (well #6 post stim 1)/data.raw_20240415_18h04m.pkl',\n",
       "        '132.16666666666666', 'win_3'],\n",
       "       ['#10 (well #6 post stim 1)/data.raw_20240415_18h04m.pkl',\n",
       "        '132.16666666666666', 'win_4'],\n",
       "       ['#10 (well #6 post stim 1)/data.raw_20240415_18h04m.pkl',\n",
       "        '132.16666666666666', 'win_5'],\n",
       "       ['#10 (well #6 post stim 1)/data.raw_20240415_18h04m.pkl',\n",
       "        '132.16666666666666', 'win_6'],\n",
       "       ['#10 (well #6 post stim 1)/data.raw_20240415_18h04m.pkl',\n",
       "        '132.16666666666666', 'win_7'],\n",
       "       ['#10 (well #6 post stim 1)/data.raw_20240415_18h04m.pkl',\n",
       "        '132.16666666666666', 'win_8'],\n",
       "       ['#10 (well #6 post stim 1)/data.raw_20240415_18h04m.pkl',\n",
       "        '132.16666666666666', 'win_9'],\n",
       "       ['#11 (well #6 post stim 2)/data.raw_20240415_18h04m.pkl',\n",
       "        '145.41666666666666', 'win_0'],\n",
       "       ['#11 (well #6 post stim 2)/data.raw_20240415_18h04m.pkl',\n",
       "        '145.41666666666666', 'win_1'],\n",
       "       ['#11 (well #6 post stim 2)/data.raw_20240415_18h04m.pkl',\n",
       "        '145.41666666666666', 'win_2'],\n",
       "       ['#11 (well #6 post stim 2)/data.raw_20240415_18h04m.pkl',\n",
       "        '145.41666666666666', 'win_3'],\n",
       "       ['#11 (well #6 post stim 2)/data.raw_20240415_18h04m.pkl',\n",
       "        '145.41666666666666', 'win_4'],\n",
       "       ['#11 (well #6 post stim 2)/data.raw_20240415_18h04m.pkl',\n",
       "        '145.41666666666666', 'win_5'],\n",
       "       ['#11 (well #6 post stim 2)/data.raw_20240415_18h04m.pkl',\n",
       "        '145.41666666666666', 'win_6'],\n",
       "       ['#11 (well #6 post stim 2)/data.raw_20240415_18h04m.pkl',\n",
       "        '145.41666666666666', 'win_7'],\n",
       "       ['#11 (well #6 post stim 2)/data.raw_20240415_18h04m.pkl',\n",
       "        '145.41666666666666', 'win_8'],\n",
       "       ['#11 (well #6 post stim 2)/data.raw_20240415_18h04m.pkl',\n",
       "        '145.41666666666666', 'win_9'],\n",
       "       ['#12 (well #6 post stim 3)/data.raw_20240415_18h04m.pkl',\n",
       "        '158.65', 'win_0'],\n",
       "       ['#12 (well #6 post stim 3)/data.raw_20240415_18h04m.pkl',\n",
       "        '158.65', 'win_1'],\n",
       "       ['#12 (well #6 post stim 3)/data.raw_20240415_18h04m.pkl',\n",
       "        '158.65', 'win_2'],\n",
       "       ['#12 (well #6 post stim 3)/data.raw_20240415_18h04m.pkl',\n",
       "        '158.65', 'win_3'],\n",
       "       ['#12 (well #6 post stim 3)/data.raw_20240415_18h04m.pkl',\n",
       "        '158.65', 'win_4'],\n",
       "       ['#12 (well #6 post stim 3)/data.raw_20240415_18h04m.pkl',\n",
       "        '158.65', 'win_5'],\n",
       "       ['#12 (well #6 post stim 3)/data.raw_20240415_18h04m.pkl',\n",
       "        '158.65', 'win_6'],\n",
       "       ['#12 (well #6 post stim 3)/data.raw_20240415_18h04m.pkl',\n",
       "        '158.65', 'win_7'],\n",
       "       ['#12 (well #6 post stim 3)/data.raw_20240415_18h04m.pkl',\n",
       "        '158.65', 'win_8'],\n",
       "       ['#12 (well #6 post stim 3)/data.raw_20240415_18h04m.pkl',\n",
       "        '158.65', 'win_9'],\n",
       "       ['#13 (well #6 post stim 4)/data.raw_20240415_18h04m.pkl',\n",
       "        '171.9', 'win_0'],\n",
       "       ['#13 (well #6 post stim 4)/data.raw_20240415_18h04m.pkl',\n",
       "        '171.9', 'win_1'],\n",
       "       ['#13 (well #6 post stim 4)/data.raw_20240415_18h04m.pkl',\n",
       "        '171.9', 'win_2'],\n",
       "       ['#13 (well #6 post stim 4)/data.raw_20240415_18h04m.pkl',\n",
       "        '171.9', 'win_3'],\n",
       "       ['#13 (well #6 post stim 4)/data.raw_20240415_18h04m.pkl',\n",
       "        '171.9', 'win_4'],\n",
       "       ['#13 (well #6 post stim 4)/data.raw_20240415_18h04m.pkl',\n",
       "        '171.9', 'win_5'],\n",
       "       ['#13 (well #6 post stim 4)/data.raw_20240415_18h04m.pkl',\n",
       "        '171.9', 'win_6'],\n",
       "       ['#13 (well #6 post stim 4)/data.raw_20240415_18h04m.pkl',\n",
       "        '171.9', 'win_7'],\n",
       "       ['#13 (well #6 post stim 4)/data.raw_20240415_18h04m.pkl',\n",
       "        '171.9', 'win_8'],\n",
       "       ['#13 (well #6 post stim 4)/data.raw_20240415_18h04m.pkl',\n",
       "        '171.9', 'win_9'],\n",
       "       ['#14 (Well #4 180 min, Well #5 120 min, Well #6 60 min)/data.raw_20240415_18h04m.pkl',\n",
       "        '192.03333333333333', 'win_0'],\n",
       "       ['#14 (Well #4 180 min, Well #5 120 min, Well #6 60 min)/data.raw_20240415_18h04m.pkl',\n",
       "        '192.03333333333333', 'win_1'],\n",
       "       ['#14 (Well #4 180 min, Well #5 120 min, Well #6 60 min)/data.raw_20240415_18h04m.pkl',\n",
       "        '192.03333333333333', 'win_2'],\n",
       "       ['#14 (Well #4 180 min, Well #5 120 min, Well #6 60 min)/data.raw_20240415_18h04m.pkl',\n",
       "        '192.03333333333333', 'win_3'],\n",
       "       ['#14 (Well #4 180 min, Well #5 120 min, Well #6 60 min)/data.raw_20240415_18h04m.pkl',\n",
       "        '192.03333333333333', 'win_4'],\n",
       "       ['#14 (Well #4 180 min, Well #5 120 min, Well #6 60 min)/data.raw_20240415_18h04m.pkl',\n",
       "        '192.03333333333333', 'win_5'],\n",
       "       ['#14 (Well #4 180 min, Well #5 120 min, Well #6 60 min)/data.raw_20240415_18h04m.pkl',\n",
       "        '192.03333333333333', 'win_6'],\n",
       "       ['#14 (Well #4 180 min, Well #5 120 min, Well #6 60 min)/data.raw_20240415_18h04m.pkl',\n",
       "        '192.03333333333333', 'win_7'],\n",
       "       ['#14 (Well #4 180 min, Well #5 120 min, Well #6 60 min)/data.raw_20240415_18h04m.pkl',\n",
       "        '192.03333333333333', 'win_8'],\n",
       "       ['#14 (Well #4 180 min, Well #5 120 min, Well #6 60 min)/data.raw_20240415_18h04m.pkl',\n",
       "        '192.03333333333333', 'win_9'],\n",
       "       ['#15 (Well #4 210 minutes after, Well #5 150 minutes after, Well #6 90 mintes after/data.raw_20240415_18h04m.pkl',\n",
       "        '221.88333333333333', 'win_0'],\n",
       "       ['#15 (Well #4 210 minutes after, Well #5 150 minutes after, Well #6 90 mintes after/data.raw_20240415_18h04m.pkl',\n",
       "        '221.88333333333333', 'win_1'],\n",
       "       ['#15 (Well #4 210 minutes after, Well #5 150 minutes after, Well #6 90 mintes after/data.raw_20240415_18h04m.pkl',\n",
       "        '221.88333333333333', 'win_2'],\n",
       "       ['#15 (Well #4 210 minutes after, Well #5 150 minutes after, Well #6 90 mintes after/data.raw_20240415_18h04m.pkl',\n",
       "        '221.88333333333333', 'win_3'],\n",
       "       ['#15 (Well #4 210 minutes after, Well #5 150 minutes after, Well #6 90 mintes after/data.raw_20240415_18h04m.pkl',\n",
       "        '221.88333333333333', 'win_4'],\n",
       "       ['#15 (Well #4 210 minutes after, Well #5 150 minutes after, Well #6 90 mintes after/data.raw_20240415_18h04m.pkl',\n",
       "        '221.88333333333333', 'win_5'],\n",
       "       ['#15 (Well #4 210 minutes after, Well #5 150 minutes after, Well #6 90 mintes after/data.raw_20240415_18h04m.pkl',\n",
       "        '221.88333333333333', 'win_6'],\n",
       "       ['#15 (Well #4 210 minutes after, Well #5 150 minutes after, Well #6 90 mintes after/data.raw_20240415_18h04m.pkl',\n",
       "        '221.88333333333333', 'win_7'],\n",
       "       ['#15 (Well #4 210 minutes after, Well #5 150 minutes after, Well #6 90 mintes after/data.raw_20240415_18h04m.pkl',\n",
       "        '221.88333333333333', 'win_8'],\n",
       "       ['#15 (Well #4 210 minutes after, Well #5 150 minutes after, Well #6 90 mintes after/data.raw_20240415_18h04m.pkl',\n",
       "        '221.88333333333333', 'win_9'],\n",
       "       ['#16 (Well #4 240 minutes after, Well #5 180 minutes after, Well #6 120 mintes after)/data.raw_20240415_18h04m.pkl',\n",
       "        '250.95', 'win_0'],\n",
       "       ['#16 (Well #4 240 minutes after, Well #5 180 minutes after, Well #6 120 mintes after)/data.raw_20240415_18h04m.pkl',\n",
       "        '250.95', 'win_1'],\n",
       "       ['#16 (Well #4 240 minutes after, Well #5 180 minutes after, Well #6 120 mintes after)/data.raw_20240415_18h04m.pkl',\n",
       "        '250.95', 'win_2'],\n",
       "       ['#16 (Well #4 240 minutes after, Well #5 180 minutes after, Well #6 120 mintes after)/data.raw_20240415_18h04m.pkl',\n",
       "        '250.95', 'win_3'],\n",
       "       ['#16 (Well #4 240 minutes after, Well #5 180 minutes after, Well #6 120 mintes after)/data.raw_20240415_18h04m.pkl',\n",
       "        '250.95', 'win_4'],\n",
       "       ['#16 (Well #4 240 minutes after, Well #5 180 minutes after, Well #6 120 mintes after)/data.raw_20240415_18h04m.pkl',\n",
       "        '250.95', 'win_5'],\n",
       "       ['#16 (Well #4 240 minutes after, Well #5 180 minutes after, Well #6 120 mintes after)/data.raw_20240415_18h04m.pkl',\n",
       "        '250.95', 'win_6'],\n",
       "       ['#16 (Well #4 240 minutes after, Well #5 180 minutes after, Well #6 120 mintes after)/data.raw_20240415_18h04m.pkl',\n",
       "        '250.95', 'win_7'],\n",
       "       ['#16 (Well #4 240 minutes after, Well #5 180 minutes after, Well #6 120 mintes after)/data.raw_20240415_18h04m.pkl',\n",
       "        '250.95', 'win_8'],\n",
       "       ['#16 (Well #4 240 minutes after, Well #5 180 minutes after, Well #6 120 mintes after)/data.raw_20240415_18h04m.pkl',\n",
       "        '250.95', 'win_9'],\n",
       "       ['#17 (310 minutes after, Well #5 210 minutes after, Well #6 150 mintes after)/data.raw_20240415_18h04m.pkl',\n",
       "        '281.6666666666667', 'win_0'],\n",
       "       ['#17 (310 minutes after, Well #5 210 minutes after, Well #6 150 mintes after)/data.raw_20240415_18h04m.pkl',\n",
       "        '281.6666666666667', 'win_1'],\n",
       "       ['#17 (310 minutes after, Well #5 210 minutes after, Well #6 150 mintes after)/data.raw_20240415_18h04m.pkl',\n",
       "        '281.6666666666667', 'win_2'],\n",
       "       ['#17 (310 minutes after, Well #5 210 minutes after, Well #6 150 mintes after)/data.raw_20240415_18h04m.pkl',\n",
       "        '281.6666666666667', 'win_3'],\n",
       "       ['#17 (310 minutes after, Well #5 210 minutes after, Well #6 150 mintes after)/data.raw_20240415_18h04m.pkl',\n",
       "        '281.6666666666667', 'win_4'],\n",
       "       ['#17 (310 minutes after, Well #5 210 minutes after, Well #6 150 mintes after)/data.raw_20240415_18h04m.pkl',\n",
       "        '281.6666666666667', 'win_5'],\n",
       "       ['#17 (310 minutes after, Well #5 210 minutes after, Well #6 150 mintes after)/data.raw_20240415_18h04m.pkl',\n",
       "        '281.6666666666667', 'win_6'],\n",
       "       ['#17 (310 minutes after, Well #5 210 minutes after, Well #6 150 mintes after)/data.raw_20240415_18h04m.pkl',\n",
       "        '281.6666666666667', 'win_7'],\n",
       "       ['#17 (310 minutes after, Well #5 210 minutes after, Well #6 150 mintes after)/data.raw_20240415_18h04m.pkl',\n",
       "        '281.6666666666667', 'win_8'],\n",
       "       ['#17 (310 minutes after, Well #5 210 minutes after, Well #6 150 mintes after)/data.raw_20240415_18h04m.pkl',\n",
       "        '281.6666666666667', 'win_9'],\n",
       "       ['#18 (340 minutes after, Well #5 240 minutes after, Well #6 180 mintes after)/data.raw_20240415_18h04m.pkl',\n",
       "        '311.05', 'win_0'],\n",
       "       ['#18 (340 minutes after, Well #5 240 minutes after, Well #6 180 mintes after)/data.raw_20240415_18h04m.pkl',\n",
       "        '311.05', 'win_1'],\n",
       "       ['#18 (340 minutes after, Well #5 240 minutes after, Well #6 180 mintes after)/data.raw_20240415_18h04m.pkl',\n",
       "        '311.05', 'win_2'],\n",
       "       ['#18 (340 minutes after, Well #5 240 minutes after, Well #6 180 mintes after)/data.raw_20240415_18h04m.pkl',\n",
       "        '311.05', 'win_3'],\n",
       "       ['#18 (340 minutes after, Well #5 240 minutes after, Well #6 180 mintes after)/data.raw_20240415_18h04m.pkl',\n",
       "        '311.05', 'win_4'],\n",
       "       ['#18 (340 minutes after, Well #5 240 minutes after, Well #6 180 mintes after)/data.raw_20240415_18h04m.pkl',\n",
       "        '311.05', 'win_5'],\n",
       "       ['#18 (340 minutes after, Well #5 240 minutes after, Well #6 180 mintes after)/data.raw_20240415_18h04m.pkl',\n",
       "        '311.05', 'win_6'],\n",
       "       ['#18 (340 minutes after, Well #5 240 minutes after, Well #6 180 mintes after)/data.raw_20240415_18h04m.pkl',\n",
       "        '311.05', 'win_7'],\n",
       "       ['#18 (340 minutes after, Well #5 240 minutes after, Well #6 180 mintes after)/data.raw_20240415_18h04m.pkl',\n",
       "        '311.05', 'win_8'],\n",
       "       ['#18 (340 minutes after, Well #5 240 minutes after, Well #6 180 mintes after)/data.raw_20240415_18h04m.pkl',\n",
       "        '311.05', 'win_9']], dtype='<U113')"
      ]
     },
     "execution_count": 43,
     "metadata": {},
     "output_type": "execute_result"
    }
   ],
   "source": [
    "repeated_data = np.repeat(data_structure, 10, axis=0)\n",
    "final_data = np.vstack((repeated_data[:, 0], repeated_data[:, 1])).T\n",
    "window = np.array(all_win * len(time_diff)).reshape((-1, 1))\n",
    "final_data = np.hstack((final_data, window))\n",
    "final_data"
   ]
  },
  {
   "cell_type": "code",
   "execution_count": 44,
   "metadata": {},
   "outputs": [
    {
     "data": {
      "text/plain": [
       "array([['#1 (baseline)/data.raw_20240415_18h04m.pkl', '0.0', 'win_0'],\n",
       "       ['#1 (baseline)/data.raw_20240415_18h04m.pkl', '1.0', 'win_1'],\n",
       "       ['#1 (baseline)/data.raw_20240415_18h04m.pkl', '2.0', 'win_2'],\n",
       "       ['#1 (baseline)/data.raw_20240415_18h04m.pkl', '3.0', 'win_3'],\n",
       "       ['#1 (baseline)/data.raw_20240415_18h04m.pkl', '4.0', 'win_4'],\n",
       "       ['#1 (baseline)/data.raw_20240415_18h04m.pkl', '5.0', 'win_5'],\n",
       "       ['#1 (baseline)/data.raw_20240415_18h04m.pkl', '6.0', 'win_6'],\n",
       "       ['#1 (baseline)/data.raw_20240415_18h04m.pkl', '7.0', 'win_7'],\n",
       "       ['#1 (baseline)/data.raw_20240415_18h04m.pkl', '8.0', 'win_8'],\n",
       "       ['#1 (baseline)/data.raw_20240415_18h04m.pkl', '9.0', 'win_9'],\n",
       "       ['#2 (well #4 post stim 1)/data.raw_20240415_18h04m.pkl',\n",
       "        '13.216666666666667', 'win_0'],\n",
       "       ['#2 (well #4 post stim 1)/data.raw_20240415_18h04m.pkl',\n",
       "        '14.216666666666667', 'win_1'],\n",
       "       ['#2 (well #4 post stim 1)/data.raw_20240415_18h04m.pkl',\n",
       "        '15.216666666666667', 'win_2'],\n",
       "       ['#2 (well #4 post stim 1)/data.raw_20240415_18h04m.pkl',\n",
       "        '16.21666666666667', 'win_3'],\n",
       "       ['#2 (well #4 post stim 1)/data.raw_20240415_18h04m.pkl',\n",
       "        '17.21666666666667', 'win_4'],\n",
       "       ['#2 (well #4 post stim 1)/data.raw_20240415_18h04m.pkl',\n",
       "        '18.21666666666667', 'win_5'],\n",
       "       ['#2 (well #4 post stim 1)/data.raw_20240415_18h04m.pkl',\n",
       "        '19.21666666666667', 'win_6'],\n",
       "       ['#2 (well #4 post stim 1)/data.raw_20240415_18h04m.pkl',\n",
       "        '20.21666666666667', 'win_7'],\n",
       "       ['#2 (well #4 post stim 1)/data.raw_20240415_18h04m.pkl',\n",
       "        '21.21666666666667', 'win_8'],\n",
       "       ['#2 (well #4 post stim 1)/data.raw_20240415_18h04m.pkl',\n",
       "        '22.21666666666667', 'win_9'],\n",
       "       ['#3 (well #4 post stim 2)/data.raw_20240415_18h04m.pkl',\n",
       "        '26.433333333333334', 'win_0'],\n",
       "       ['#3 (well #4 post stim 2)/data.raw_20240415_18h04m.pkl',\n",
       "        '27.433333333333334', 'win_1'],\n",
       "       ['#3 (well #4 post stim 2)/data.raw_20240415_18h04m.pkl',\n",
       "        '28.433333333333334', 'win_2'],\n",
       "       ['#3 (well #4 post stim 2)/data.raw_20240415_18h04m.pkl',\n",
       "        '29.433333333333334', 'win_3'],\n",
       "       ['#3 (well #4 post stim 2)/data.raw_20240415_18h04m.pkl',\n",
       "        '30.433333333333334', 'win_4'],\n",
       "       ['#3 (well #4 post stim 2)/data.raw_20240415_18h04m.pkl',\n",
       "        '31.433333333333334', 'win_5'],\n",
       "       ['#3 (well #4 post stim 2)/data.raw_20240415_18h04m.pkl',\n",
       "        '32.43333333333334', 'win_6'],\n",
       "       ['#3 (well #4 post stim 2)/data.raw_20240415_18h04m.pkl',\n",
       "        '33.43333333333334', 'win_7'],\n",
       "       ['#3 (well #4 post stim 2)/data.raw_20240415_18h04m.pkl',\n",
       "        '34.43333333333334', 'win_8'],\n",
       "       ['#3 (well #4 post stim 2)/data.raw_20240415_18h04m.pkl',\n",
       "        '35.43333333333334', 'win_9'],\n",
       "       ['#4 (well #4 post stim 3)/data.raw_20240415_18h04m.pkl',\n",
       "        '39.666666666666664', 'win_0'],\n",
       "       ['#4 (well #4 post stim 3)/data.raw_20240415_18h04m.pkl',\n",
       "        '40.666666666666664', 'win_1'],\n",
       "       ['#4 (well #4 post stim 3)/data.raw_20240415_18h04m.pkl',\n",
       "        '41.666666666666664', 'win_2'],\n",
       "       ['#4 (well #4 post stim 3)/data.raw_20240415_18h04m.pkl',\n",
       "        '42.666666666666664', 'win_3'],\n",
       "       ['#4 (well #4 post stim 3)/data.raw_20240415_18h04m.pkl',\n",
       "        '43.666666666666664', 'win_4'],\n",
       "       ['#4 (well #4 post stim 3)/data.raw_20240415_18h04m.pkl',\n",
       "        '44.666666666666664', 'win_5'],\n",
       "       ['#4 (well #4 post stim 3)/data.raw_20240415_18h04m.pkl',\n",
       "        '45.666666666666664', 'win_6'],\n",
       "       ['#4 (well #4 post stim 3)/data.raw_20240415_18h04m.pkl',\n",
       "        '46.666666666666664', 'win_7'],\n",
       "       ['#4 (well #4 post stim 3)/data.raw_20240415_18h04m.pkl',\n",
       "        '47.666666666666664', 'win_8'],\n",
       "       ['#4 (well #4 post stim 3)/data.raw_20240415_18h04m.pkl',\n",
       "        '48.666666666666664', 'win_9'],\n",
       "       ['#5 (well #4 post stim 4)/data.raw_20240415_18h04m.pkl',\n",
       "        '52.916666666666664', 'win_0'],\n",
       "       ['#5 (well #4 post stim 4)/data.raw_20240415_18h04m.pkl',\n",
       "        '53.916666666666664', 'win_1'],\n",
       "       ['#5 (well #4 post stim 4)/data.raw_20240415_18h04m.pkl',\n",
       "        '54.916666666666664', 'win_2'],\n",
       "       ['#5 (well #4 post stim 4)/data.raw_20240415_18h04m.pkl',\n",
       "        '55.916666666666664', 'win_3'],\n",
       "       ['#5 (well #4 post stim 4)/data.raw_20240415_18h04m.pkl',\n",
       "        '56.916666666666664', 'win_4'],\n",
       "       ['#5 (well #4 post stim 4)/data.raw_20240415_18h04m.pkl',\n",
       "        '57.916666666666664', 'win_5'],\n",
       "       ['#5 (well #4 post stim 4)/data.raw_20240415_18h04m.pkl',\n",
       "        '58.916666666666664', 'win_6'],\n",
       "       ['#5 (well #4 post stim 4)/data.raw_20240415_18h04m.pkl',\n",
       "        '59.916666666666664', 'win_7'],\n",
       "       ['#5 (well #4 post stim 4)/data.raw_20240415_18h04m.pkl',\n",
       "        '60.916666666666664', 'win_8'],\n",
       "       ['#5 (well #4 post stim 4)/data.raw_20240415_18h04m.pkl',\n",
       "        '61.916666666666664', 'win_9'],\n",
       "       ['#6 (well #5 post stim 1)/data.raw_20240415_18h04m.pkl', '71.35',\n",
       "        'win_0'],\n",
       "       ['#6 (well #5 post stim 1)/data.raw_20240415_18h04m.pkl', '72.35',\n",
       "        'win_1'],\n",
       "       ['#6 (well #5 post stim 1)/data.raw_20240415_18h04m.pkl', '73.35',\n",
       "        'win_2'],\n",
       "       ['#6 (well #5 post stim 1)/data.raw_20240415_18h04m.pkl', '74.35',\n",
       "        'win_3'],\n",
       "       ['#6 (well #5 post stim 1)/data.raw_20240415_18h04m.pkl', '75.35',\n",
       "        'win_4'],\n",
       "       ['#6 (well #5 post stim 1)/data.raw_20240415_18h04m.pkl', '76.35',\n",
       "        'win_5'],\n",
       "       ['#6 (well #5 post stim 1)/data.raw_20240415_18h04m.pkl', '77.35',\n",
       "        'win_6'],\n",
       "       ['#6 (well #5 post stim 1)/data.raw_20240415_18h04m.pkl', '78.35',\n",
       "        'win_7'],\n",
       "       ['#6 (well #5 post stim 1)/data.raw_20240415_18h04m.pkl', '79.35',\n",
       "        'win_8'],\n",
       "       ['#6 (well #5 post stim 1)/data.raw_20240415_18h04m.pkl', '80.35',\n",
       "        'win_9'],\n",
       "       ['#7 (well #5 post stim 2)/data.raw_20240415_18h04m.pkl',\n",
       "        '84.63333333333334', 'win_0'],\n",
       "       ['#7 (well #5 post stim 2)/data.raw_20240415_18h04m.pkl',\n",
       "        '85.63333333333334', 'win_1'],\n",
       "       ['#7 (well #5 post stim 2)/data.raw_20240415_18h04m.pkl',\n",
       "        '86.63333333333334', 'win_2'],\n",
       "       ['#7 (well #5 post stim 2)/data.raw_20240415_18h04m.pkl',\n",
       "        '87.63333333333334', 'win_3'],\n",
       "       ['#7 (well #5 post stim 2)/data.raw_20240415_18h04m.pkl',\n",
       "        '88.63333333333334', 'win_4'],\n",
       "       ['#7 (well #5 post stim 2)/data.raw_20240415_18h04m.pkl',\n",
       "        '89.63333333333334', 'win_5'],\n",
       "       ['#7 (well #5 post stim 2)/data.raw_20240415_18h04m.pkl',\n",
       "        '90.63333333333334', 'win_6'],\n",
       "       ['#7 (well #5 post stim 2)/data.raw_20240415_18h04m.pkl',\n",
       "        '91.63333333333334', 'win_7'],\n",
       "       ['#7 (well #5 post stim 2)/data.raw_20240415_18h04m.pkl',\n",
       "        '92.63333333333334', 'win_8'],\n",
       "       ['#7 (well #5 post stim 2)/data.raw_20240415_18h04m.pkl',\n",
       "        '93.63333333333334', 'win_9'],\n",
       "       ['#8 (well #5 post stim 3)/data.raw_20240415_18h04m.pkl',\n",
       "        '97.91666666666667', 'win_0'],\n",
       "       ['#8 (well #5 post stim 3)/data.raw_20240415_18h04m.pkl',\n",
       "        '98.91666666666667', 'win_1'],\n",
       "       ['#8 (well #5 post stim 3)/data.raw_20240415_18h04m.pkl',\n",
       "        '99.91666666666667', 'win_2'],\n",
       "       ['#8 (well #5 post stim 3)/data.raw_20240415_18h04m.pkl',\n",
       "        '100.91666666666667', 'win_3'],\n",
       "       ['#8 (well #5 post stim 3)/data.raw_20240415_18h04m.pkl',\n",
       "        '101.91666666666667', 'win_4'],\n",
       "       ['#8 (well #5 post stim 3)/data.raw_20240415_18h04m.pkl',\n",
       "        '102.91666666666667', 'win_5'],\n",
       "       ['#8 (well #5 post stim 3)/data.raw_20240415_18h04m.pkl',\n",
       "        '103.91666666666667', 'win_6'],\n",
       "       ['#8 (well #5 post stim 3)/data.raw_20240415_18h04m.pkl',\n",
       "        '104.91666666666667', 'win_7'],\n",
       "       ['#8 (well #5 post stim 3)/data.raw_20240415_18h04m.pkl',\n",
       "        '105.91666666666667', 'win_8'],\n",
       "       ['#8 (well #5 post stim 3)/data.raw_20240415_18h04m.pkl',\n",
       "        '106.91666666666667', 'win_9'],\n",
       "       ['#9 (well #5 post stim 4)/data.raw_20240415_18h04m.pkl', '111.2',\n",
       "        'win_0'],\n",
       "       ['#9 (well #5 post stim 4)/data.raw_20240415_18h04m.pkl', '112.2',\n",
       "        'win_1'],\n",
       "       ['#9 (well #5 post stim 4)/data.raw_20240415_18h04m.pkl', '113.2',\n",
       "        'win_2'],\n",
       "       ['#9 (well #5 post stim 4)/data.raw_20240415_18h04m.pkl', '114.2',\n",
       "        'win_3'],\n",
       "       ['#9 (well #5 post stim 4)/data.raw_20240415_18h04m.pkl', '115.2',\n",
       "        'win_4'],\n",
       "       ['#9 (well #5 post stim 4)/data.raw_20240415_18h04m.pkl', '116.2',\n",
       "        'win_5'],\n",
       "       ['#9 (well #5 post stim 4)/data.raw_20240415_18h04m.pkl', '117.2',\n",
       "        'win_6'],\n",
       "       ['#9 (well #5 post stim 4)/data.raw_20240415_18h04m.pkl', '118.2',\n",
       "        'win_7'],\n",
       "       ['#9 (well #5 post stim 4)/data.raw_20240415_18h04m.pkl', '119.2',\n",
       "        'win_8'],\n",
       "       ['#9 (well #5 post stim 4)/data.raw_20240415_18h04m.pkl', '120.2',\n",
       "        'win_9'],\n",
       "       ['#10 (well #6 post stim 1)/data.raw_20240415_18h04m.pkl',\n",
       "        '132.16666666666666', 'win_0'],\n",
       "       ['#10 (well #6 post stim 1)/data.raw_20240415_18h04m.pkl',\n",
       "        '133.16666666666666', 'win_1'],\n",
       "       ['#10 (well #6 post stim 1)/data.raw_20240415_18h04m.pkl',\n",
       "        '134.16666666666666', 'win_2'],\n",
       "       ['#10 (well #6 post stim 1)/data.raw_20240415_18h04m.pkl',\n",
       "        '135.16666666666666', 'win_3'],\n",
       "       ['#10 (well #6 post stim 1)/data.raw_20240415_18h04m.pkl',\n",
       "        '136.16666666666666', 'win_4'],\n",
       "       ['#10 (well #6 post stim 1)/data.raw_20240415_18h04m.pkl',\n",
       "        '137.16666666666666', 'win_5'],\n",
       "       ['#10 (well #6 post stim 1)/data.raw_20240415_18h04m.pkl',\n",
       "        '138.16666666666666', 'win_6'],\n",
       "       ['#10 (well #6 post stim 1)/data.raw_20240415_18h04m.pkl',\n",
       "        '139.16666666666666', 'win_7'],\n",
       "       ['#10 (well #6 post stim 1)/data.raw_20240415_18h04m.pkl',\n",
       "        '140.16666666666666', 'win_8'],\n",
       "       ['#10 (well #6 post stim 1)/data.raw_20240415_18h04m.pkl',\n",
       "        '141.16666666666666', 'win_9'],\n",
       "       ['#11 (well #6 post stim 2)/data.raw_20240415_18h04m.pkl',\n",
       "        '145.41666666666666', 'win_0'],\n",
       "       ['#11 (well #6 post stim 2)/data.raw_20240415_18h04m.pkl',\n",
       "        '146.41666666666666', 'win_1'],\n",
       "       ['#11 (well #6 post stim 2)/data.raw_20240415_18h04m.pkl',\n",
       "        '147.41666666666666', 'win_2'],\n",
       "       ['#11 (well #6 post stim 2)/data.raw_20240415_18h04m.pkl',\n",
       "        '148.41666666666666', 'win_3'],\n",
       "       ['#11 (well #6 post stim 2)/data.raw_20240415_18h04m.pkl',\n",
       "        '149.41666666666666', 'win_4'],\n",
       "       ['#11 (well #6 post stim 2)/data.raw_20240415_18h04m.pkl',\n",
       "        '150.41666666666666', 'win_5'],\n",
       "       ['#11 (well #6 post stim 2)/data.raw_20240415_18h04m.pkl',\n",
       "        '151.41666666666666', 'win_6'],\n",
       "       ['#11 (well #6 post stim 2)/data.raw_20240415_18h04m.pkl',\n",
       "        '152.41666666666666', 'win_7'],\n",
       "       ['#11 (well #6 post stim 2)/data.raw_20240415_18h04m.pkl',\n",
       "        '153.41666666666666', 'win_8'],\n",
       "       ['#11 (well #6 post stim 2)/data.raw_20240415_18h04m.pkl',\n",
       "        '154.41666666666666', 'win_9'],\n",
       "       ['#12 (well #6 post stim 3)/data.raw_20240415_18h04m.pkl',\n",
       "        '158.65', 'win_0'],\n",
       "       ['#12 (well #6 post stim 3)/data.raw_20240415_18h04m.pkl',\n",
       "        '159.65', 'win_1'],\n",
       "       ['#12 (well #6 post stim 3)/data.raw_20240415_18h04m.pkl',\n",
       "        '160.65', 'win_2'],\n",
       "       ['#12 (well #6 post stim 3)/data.raw_20240415_18h04m.pkl',\n",
       "        '161.65', 'win_3'],\n",
       "       ['#12 (well #6 post stim 3)/data.raw_20240415_18h04m.pkl',\n",
       "        '162.65', 'win_4'],\n",
       "       ['#12 (well #6 post stim 3)/data.raw_20240415_18h04m.pkl',\n",
       "        '163.65', 'win_5'],\n",
       "       ['#12 (well #6 post stim 3)/data.raw_20240415_18h04m.pkl',\n",
       "        '164.65', 'win_6'],\n",
       "       ['#12 (well #6 post stim 3)/data.raw_20240415_18h04m.pkl',\n",
       "        '165.65', 'win_7'],\n",
       "       ['#12 (well #6 post stim 3)/data.raw_20240415_18h04m.pkl',\n",
       "        '166.65', 'win_8'],\n",
       "       ['#12 (well #6 post stim 3)/data.raw_20240415_18h04m.pkl',\n",
       "        '167.65', 'win_9'],\n",
       "       ['#13 (well #6 post stim 4)/data.raw_20240415_18h04m.pkl',\n",
       "        '171.9', 'win_0'],\n",
       "       ['#13 (well #6 post stim 4)/data.raw_20240415_18h04m.pkl',\n",
       "        '172.9', 'win_1'],\n",
       "       ['#13 (well #6 post stim 4)/data.raw_20240415_18h04m.pkl',\n",
       "        '173.9', 'win_2'],\n",
       "       ['#13 (well #6 post stim 4)/data.raw_20240415_18h04m.pkl',\n",
       "        '174.9', 'win_3'],\n",
       "       ['#13 (well #6 post stim 4)/data.raw_20240415_18h04m.pkl',\n",
       "        '175.9', 'win_4'],\n",
       "       ['#13 (well #6 post stim 4)/data.raw_20240415_18h04m.pkl',\n",
       "        '176.9', 'win_5'],\n",
       "       ['#13 (well #6 post stim 4)/data.raw_20240415_18h04m.pkl',\n",
       "        '177.9', 'win_6'],\n",
       "       ['#13 (well #6 post stim 4)/data.raw_20240415_18h04m.pkl',\n",
       "        '178.9', 'win_7'],\n",
       "       ['#13 (well #6 post stim 4)/data.raw_20240415_18h04m.pkl',\n",
       "        '179.9', 'win_8'],\n",
       "       ['#13 (well #6 post stim 4)/data.raw_20240415_18h04m.pkl',\n",
       "        '180.9', 'win_9'],\n",
       "       ['#14 (Well #4 180 min, Well #5 120 min, Well #6 60 min)/data.raw_20240415_18h04m.pkl',\n",
       "        '192.03333333333333', 'win_0'],\n",
       "       ['#14 (Well #4 180 min, Well #5 120 min, Well #6 60 min)/data.raw_20240415_18h04m.pkl',\n",
       "        '193.03333333333333', 'win_1'],\n",
       "       ['#14 (Well #4 180 min, Well #5 120 min, Well #6 60 min)/data.raw_20240415_18h04m.pkl',\n",
       "        '194.03333333333333', 'win_2'],\n",
       "       ['#14 (Well #4 180 min, Well #5 120 min, Well #6 60 min)/data.raw_20240415_18h04m.pkl',\n",
       "        '195.03333333333333', 'win_3'],\n",
       "       ['#14 (Well #4 180 min, Well #5 120 min, Well #6 60 min)/data.raw_20240415_18h04m.pkl',\n",
       "        '196.03333333333333', 'win_4'],\n",
       "       ['#14 (Well #4 180 min, Well #5 120 min, Well #6 60 min)/data.raw_20240415_18h04m.pkl',\n",
       "        '197.03333333333333', 'win_5'],\n",
       "       ['#14 (Well #4 180 min, Well #5 120 min, Well #6 60 min)/data.raw_20240415_18h04m.pkl',\n",
       "        '198.03333333333333', 'win_6'],\n",
       "       ['#14 (Well #4 180 min, Well #5 120 min, Well #6 60 min)/data.raw_20240415_18h04m.pkl',\n",
       "        '199.03333333333333', 'win_7'],\n",
       "       ['#14 (Well #4 180 min, Well #5 120 min, Well #6 60 min)/data.raw_20240415_18h04m.pkl',\n",
       "        '200.03333333333333', 'win_8'],\n",
       "       ['#14 (Well #4 180 min, Well #5 120 min, Well #6 60 min)/data.raw_20240415_18h04m.pkl',\n",
       "        '201.03333333333333', 'win_9'],\n",
       "       ['#15 (Well #4 210 minutes after, Well #5 150 minutes after, Well #6 90 mintes after/data.raw_20240415_18h04m.pkl',\n",
       "        '221.88333333333333', 'win_0'],\n",
       "       ['#15 (Well #4 210 minutes after, Well #5 150 minutes after, Well #6 90 mintes after/data.raw_20240415_18h04m.pkl',\n",
       "        '222.88333333333333', 'win_1'],\n",
       "       ['#15 (Well #4 210 minutes after, Well #5 150 minutes after, Well #6 90 mintes after/data.raw_20240415_18h04m.pkl',\n",
       "        '223.88333333333333', 'win_2'],\n",
       "       ['#15 (Well #4 210 minutes after, Well #5 150 minutes after, Well #6 90 mintes after/data.raw_20240415_18h04m.pkl',\n",
       "        '224.88333333333333', 'win_3'],\n",
       "       ['#15 (Well #4 210 minutes after, Well #5 150 minutes after, Well #6 90 mintes after/data.raw_20240415_18h04m.pkl',\n",
       "        '225.88333333333333', 'win_4'],\n",
       "       ['#15 (Well #4 210 minutes after, Well #5 150 minutes after, Well #6 90 mintes after/data.raw_20240415_18h04m.pkl',\n",
       "        '226.88333333333333', 'win_5'],\n",
       "       ['#15 (Well #4 210 minutes after, Well #5 150 minutes after, Well #6 90 mintes after/data.raw_20240415_18h04m.pkl',\n",
       "        '227.88333333333333', 'win_6'],\n",
       "       ['#15 (Well #4 210 minutes after, Well #5 150 minutes after, Well #6 90 mintes after/data.raw_20240415_18h04m.pkl',\n",
       "        '228.88333333333333', 'win_7'],\n",
       "       ['#15 (Well #4 210 minutes after, Well #5 150 minutes after, Well #6 90 mintes after/data.raw_20240415_18h04m.pkl',\n",
       "        '229.88333333333333', 'win_8'],\n",
       "       ['#15 (Well #4 210 minutes after, Well #5 150 minutes after, Well #6 90 mintes after/data.raw_20240415_18h04m.pkl',\n",
       "        '230.88333333333333', 'win_9'],\n",
       "       ['#16 (Well #4 240 minutes after, Well #5 180 minutes after, Well #6 120 mintes after)/data.raw_20240415_18h04m.pkl',\n",
       "        '250.95', 'win_0'],\n",
       "       ['#16 (Well #4 240 minutes after, Well #5 180 minutes after, Well #6 120 mintes after)/data.raw_20240415_18h04m.pkl',\n",
       "        '251.95', 'win_1'],\n",
       "       ['#16 (Well #4 240 minutes after, Well #5 180 minutes after, Well #6 120 mintes after)/data.raw_20240415_18h04m.pkl',\n",
       "        '252.95', 'win_2'],\n",
       "       ['#16 (Well #4 240 minutes after, Well #5 180 minutes after, Well #6 120 mintes after)/data.raw_20240415_18h04m.pkl',\n",
       "        '253.95', 'win_3'],\n",
       "       ['#16 (Well #4 240 minutes after, Well #5 180 minutes after, Well #6 120 mintes after)/data.raw_20240415_18h04m.pkl',\n",
       "        '254.95', 'win_4'],\n",
       "       ['#16 (Well #4 240 minutes after, Well #5 180 minutes after, Well #6 120 mintes after)/data.raw_20240415_18h04m.pkl',\n",
       "        '255.95', 'win_5'],\n",
       "       ['#16 (Well #4 240 minutes after, Well #5 180 minutes after, Well #6 120 mintes after)/data.raw_20240415_18h04m.pkl',\n",
       "        '256.95', 'win_6'],\n",
       "       ['#16 (Well #4 240 minutes after, Well #5 180 minutes after, Well #6 120 mintes after)/data.raw_20240415_18h04m.pkl',\n",
       "        '257.95', 'win_7'],\n",
       "       ['#16 (Well #4 240 minutes after, Well #5 180 minutes after, Well #6 120 mintes after)/data.raw_20240415_18h04m.pkl',\n",
       "        '258.95', 'win_8'],\n",
       "       ['#16 (Well #4 240 minutes after, Well #5 180 minutes after, Well #6 120 mintes after)/data.raw_20240415_18h04m.pkl',\n",
       "        '259.95', 'win_9'],\n",
       "       ['#17 (310 minutes after, Well #5 210 minutes after, Well #6 150 mintes after)/data.raw_20240415_18h04m.pkl',\n",
       "        '281.6666666666667', 'win_0'],\n",
       "       ['#17 (310 minutes after, Well #5 210 minutes after, Well #6 150 mintes after)/data.raw_20240415_18h04m.pkl',\n",
       "        '282.6666666666667', 'win_1'],\n",
       "       ['#17 (310 minutes after, Well #5 210 minutes after, Well #6 150 mintes after)/data.raw_20240415_18h04m.pkl',\n",
       "        '283.6666666666667', 'win_2'],\n",
       "       ['#17 (310 minutes after, Well #5 210 minutes after, Well #6 150 mintes after)/data.raw_20240415_18h04m.pkl',\n",
       "        '284.6666666666667', 'win_3'],\n",
       "       ['#17 (310 minutes after, Well #5 210 minutes after, Well #6 150 mintes after)/data.raw_20240415_18h04m.pkl',\n",
       "        '285.6666666666667', 'win_4'],\n",
       "       ['#17 (310 minutes after, Well #5 210 minutes after, Well #6 150 mintes after)/data.raw_20240415_18h04m.pkl',\n",
       "        '286.6666666666667', 'win_5'],\n",
       "       ['#17 (310 minutes after, Well #5 210 minutes after, Well #6 150 mintes after)/data.raw_20240415_18h04m.pkl',\n",
       "        '287.6666666666667', 'win_6'],\n",
       "       ['#17 (310 minutes after, Well #5 210 minutes after, Well #6 150 mintes after)/data.raw_20240415_18h04m.pkl',\n",
       "        '288.6666666666667', 'win_7'],\n",
       "       ['#17 (310 minutes after, Well #5 210 minutes after, Well #6 150 mintes after)/data.raw_20240415_18h04m.pkl',\n",
       "        '289.6666666666667', 'win_8'],\n",
       "       ['#17 (310 minutes after, Well #5 210 minutes after, Well #6 150 mintes after)/data.raw_20240415_18h04m.pkl',\n",
       "        '290.6666666666667', 'win_9'],\n",
       "       ['#18 (340 minutes after, Well #5 240 minutes after, Well #6 180 mintes after)/data.raw_20240415_18h04m.pkl',\n",
       "        '311.05', 'win_0'],\n",
       "       ['#18 (340 minutes after, Well #5 240 minutes after, Well #6 180 mintes after)/data.raw_20240415_18h04m.pkl',\n",
       "        '312.05', 'win_1'],\n",
       "       ['#18 (340 minutes after, Well #5 240 minutes after, Well #6 180 mintes after)/data.raw_20240415_18h04m.pkl',\n",
       "        '313.05', 'win_2'],\n",
       "       ['#18 (340 minutes after, Well #5 240 minutes after, Well #6 180 mintes after)/data.raw_20240415_18h04m.pkl',\n",
       "        '314.05', 'win_3'],\n",
       "       ['#18 (340 minutes after, Well #5 240 minutes after, Well #6 180 mintes after)/data.raw_20240415_18h04m.pkl',\n",
       "        '315.05', 'win_4'],\n",
       "       ['#18 (340 minutes after, Well #5 240 minutes after, Well #6 180 mintes after)/data.raw_20240415_18h04m.pkl',\n",
       "        '316.05', 'win_5'],\n",
       "       ['#18 (340 minutes after, Well #5 240 minutes after, Well #6 180 mintes after)/data.raw_20240415_18h04m.pkl',\n",
       "        '317.05', 'win_6'],\n",
       "       ['#18 (340 minutes after, Well #5 240 minutes after, Well #6 180 mintes after)/data.raw_20240415_18h04m.pkl',\n",
       "        '318.05', 'win_7'],\n",
       "       ['#18 (340 minutes after, Well #5 240 minutes after, Well #6 180 mintes after)/data.raw_20240415_18h04m.pkl',\n",
       "        '319.05', 'win_8'],\n",
       "       ['#18 (340 minutes after, Well #5 240 minutes after, Well #6 180 mintes after)/data.raw_20240415_18h04m.pkl',\n",
       "        '320.05', 'win_9']], dtype='<U113')"
      ]
     },
     "execution_count": 44,
     "metadata": {},
     "output_type": "execute_result"
    }
   ],
   "source": [
    "for i in range(len(final_data)):\n",
    "    win = final_data[i][2]\n",
    "    value = float(final_data[i][1])\n",
    "    if win == 'win_0':\n",
    "        final_data[i][1] = str(value + 0)\n",
    "    elif win == 'win_1':\n",
    "        final_data[i][1] = str(value + 1)\n",
    "    elif win == 'win_2':\n",
    "        final_data[i][1] = str(value + 2)\n",
    "    elif win == 'win_3':\n",
    "        final_data[i][1] = str(value + 3)\n",
    "    elif win == 'win_4':\n",
    "        final_data[i][1] = str(value + 4)\n",
    "    elif win == 'win_5':\n",
    "        final_data[i][1] = str(value + 5)\n",
    "    elif win == 'win_6':\n",
    "        final_data[i][1] = str(value + 6)\n",
    "    elif win == 'win_7':\n",
    "        final_data[i][1] = str(value + 7)\n",
    "    elif win == 'win_8':\n",
    "        final_data[i][1] = str(value + 8)\n",
    "    elif win == 'win_9':\n",
    "        final_data[i][1] = str(value + 9)\n",
    "\n",
    "final_data\n"
   ]
  },
  {
   "cell_type": "code",
   "execution_count": 58,
   "metadata": {},
   "outputs": [],
   "source": [
    "well='well004'\n",
    "m=len(sorted_filenames_updated)"
   ]
  },
  {
   "cell_type": "code",
   "execution_count": 59,
   "metadata": {},
   "outputs": [],
   "source": [
    "def filter_matrix_TC(data, well, win):\n",
    "\n",
    "    # Extract necessary data from the loaded data structure\n",
    "    adj_matrix = data[well][win]['adj_matrix_predicted']\n",
    "    votes = data[well][win]['votes']  # This variable is loaded but not used in the snippet you provided\n",
    "    corr_peaks = data[well][win]['corr_peaks']\n",
    "    fs = data['config']['data']['fs']  # Sampling frequency\n",
    "\n",
    "    # Initialize a matrix to track synchronization based on correlation peaks\n",
    "    synced_matrix = np.full(adj_matrix.shape, False)\n",
    "    for key in corr_peaks.keys():\n",
    "        if np.all(np.abs(np.array(corr_peaks[key]['delays'])) < 1/fs):\n",
    "            synced_matrix[key[0], key[1]] = True\n",
    "            synced_matrix[key[1], key[0]] = True\n",
    "\n",
    "    # Create the filtered matrix as per the given logic\n",
    "    filtered_matrix = np.logical_and(adj_matrix, np.logical_not(synced_matrix))\n",
    "\n",
    "    return filtered_matrix"
   ]
  },
  {
   "cell_type": "code",
   "execution_count": 101,
   "metadata": {},
   "outputs": [
    {
     "name": "stdout",
     "output_type": "stream",
     "text": [
      "0 3 3 True 951\n",
      "1 1 11 True 954\n",
      "1 4 14 True 954\n",
      "2 0 20 True 955\n",
      "3 0 30 True 948\n",
      "4 1 41 True 952\n",
      "5 2 52 True 948\n",
      "6 1 61 True 950\n",
      "7 2 72 True 951\n",
      "10 0 100 True 949\n",
      "11 2 112 True 943\n",
      "12 4 124 True 949\n",
      "13 3 133 True 945\n",
      "14 1 141 True 954\n",
      "16 0 160 True 952\n"
     ]
    }
   ],
   "source": [
    "all_adj = []\n",
    "k=-1\n",
    "kk=[]\n",
    "for i in range(len(sorted_filenames_updated)):\n",
    "    with open(sorted_filenames_updated[i], 'rb') as f:\n",
    "        data = pkl.load(f)\n",
    "    for j in range(10):\n",
    "        adj = filter_matrix_TC(data, well, all_win[j])\n",
    "        all_adj.append(adj)\n",
    "        k=k+1\n",
    "        if(sum(sum(adj))>20000):\n",
    "            kk.append(k)\n",
    "            print(i,j,k, sum(sum(adj))>20000, adj.shape[0] )\n"
   ]
  },
  {
   "cell_type": "code",
   "execution_count": 102,
   "metadata": {},
   "outputs": [
    {
     "data": {
      "text/plain": [
       "15"
      ]
     },
     "execution_count": 102,
     "metadata": {},
     "output_type": "execute_result"
    }
   ],
   "source": [
    "kk\n",
    "len(kk)"
   ]
  },
  {
   "cell_type": "code",
   "execution_count": 103,
   "metadata": {},
   "outputs": [],
   "source": [
    "all_adj_new=[]\n",
    "all_adj_new = [all_adj[i] for i in kk]"
   ]
  },
  {
   "cell_type": "code",
   "execution_count": 104,
   "metadata": {},
   "outputs": [
    {
     "name": "stderr",
     "output_type": "stream",
     "text": [
      "/Users/tianyichen/opt/anaconda3/lib/python3.9/site-packages/matplotlib/collections.py:196: ComplexWarning: Casting complex values to real discards the imaginary part\n",
      "  offsets = np.asanyarray(offsets, float)\n"
     ]
    },
    {
     "data": {
      "text/plain": [
       "<matplotlib.collections.PathCollection at 0x7fe33ae159a0>"
      ]
     },
     "execution_count": 104,
     "metadata": {},
     "output_type": "execute_result"
    },
    {
     "data": {
      "image/png": "[encoded data removed]",
      "text/plain": [
       "<Figure size 640x480 with 1 Axes>"
      ]
     },
     "metadata": {},
     "output_type": "display_data"
    }
   ],
   "source": [
    "s,u=np.linalg.eig(all_adj_new[1])\n",
    "plt.scatter(range(all_adj_new[1].shape[0]),s)"
   ]
  },
  {
   "cell_type": "code",
   "execution_count": 105,
   "metadata": {},
   "outputs": [
    {
     "data": {
      "text/plain": [
       "(954, 954)"
      ]
     },
     "execution_count": 105,
     "metadata": {},
     "output_type": "execute_result"
    }
   ],
   "source": [
    "all_adj_new[1].shape"
   ]
  },
  {
   "cell_type": "code",
   "execution_count": 106,
   "metadata": {},
   "outputs": [],
   "source": [
    "## add zeros to the adj mat such that they have the same dims \n",
    "dim = 955 # Max number of vertices to determine dimension\n",
    "adj_aug = np.zeros((m, dim, dim))  # Pre-allocate a zero matrix of the desired size\n",
    "m=len(all_adj_new)\n",
    "for i in range(m):\n",
    "    ma = all_adj_new[i]  \n",
    "    l = ma.shape[0]  \n",
    "    adj_aug[i, :l, :l] = ma "
   ]
  },
  {
   "cell_type": "code",
   "execution_count": 107,
   "metadata": {},
   "outputs": [
    {
     "data": {
      "text/plain": [
       "array([ 67.,  11.,   6.,  11.,  77.,   1., 120.,   2.,   0.,   2.,  71.,\n",
       "         3.,   0.,   0.,   0.,   2.,  14.,   0.,   0.,   0.,   0.,   2.,\n",
       "       132.,   0.,  61.,   0.,   0.,  75.,   0.,   0.,   0.,   1.,   0.,\n",
       "       155., 166.,   2.,   0.,   6., 139.,   0.,   0.,  11.,  16.,   3.,\n",
       "        14.,   5.,  24.,   0.,   0.,  41.,   0., 118.,   0.,   0.,  16.,\n",
       "         2.,   0.,   0., 204.,  78.,   0.,   9.,   0.,  98.,   0.,   0.,\n",
       "        52.,   0.,   0.,   0.,  69., 112.,  53.,  54.,  75.,   0.,   0.,\n",
       "         0.,   0.,  36., 152.,  22.,   2.,   0.,   0.,  59., 168.,   0.,\n",
       "         0.,   0.,   1.,   0.,   0.,   0.,   0.,   1.,   0.,   0.,   0.,\n",
       "       118.,   0.,   0.,   0., 208.,  65.,   0.,   0.,  80.,   0.,  19.,\n",
       "         0.,  49., 126.,   1.,  28.,  27.,   0.,   0.,   0.,   8., 152.,\n",
       "         0.,   8.,  12., 171.,   2.,  37.,  36.,   0., 154.,   0.,   0.,\n",
       "         0., 193.,   0.,   7.,   0.,   6.,   0., 139., 206.,   1.,   0.,\n",
       "         0.,  95.,   0.,   0.,   0.,  20., 143.,   0.,   2.,  26.,   5.,\n",
       "        41.,   1.,  13.,   0.,  54.,  57.,   7.,   4.,   0.,  97., 121.,\n",
       "         0.,   0.,   6.,   0.,   0.,  75.,   0.,  97.,   0.,   0.,  33.,\n",
       "         8.,   0.,   0.,  30.,  37., 139.,   0.,   0.,   0.,   2.,   0.,\n",
       "         0.,   0.,  25.,  19.,   0.,   4.,   0.,  16.,   0.,   2.,   1.,\n",
       "        84., 135.,  92.,   2.,   0.,   0., 230.,  12.,  94.,  54.,   0.,\n",
       "        66.,   1.,   0.,   0.,   8.,   0.,   0.,  84.,   0.,   0.,   0.,\n",
       "        35., 136.,   0.,   2.,   0.,   1.,   0.,   0.,  66.,   0.,   0.,\n",
       "        75.,   0.,   0.,   5.,  41.,   0.,   3., 165.,  36.,   0.,   0.,\n",
       "         0.,   0.,   0.,   0.,  12.,   0.,   0.,   0.,   0.,  35., 115.,\n",
       "       136.,   6.,  10.,   0.,   1.,  43.,  34.,   0.,  52.,   0.,   0.,\n",
       "        70.,  15.,  11.,   0.,   0.,   0.,   0.,   6., 153., 112., 141.,\n",
       "         7.,   0.,  27.,  48., 142., 208.,   0.,  23.,   0.,  15.,   0.,\n",
       "        98.,  24.,   0.,   0.,  46.,   0.,   0., 192.,   6.,   0.,   0.,\n",
       "       106., 200.,  16.,   0.,   0.,   0.,   4., 116.,  45.,   7.,   0.,\n",
       "         0., 102.,   0.,   0.,   0.,   0.,  25.,  41.,   0.,   0.,   0.,\n",
       "         0.,   0.,   0.,   0.,   0.,   0.,   2.,  82.,   0.,   0.,  25.,\n",
       "         0.,   0.,   6.,  10.,   0.,   0., 178.,   0.,  69., 180.,   7.,\n",
       "         0.,  89.,  90.,   0.,   0.,  70., 156.,   0.,   3.,  16.,   0.,\n",
       "        73., 131.,  38.,   0.,   0.,  17.,   0.,  21.,  87.,   0., 195.,\n",
       "         0.,  60., 150.,   3.,   0.,   0., 160.,  10.,   0., 142., 104.,\n",
       "         0.,   0.,  48.,  62.,   0.,   0.,  50.,  38., 140.,   0.,   0.,\n",
       "        15.,   0.,   0.,   3.,  81.,  40.,   0.,  11.,   0.,   0.,   5.,\n",
       "       101.,   0.,   0., 188.,   0.,   0.,   0.,   3.,   0.,   0., 193.,\n",
       "         0.,   0.,   0., 145., 138.,  52.,   0.,   0.,   0.,   0.,  75.,\n",
       "        14., 149.,   0., 100., 146.,   0.,   0.,   2.,   0.,   0., 154.,\n",
       "         1.,   0.,   8.,   0.,   2.,  30.,   1.,   3.,   0.,   9.,  14.,\n",
       "        31.,  20.,  67.,  57.,   3., 157.,   1.,   3., 127.,   0., 164.,\n",
       "         0.,   9.,   0.,   0., 140.,   0.,   0.,  23.,  47.,   0.,   0.,\n",
       "        14.,   0.,   0.,  13.,   0.,  12., 198.,   3.,   0.,  15.,   1.,\n",
       "         0.,   0.,   0.,  15.,   6.,  13.,   7.,  61.,  80.,   0.,   0.,\n",
       "       109.,  79.,   0.,   0.,   0.,  79.,   9.,   0.,  13.,  45.,   0.,\n",
       "       140.,  53.,   0.,   0.,   9., 133.,   0.,   0.,   0.,  64.,   9.,\n",
       "        11.,   0.,  41.,  44.,  86.,  48.,   0.,   0.,   0., 100., 161.,\n",
       "         0.,   0.,   9.,   4.,   0.,   0.,   0.,   0.,   0., 217.,   0.,\n",
       "         0.,  37.,  17.,   1.,   0.,   0.,  53., 232., 129.,   4.,   0.,\n",
       "       109.,   0., 203.,  42.,   0.,   0.,   0.,   0.,  42., 170.,   0.,\n",
       "         0.,   0.,   0.,   2.,   0.,  38.,   0.,   0.,   0.,  58.,  22.,\n",
       "         0.,   5.,   2.,   0., 124.,   0.,   2., 144., 127.,  17.,   0.,\n",
       "        21.,   0.,   0.,  67.,   0.,  50.,   0.,   0.,   2., 145.,   0.,\n",
       "         0.,   0.,  83.,  23.,  20.,   0.,   0.,   0.,   4.,   2.,  43.,\n",
       "        42.,   6.,  11.,   0.,   1.,   0.,  11.,   0.,   0.,  93.,  61.,\n",
       "         4.,   0.,   0., 147.,  19.,   0.,   0.,   8.,   0.,   0.,   0.,\n",
       "         0., 179.,   0.,  31.,  30.,  19., 242.,   0.,  42.,   1.,  60.,\n",
       "         0.,  11.,  35.,   0.,   0.,   0.,  60.,   0.,  64., 198.,   0.,\n",
       "       116., 210.,   0.,   0.,   0.,  25.,   0.,   0.,   0., 169.,   5.,\n",
       "       134., 157.,  49.,  45.,   0.,   0., 111.,   0.,  29.,   0.,   0.,\n",
       "       129.,  79.,   0.,   0.,   0.,   0.,  22.,   0.,   0.,   0.,   0.,\n",
       "         3.,  48.,   0.,   0.,   0.,  57., 100.,   0.,   0.,   4.,  93.,\n",
       "         0.,  10.,   5.,  24.,   2.,   3.,   0.,  69., 139.,   0.,  12.,\n",
       "         0.,   0.,   0.,   0.,  21., 120.,   0.,   0.,   0.,   6.,  22.,\n",
       "         0.,   0., 115.,   0.,   0.,   0.,  35.,  90.,   0.,   0.,  68.,\n",
       "         0.,   0.,   0.,   0.,   0.,   0.,   0.,   0.,   0.,   0., 164.,\n",
       "        56.,   0.,   0.,   0.,   2.,   0., 133.,   0., 130.,   0.,   1.,\n",
       "        74.,   0.,   0.,   0.,   0.,   1.,   6.,  30.,  63.,  24.,   2.,\n",
       "       152.,   0., 179.,   0., 121.,  29.,  52.,   4.,   0.,   0.,  39.,\n",
       "         0.,   0.,  65.,  38.,   0.,   0.,  18.,   0.,   0.,   0.,   0.,\n",
       "        46.,  11.,   0.,  94.,   0.,   0.,   0.,   6.,   0.,  49.,   1.,\n",
       "         1.,   0.,   0.,   0.,   0.,   0.,   0.,   0.,   7.,   0.,   0.,\n",
       "         2., 143.,   0.,   0.,   0.,   5.,   0.,  35.,   5.,   0.,   0.,\n",
       "        21.,   6.,  15., 137.,  44.,  10.,   0.,   0.,   0.,   0.,   2.,\n",
       "       203.,   0.,   0.,  16.,   1.,  15., 113.,  17.,  12., 139., 104.,\n",
       "         0., 113.,   0.,   0.,   0.,   0., 146.,   2.,   0.,   0.,   0.,\n",
       "         0.,  52.,   0.,  34.,   0.,   0.,   0.,   0.,   0.,   4.,   0.,\n",
       "         2.,   0.,   0., 165.,   0.,   0.,   0., 134.,   0.,   6.,   0.,\n",
       "         5., 171.,   0.,   5.,   0.,  80.,   0.,   0.,   0.,   0.,   0.,\n",
       "         0.,   0.,   0.,   0.,   0.,  18.,   0.,  16., 119.,   0., 151.,\n",
       "         0.,   0.,   0.,  74.,   0.,   0.,   0.,   0.,   3.,   0.,   0.,\n",
       "         0.,  44.,  88.,  40.,   0.,   0.,  11.,   0.,   0.,   0., 130.,\n",
       "         0.,   0.,  26.,  29.,   1.,   0.,   0.,   0.,   0.,   0.,   0.,\n",
       "         0.,  16.,  19.,   0.,   0., 164.,   1.,   3.,   4.,   1.,  39.,\n",
       "         7., 132.,   2.,   0.,   4.,   6.,   0.,  25.,   0.,   0.,   2.,\n",
       "         0.,   0.,   0.,   0.,   0.,   0.,   0.,   0.,   0.,   0.,   3.,\n",
       "       167., 118., 115.,  74.,  36.,   0.,   0.,   0.,   0.])"
      ]
     },
     "execution_count": 107,
     "metadata": {},
     "output_type": "execute_result"
    }
   ],
   "source": [
    "sum(adj_aug[0])"
   ]
  },
  {
   "cell_type": "code",
   "execution_count": 108,
   "metadata": {},
   "outputs": [],
   "source": [
    "from scipy.optimize import quadratic_assignment\n",
    "from numpy import linalg as LA\n",
    "adj_gm=np.zeros([m,dim,dim])\n",
    "adj_gm[0]=adj_aug[0] ## use the first graph as baseline"
   ]
  },
  {
   "cell_type": "code",
   "execution_count": 109,
   "metadata": {},
   "outputs": [
    {
     "name": "stdout",
     "output_type": "stream",
     "text": [
      "Frob diff before GM: 230.52114870440846, After GM: 157.24503171801646\n",
      "Frob diff before GM: 223.62915731183176, After GM: 156.62694531912445\n",
      "Frob diff before GM: 196.8019308848366, After GM: 136.88316185711082\n",
      "Frob diff before GM: 211.392998937997, After GM: 151.1787022037165\n",
      "Frob diff before GM: 245.15913199389493, After GM: 161.74980680050285\n",
      "Frob diff before GM: 231.6182203540991, After GM: 162.93863875704866\n",
      "Frob diff before GM: 212.98591502726183, After GM: 152.31874474272692\n",
      "Frob diff before GM: 230.23249119096982, After GM: 154.32757368662283\n",
      "Frob diff before GM: 252.06745129032427, After GM: 166.85322891691368\n",
      "Frob diff before GM: 247.44090203521324, After GM: 167.36487086602133\n",
      "Frob diff before GM: 203.7253052519495, After GM: 140.32106042928837\n",
      "Frob diff before GM: 202.92609492127917, After GM: 131.12208052040663\n",
      "Frob diff before GM: 218.72585581041852, After GM: 144.10065926289164\n",
      "Frob diff before GM: 228.3221408449036, After GM: 154.85154180698365\n"
     ]
    }
   ],
   "source": [
    "for i in range(1, m):\n",
    "    res = quadratic_assignment(adj_gm[i-1],adj_aug[i],options = {'maximize': True})\n",
    "    perm = res['col_ind']\n",
    "    adj_gm[i]=adj_aug[i][perm][:,perm]\n",
    "    before_norm = LA.norm(adj_aug[i] - adj_gm[i-1], 'fro')\n",
    "    after_norm = LA.norm(adj_gm[i] - adj_gm[i-1], 'fro')\n",
    "\n",
    "     # Printing the before and after norms to see the difference\n",
    "    print(f\"Frob diff before GM: {before_norm}, After GM: {after_norm}\")"
   ]
  },
  {
   "cell_type": "code",
   "execution_count": 110,
   "metadata": {},
   "outputs": [],
   "source": [
    "## find largest common connected component \n",
    "prod=adj_gm[0]\n",
    "for i in range(1,m):\n",
    "    prod=prod * adj_gm[i]"
   ]
  },
  {
   "cell_type": "code",
   "execution_count": 96,
   "metadata": {},
   "outputs": [],
   "source": [
    "from graspologic.datasets import load_drosophila_right\n",
    "from graspologic.plot import heatmap\n",
    "from graspologic.utils import binarize, symmetrize\n",
    "import graspologic.utils as graspologic_utils"
   ]
  },
  {
   "cell_type": "code",
   "execution_count": 111,
   "metadata": {},
   "outputs": [
    {
     "data": {
      "text/plain": [
       "134"
      ]
     },
     "execution_count": 111,
     "metadata": {},
     "output_type": "execute_result"
    }
   ],
   "source": [
    "## find the connected component for the common edge subgraph \n",
    "[a,ind]=graspologic_utils.largest_connected_component(prod,return_inds=True)\n",
    "len(ind)\n",
    "n=len(ind)\n",
    "n"
   ]
  },
  {
   "cell_type": "code",
   "execution_count": 112,
   "metadata": {},
   "outputs": [
    {
     "name": "stdout",
     "output_type": "stream",
     "text": [
      "True\n",
      "True\n",
      "True\n",
      "True\n",
      "True\n",
      "True\n",
      "True\n",
      "True\n",
      "True\n",
      "True\n",
      "True\n",
      "True\n",
      "True\n",
      "True\n",
      "True\n"
     ]
    }
   ],
   "source": [
    "# double check every adj mat is connected \n",
    "glist=np.zeros([m,len(ind),len(ind)])\n",
    "for i in range(m):\n",
    "    glist[i]=adj_gm[i][ind][:,ind]\n",
    "    print(graspologic_utils.is_fully_connected(glist[i]))"
   ]
  },
  {
   "cell_type": "code",
   "execution_count": 113,
   "metadata": {},
   "outputs": [
    {
     "data": {
      "text/plain": [
       "<matplotlib.collections.PathCollection at 0x7fe37c9144f0>"
      ]
     },
     "execution_count": 113,
     "metadata": {},
     "output_type": "execute_result"
    },
    {
     "data": {
      "image/png": "[encoded data removed]",
      "text/plain": [
       "<Figure size 640x480 with 1 Axes>"
      ]
     },
     "metadata": {},
     "output_type": "display_data"
    }
   ],
   "source": [
    "## scree plot for one graph \n",
    "u,s,v=np.linalg.svd(glist[0], full_matrices=True)\n",
    "plt.scatter(range(n),s)"
   ]
  },
  {
   "cell_type": "code",
   "execution_count": 114,
   "metadata": {},
   "outputs": [],
   "source": [
    "from graspologic.embed import AdjacencySpectralEmbed"
   ]
  },
  {
   "cell_type": "code",
   "execution_count": 116,
   "metadata": {},
   "outputs": [],
   "source": [
    "tm=kk"
   ]
  },
  {
   "cell_type": "code",
   "execution_count": 117,
   "metadata": {},
   "outputs": [],
   "source": [
    "ed=1\n",
    "Xhat_list=np.zeros([len(tm),n,2*ed])\n",
    "for i in range(len(tm)):\n",
    "    ase = AdjacencySpectralEmbed(n_components=ed)\n",
    "    Xhat, Yhat = ase.fit_transform(glist[i])\n",
    "    Xhat_list[i][:,list(np.arange(ed))]=Xhat\n",
    "    Xhat_list[i][:,list(np.arange(ed,2*ed))]=Yhat"
   ]
  },
  {
   "cell_type": "code",
   "execution_count": 118,
   "metadata": {},
   "outputs": [],
   "source": [
    "from scipy.linalg import orthogonal_procrustes\n",
    "D=np.zeros([len(tm),len(tm)])"
   ]
  },
  {
   "cell_type": "code",
   "execution_count": 119,
   "metadata": {},
   "outputs": [],
   "source": [
    "for i in range(len(tm)):\n",
    "    for j in range(len(tm)):\n",
    "        R, sca = orthogonal_procrustes(Xhat_list[i] , Xhat_list[j] )\n",
    "        D[i,j]=LA.norm(Xhat_list[i] @ R -  Xhat_list[j],2)**2/n  "
   ]
  },
  {
   "cell_type": "code",
   "execution_count": 120,
   "metadata": {},
   "outputs": [],
   "source": [
    "J=np.ones([len(tm),len(tm)])/len(tm)\n",
    "I=np.eye(len(tm))\n",
    "P=I-J"
   ]
  },
  {
   "cell_type": "code",
   "execution_count": 121,
   "metadata": {},
   "outputs": [
    {
     "data": {
      "text/plain": [
       "Text(0, 0.5, 'eigen value')"
      ]
     },
     "execution_count": 121,
     "metadata": {},
     "output_type": "execute_result"
    },
    {
     "data": {
      "image/png": "[encoded data removed]",
      "text/plain": [
       "<Figure size 640x480 with 1 Axes>"
      ]
     },
     "metadata": {},
     "output_type": "display_data"
    }
   ],
   "source": [
    "H=(-1/2)*P@D@P\n",
    "w,v=LA.eig(H)\n",
    "idx = w.argsort()[::-1]   \n",
    "w = w[idx]\n",
    "v = v[:,idx]\n",
    "plt.scatter(range(len(tm)),w) \n",
    "#plt.title('scree plot for MDS')\n",
    "plt.xlabel('dimension',fontsize=15)\n",
    "plt.ylabel('eigen value',fontsize=15)"
   ]
  },
  {
   "cell_type": "code",
   "execution_count": 122,
   "metadata": {},
   "outputs": [],
   "source": [
    "d=2\n",
    "MDS=v[:,:d] @ np.diag(np.sqrt(w[:d]))"
   ]
  },
  {
   "cell_type": "code",
   "execution_count": 129,
   "metadata": {},
   "outputs": [
    {
     "data": {
      "text/plain": [
       "281"
      ]
     },
     "execution_count": 129,
     "metadata": {},
     "output_type": "execute_result"
    }
   ],
   "source": []
  },
  {
   "cell_type": "code",
   "execution_count": 130,
   "metadata": {},
   "outputs": [
    {
     "data": {
      "text/plain": [
       "Text(0, 0.5, 'dim 2')"
      ]
     },
     "execution_count": 130,
     "metadata": {},
     "output_type": "execute_result"
    },
    {
     "data": {
      "image/png": "[encoded data removed]",
      "text/plain": [
       "<Figure size 640x480 with 1 Axes>"
      ]
     },
     "metadata": {},
     "output_type": "display_data"
    }
   ],
   "source": [
    "plt.scatter(MDS[:,0],MDS[:,1],color='black')\n",
    "for i in range(len(tm)):\n",
    "    plt.text(MDS[i,0],MDS[i,1]+0.01,int(float(final_data[kk[i],1])), fontsize=16)\n",
    "plt.xlabel(\"dim 1\",fontsize=15)\n",
    "plt.ylabel(\"dim 2\",fontsize=15)"
   ]
  },
  {
   "cell_type": "code",
   "execution_count": 131,
   "metadata": {},
   "outputs": [],
   "source": [
    "from sklearn.manifold import Isomap"
   ]
  },
  {
   "cell_type": "code",
   "execution_count": 134,
   "metadata": {},
   "outputs": [],
   "source": [
    "embedding = Isomap(n_neighbors=4,n_components=1)\n",
    "iso = embedding.fit_transform(MDS)"
   ]
  },
  {
   "cell_type": "code",
   "execution_count": 105,
   "metadata": {},
   "outputs": [],
   "source": [
    "%store -r time_diff"
   ]
  },
  {
   "cell_type": "code",
   "execution_count": 115,
   "metadata": {},
   "outputs": [
    {
     "name": "stdout",
     "output_type": "stream",
     "text": [
      "[13.216666666666667, 26.433333333333334, 39.666666666666664, 52.916666666666664, 84.63333333333334, 171.9, 221.88333333333333, 250.95, 281.6666666666667]\n"
     ]
    }
   ],
   "source": [
    "time_diff_tm = [time_diff[i] for i in tm]\n",
    "print(time_diff_tm)\n"
   ]
  },
  {
   "cell_type": "code",
   "execution_count": 136,
   "metadata": {},
   "outputs": [
    {
     "ename": "TypeError",
     "evalue": "only size-1 arrays can be converted to Python scalars",
     "output_type": "error",
     "traceback": [
      "\u001b[0;31m---------------------------------------------------------------------------\u001b[0m",
      "\u001b[0;31mTypeError\u001b[0m                                 Traceback (most recent call last)",
      "\u001b[0;32m/var/folders/rl/pr6f4j2d1_5913_lglcbwszc0000gn/T/ipykernel_22704/2072865494.py\u001b[0m in \u001b[0;36m<module>\u001b[0;34m\u001b[0m\n\u001b[0;32m----> 1\u001b[0;31m \u001b[0mint\u001b[0m\u001b[0;34m(\u001b[0m\u001b[0mfloat\u001b[0m\u001b[0;34m(\u001b[0m\u001b[0mfinal_data\u001b[0m\u001b[0;34m[\u001b[0m\u001b[0mkk\u001b[0m\u001b[0;34m,\u001b[0m\u001b[0;36m1\u001b[0m\u001b[0;34m]\u001b[0m\u001b[0;34m)\u001b[0m\u001b[0;34m)\u001b[0m\u001b[0;34m\u001b[0m\u001b[0;34m\u001b[0m\u001b[0m\n\u001b[0m",
      "\u001b[0;31mTypeError\u001b[0m: only size-1 arrays can be converted to Python scalars"
     ]
    }
   ],
   "source": [
    "int(float(final_data[kk,1]))"
   ]
  },
  {
   "cell_type": "code",
   "execution_count": 138,
   "metadata": {},
   "outputs": [
    {
     "data": {
      "text/plain": [
       "<matplotlib.collections.PathCollection at 0x7fe37a768f10>"
      ]
     },
     "execution_count": 138,
     "metadata": {},
     "output_type": "execute_result"
    },
    {
     "data": {
      "image/png": "[encoded data removed]",
      "text/plain": [
       "<Figure size 640x480 with 1 Axes>"
      ]
     },
     "metadata": {},
     "output_type": "display_data"
    }
   ],
   "source": [
    "\n",
    "plt.scatter(kk, -iso)"
   ]
  },
  {
   "cell_type": "code",
   "execution_count": 121,
   "metadata": {},
   "outputs": [
    {
     "data": {
      "image/png": "[encoded data removed]",
      "text/plain": [
       "<Figure size 640x480 with 1 Axes>"
      ]
     },
     "metadata": {},
     "output_type": "display_data"
    }
   ],
   "source": [
    "\n",
    "# Plot the scatter plot\n",
    "plt.scatter(time_diff_tm, iso)\n",
    "\n",
    "# Add vertical lines\n",
    "plt.axvline(x=11, color='red', linestyle='--', label='stimu 1')\n",
    "plt.axvline(x=24, color='blue', linestyle='--', label='stimu 2')\n",
    "plt.axvline(x=37, color='green', linestyle='--', label='stimu 3')\n",
    "plt.axvline(x=50, color='orange', linestyle='--', label='stimu 4')\n",
    "\n",
    "# Set the x-axis label and y-axis label\n",
    "plt.xlabel('minutes after Baseline 2023-06-02-14:24:58')\n",
    "plt.ylabel('iso-mirror')\n",
    "\n",
    "# Add a title\n",
    "plt.title('well 5')\n",
    "\n",
    "# Add a legend\n",
    "plt.legend()\n",
    "\n",
    "# Show the plot\n",
    "plt.show()\n"
   ]
  }
 ],
 "metadata": {
  "kernelspec": {
   "display_name": "base",
   "language": "python",
   "name": "python3"
  },
  "language_info": {
   "codemirror_mode": {
    "name": "ipython",
    "version": 3
   },
   "file_extension": ".py",
   "mimetype": "text/x-python",
   "name": "python",
   "nbconvert_exporter": "python",
   "pygments_lexer": "ipython3",
   "version": "3.9.13"
  }
 },
 "nbformat": 4,
 "nbformat_minor": 2
}
