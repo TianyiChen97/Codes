{
 "cells": [
  {
   "cell_type": "code",
   "execution_count": 36,
   "metadata": {},
   "outputs": [
    {
     "data": {
      "text/plain": [
       "<matplotlib.pyplot._IonContext at 0x7f9358c4d910>"
      ]
     },
     "execution_count": 36,
     "metadata": {},
     "output_type": "execute_result"
    }
   ],
   "source": [
    "import numpy as np\n",
    "import pickle as pkl\n",
    "from pprint import pprint\n",
    "import os\n",
    "import matplotlib\n",
    "import matplotlib.pyplot as plt\n",
    "from datetime import datetime\n",
    "import pandas as pd\n",
    "\n",
    "plt.ion()"
   ]
  },
  {
   "cell_type": "code",
   "execution_count": 52,
   "metadata": {},
   "outputs": [],
   "source": [
    "dr='/Users/tianyichen/Desktop/Research /PhDresearch/Hopkins_Organoid/April 19 2024/Run_8_TBS_Experiment_ecr_results_windowed/'"
   ]
  },
  {
   "cell_type": "code",
   "execution_count": 53,
   "metadata": {},
   "outputs": [],
   "source": [
    "dr1=dr+'230601 RUN 8 Wells 1-3'\n",
    "dr2=dr+'230602 RUN 8 Wells 4-6'"
   ]
  },
  {
   "cell_type": "code",
   "execution_count": 54,
   "metadata": {},
   "outputs": [],
   "source": [
    "filenames=os.listdir(dr1)\n",
    "filenames.remove('.DS_Store')\n",
    "sorted_filenames = sorted(filenames, key=lambda x: int(x.split('#')[1].split()[0]))"
   ]
  },
  {
   "cell_type": "code",
   "execution_count": 55,
   "metadata": {},
   "outputs": [],
   "source": [
    "sorted_filenames_updated1=['230601 RUN 8 Wells 1-3/'+filename + '/data.raw_20240415_18h04m.pkl' for filename in sorted_filenames]"
   ]
  },
  {
   "cell_type": "code",
   "execution_count": 57,
   "metadata": {},
   "outputs": [],
   "source": [
    "filenames=os.listdir(dr2)\n",
    "filenames.remove('.DS_Store')\n",
    "sorted_filenames = sorted(filenames, key=lambda x: int(x.split('#')[1].split()[0]))\n",
    "sorted_filenames_updated2=['230602 RUN 8 Wells 4-6/'+filename + '/data.raw_20240415_18h04m.pkl' for filename in sorted_filenames]"
   ]
  },
  {
   "cell_type": "code",
   "execution_count": 58,
   "metadata": {},
   "outputs": [],
   "source": [
    "sorted_filenames_updated=sorted_filenames_updated1+sorted_filenames_updated2"
   ]
  },
  {
   "cell_type": "code",
   "execution_count": 59,
   "metadata": {},
   "outputs": [
    {
     "data": {
      "text/plain": [
       "36"
      ]
     },
     "execution_count": 59,
     "metadata": {},
     "output_type": "execute_result"
    }
   ],
   "source": [
    "len(sorted_filenames_updated)"
   ]
  },
  {
   "cell_type": "code",
   "execution_count": 60,
   "metadata": {},
   "outputs": [],
   "source": [
    "df = pd.read_csv('/Users/tianyichen/Desktop/Research /PhDresearch/Hopkins_Organoid/April 19 2024/Time-file.csv')\n",
    "df['time'] = pd.to_datetime(df['Unnamed: 1'].astype(str) + ' ' + df['Unnamed: 2'].astype(str), errors='coerce')\n",
    "\n",
    "for i in df.loc[df['Unnamed: 2'].isnull(),'time'].index:\n",
    "    df.loc[i,'time'] = df.loc[i-1,'time']+pd.Timedelta(10,'min')\n",
    "\n",
    "well=4\n",
    "stimulus_time=df[df[str(well)]==True]['time']\n",
    "time=df[df['Unnamed: 2'].notna()]['time']\n",
    "time_diff = [(t - time[0]).total_seconds() / 60 for t in time]\n",
    "stimulus_time_diff = [(t - time[0]).total_seconds() / 60 for t in stimulus_time]"
   ]
  },
  {
   "cell_type": "code",
   "execution_count": 61,
   "metadata": {},
   "outputs": [
    {
     "data": {
      "text/plain": [
       "36"
      ]
     },
     "execution_count": 61,
     "metadata": {},
     "output_type": "execute_result"
    }
   ],
   "source": [
    "len(time_diff)"
   ]
  },
  {
   "cell_type": "code",
   "execution_count": 62,
   "metadata": {},
   "outputs": [],
   "source": [
    "data_structure = np.column_stack((sorted_filenames_updated, time_diff))\n",
    "#print(data_structure)\n",
    "#float(data_structure[1,1])\n"
   ]
  },
  {
   "cell_type": "code",
   "execution_count": 63,
   "metadata": {},
   "outputs": [],
   "source": [
    "all_win=[ 'win_0', 'win_1', 'win_2', 'win_3', 'win_4', 'win_5', 'win_6', 'win_7', 'win_8', 'win_9']\n"
   ]
  },
  {
   "cell_type": "code",
   "execution_count": 64,
   "metadata": {},
   "outputs": [],
   "source": [
    "repeated_data = np.repeat(data_structure, 10, axis=0)\n",
    "final_data = np.vstack((repeated_data[:, 0], repeated_data[:, 1])).T\n",
    "window = np.array(all_win * len(time_diff)).reshape((-1, 1))\n",
    "final_data = np.hstack((final_data, window))"
   ]
  },
  {
   "cell_type": "code",
   "execution_count": 65,
   "metadata": {},
   "outputs": [
    {
     "data": {
      "text/plain": [
       "array([['230601 RUN 8 Wells 1-3/#1 (baseline)/data.raw_20240415_18h04m.pkl',\n",
       "        '0.0', 'win_0'],\n",
       "       ['230601 RUN 8 Wells 1-3/#1 (baseline)/data.raw_20240415_18h04m.pkl',\n",
       "        '1.0', 'win_1'],\n",
       "       ['230601 RUN 8 Wells 1-3/#1 (baseline)/data.raw_20240415_18h04m.pkl',\n",
       "        '2.0', 'win_2'],\n",
       "       ...,\n",
       "       ['230602 RUN 8 Wells 4-6/#18 (340 minutes after, Well #5 240 minutes after, Well #6 180 mintes after)/data.raw_20240415_18h04m.pkl',\n",
       "        '1698.5', 'win_7'],\n",
       "       ['230602 RUN 8 Wells 4-6/#18 (340 minutes after, Well #5 240 minutes after, Well #6 180 mintes after)/data.raw_20240415_18h04m.pkl',\n",
       "        '1699.5', 'win_8'],\n",
       "       ['230602 RUN 8 Wells 4-6/#18 (340 minutes after, Well #5 240 minutes after, Well #6 180 mintes after)/data.raw_20240415_18h04m.pkl',\n",
       "        '1700.5', 'win_9']], dtype='<U136')"
      ]
     },
     "execution_count": 65,
     "metadata": {},
     "output_type": "execute_result"
    }
   ],
   "source": [
    "for i in range(len(final_data)):\n",
    "    win = final_data[i][2]\n",
    "    value = float(final_data[i][1])\n",
    "    if win == 'win_0':\n",
    "        final_data[i][1] = str(value + 0)\n",
    "    elif win == 'win_1':\n",
    "        final_data[i][1] = str(value + 1)\n",
    "    elif win == 'win_2':\n",
    "        final_data[i][1] = str(value + 2)\n",
    "    elif win == 'win_3':\n",
    "        final_data[i][1] = str(value + 3)\n",
    "    elif win == 'win_4':\n",
    "        final_data[i][1] = str(value + 4)\n",
    "    elif win == 'win_5':\n",
    "        final_data[i][1] = str(value + 5)\n",
    "    elif win == 'win_6':\n",
    "        final_data[i][1] = str(value + 6)\n",
    "    elif win == 'win_7':\n",
    "        final_data[i][1] = str(value + 7)\n",
    "    elif win == 'win_8':\n",
    "        final_data[i][1] = str(value + 8)\n",
    "    elif win == 'win_9':\n",
    "        final_data[i][1] = str(value + 9)\n",
    "\n",
    "final_data\n"
   ]
  },
  {
   "cell_type": "code",
   "execution_count": 66,
   "metadata": {},
   "outputs": [],
   "source": [
    "well='well004'"
   ]
  },
  {
   "cell_type": "code",
   "execution_count": 67,
   "metadata": {},
   "outputs": [],
   "source": [
    "def filter_matrix_TC(data, well, win):\n",
    "\n",
    "    # Extract necessary data from the loaded data structure\n",
    "    adj_matrix = data[well][win]['adj_matrix_predicted']\n",
    "    votes = data[well][win]['votes']  # This variable is loaded but not used in the snippet you provided\n",
    "    corr_peaks = data[well][win]['corr_peaks']\n",
    "    fs = data['config']['data']['fs']  # Sampling frequency\n",
    "\n",
    "    # Initialize a matrix to track synchronization based on correlation peaks\n",
    "    synced_matrix = np.full(adj_matrix.shape, False)\n",
    "    for key in corr_peaks.keys():\n",
    "        if np.all(np.abs(np.array(corr_peaks[key]['delays'])) < 1/fs):\n",
    "            synced_matrix[key[0], key[1]] = True\n",
    "            synced_matrix[key[1], key[0]] = True\n",
    "\n",
    "    # Create the filtered matrix as per the given logic\n",
    "    filtered_matrix = np.logical_and(adj_matrix, np.logical_not(synced_matrix))\n",
    "\n",
    "    return filtered_matrix"
   ]
  },
  {
   "cell_type": "code",
   "execution_count": 68,
   "metadata": {},
   "outputs": [],
   "source": [
    "os.chdir(dr)\n"
   ]
  },
  {
   "cell_type": "code",
   "execution_count": 202,
   "metadata": {},
   "outputs": [
    {
     "name": "stdout",
     "output_type": "stream",
     "text": [
      "0 0 0 True 978\n",
      "3 0 30 True 979\n",
      "5 0 50 True 980\n",
      "6 0 60 True 982\n",
      "7 0 70 True 982\n",
      "8 2 82 True 987\n",
      "11 0 110 True 975\n",
      "12 2 122 True 982\n",
      "13 3 133 True 975\n",
      "14 1 141 True 981\n",
      "15 0 150 True 971\n",
      "18 3 183 True 951\n",
      "19 1 191 True 954\n",
      "19 4 194 True 954\n",
      "20 0 200 True 955\n",
      "21 0 210 True 948\n",
      "22 1 221 True 952\n",
      "23 2 232 True 948\n",
      "24 1 241 True 950\n",
      "25 2 252 True 951\n",
      "28 0 280 True 949\n",
      "29 2 292 True 943\n",
      "30 4 304 True 949\n",
      "31 3 313 True 945\n",
      "32 1 321 True 954\n",
      "34 0 340 True 952\n"
     ]
    }
   ],
   "source": [
    "all_adj = []\n",
    "k=-1\n",
    "kk=[]\n",
    "for i in range(len(sorted_filenames_updated)):\n",
    "    with open(sorted_filenames_updated[i], 'rb') as f:\n",
    "        data = pkl.load(f)\n",
    "    for j in range(10):\n",
    "        adj = filter_matrix_TC(data, well, all_win[j])\n",
    "        all_adj.append(adj)\n",
    "        k=k+1\n",
    "        if(sum(sum(adj))>20000):\n",
    "            kk.append(k)\n",
    "            print(i,j,k, sum(sum(adj))>20000, adj.shape[0] )\n"
   ]
  },
  {
   "cell_type": "code",
   "execution_count": 85,
   "metadata": {},
   "outputs": [],
   "source": [
    "m=len(kk)"
   ]
  },
  {
   "cell_type": "code",
   "execution_count": 86,
   "metadata": {},
   "outputs": [
    {
     "data": {
      "text/plain": [
       "array(['0.0', '39.68333333333333', '71.03333333333333',\n",
       "       '84.26666666666667', '97.5', '112.75', '157.26666666666668',\n",
       "       '172.48333333333332', '193.05', '221.31666666666666',\n",
       "       '250.18333333333334', '1383.45', '1394.6666666666667',\n",
       "       '1397.6666666666667', '1406.8833333333334', '1420.1166666666666',\n",
       "       '1434.3666666666666', '1453.8', '1466.0833333333333',\n",
       "       '1480.3666666666666', '1525.8666666666666', '1541.1', '1556.35',\n",
       "       '1575.4833333333333', '1603.3333333333333', '1662.1166666666666'],\n",
       "      dtype='<U136')"
      ]
     },
     "execution_count": 86,
     "metadata": {},
     "output_type": "execute_result"
    }
   ],
   "source": [
    "## time points we selected that are dense enough \n",
    "final_data[kk,1]"
   ]
  },
  {
   "cell_type": "code",
   "execution_count": 203,
   "metadata": {},
   "outputs": [],
   "source": [
    "all_adj_new=[]\n",
    "all_adj_new = [all_adj[i] for i in kk]"
   ]
  },
  {
   "cell_type": "code",
   "execution_count": 82,
   "metadata": {},
   "outputs": [
    {
     "name": "stderr",
     "output_type": "stream",
     "text": [
      "/Users/tianyichen/opt/anaconda3/lib/python3.9/site-packages/matplotlib/collections.py:196: ComplexWarning: Casting complex values to real discards the imaginary part\n",
      "  offsets = np.asanyarray(offsets, float)\n"
     ]
    },
    {
     "data": {
      "text/plain": [
       "<matplotlib.collections.PathCollection at 0x7f93595cb7f0>"
      ]
     },
     "execution_count": 82,
     "metadata": {},
     "output_type": "execute_result"
    },
    {
     "data": {
      "image/png": "[encoded data removed]",
      "text/plain": [
       "<Figure size 640x480 with 1 Axes>"
      ]
     },
     "metadata": {},
     "output_type": "display_data"
    }
   ],
   "source": [
    "s,u=np.linalg.eig(all_adj_new[1])\n",
    "plt.scatter(range(all_adj_new[1].shape[0]),s)"
   ]
  },
  {
   "cell_type": "code",
   "execution_count": 83,
   "metadata": {},
   "outputs": [
    {
     "data": {
      "text/plain": [
       "(979, 979)"
      ]
     },
     "execution_count": 83,
     "metadata": {},
     "output_type": "execute_result"
    }
   ],
   "source": [
    "all_adj_new[1].shape"
   ]
  },
  {
   "cell_type": "code",
   "execution_count": 204,
   "metadata": {},
   "outputs": [],
   "source": [
    "## add zeros to the adj mat such that they have the same dims \n",
    "dim = 987 # Max number of vertices to determine dimension\n",
    "adj_aug = np.zeros((m, dim, dim))  # Pre-allocate a zero matrix of the desired size\n",
    "m=len(all_adj_new)\n",
    "for i in range(m):\n",
    "    ma = all_adj_new[i]  \n",
    "    l = ma.shape[0]  \n",
    "    adj_aug[i, :l, :l] = ma "
   ]
  },
  {
   "cell_type": "code",
   "execution_count": 88,
   "metadata": {},
   "outputs": [
    {
     "data": {
      "text/plain": [
       "array([ 16., 111.,   0.,   0., 107., 158.,   0.,   0.,   0.,   7.,   0.,\n",
       "         2.,   0.,   0.,   6.,   2.,   0.,  43.,   0.,   0.,   0., 142.,\n",
       "         0.,   3.,   7.,  92.,   0.,  27.,   0.,   8.,  13.,   0.,   0.,\n",
       "         0.,   0.,  72.,   3., 116.,   4.,   0.,  28.,   0.,  17.,   0.,\n",
       "         0., 118.,   0.,  16.,   6.,   0., 124.,   4.,   0.,   0.,   0.,\n",
       "       208.,  30.,   0.,   3.,  23.,   0.,   0.,   0.,   0.,  84.,  87.,\n",
       "         0.,   0.,  88.,  64.,   0.,   0.,   0.,   0.,   0.,   0.,  26.,\n",
       "        31.,   3.,   0.,  16.,   0.,   0.,   0., 147.,   0.,   0.,   0.,\n",
       "         0.,   0.,   1.,   0.,   0.,   3.,  70.,  32.,   0.,   0.,   5.,\n",
       "       117.,   0.,  34.,   0.,   0., 158.,  40.,  71.,  15.,   0.,  82.,\n",
       "         0.,   0.,   0., 109.,   0.,   2.,   0.,   0.,   3.,   2.,   0.,\n",
       "         0.,   0.,  60.,  16., 178.,   0.,   0.,   0.,   0.,   0.,   0.,\n",
       "         0., 195.,   0.,  45.,  30., 132.,   0.,   0., 138.,   0., 102.,\n",
       "        77., 132.,   0., 169.,   0.,   0.,   5.,   0.,   0.,   1.,   0.,\n",
       "        20.,   0.,  40.,  98.,  21.,   0.,   0.,   5.,   0.,   0., 181.,\n",
       "         0.,  17.,   0.,   0.,   0., 132.,   0.,  21.,   0.,   0.,  41.,\n",
       "         0.,   0.,  99.,   0.,   0., 141.,   0.,   5.,   0.,   0.,  29.,\n",
       "        33.,   0.,   4.,   0.,   0.,   0.,   0.,   0.,   8.,   0.,   0.,\n",
       "         0.,  23.,  46.,   4.,   2.,   0.,  30.,  10.,  10.,   4.,   0.,\n",
       "         0.,  20.,   0.,   1.,   1., 142.,   0.,   0.,  62.,   0.,   0.,\n",
       "       125., 139., 131.,   0.,  90.,  22.,   0.,   0.,  69.,   0.,   0.,\n",
       "         0.,   0.,  11.,   0.,   7.,   0.,   0.,  60.,   0.,  38.,  86.,\n",
       "       149.,   8.,   0.,   1.,   0.,   0.,   0.,   0.,  68., 115.,   0.,\n",
       "         0.,  96.,  87.,   0.,   4.,   6.,   0.,   8.,   0.,   0.,   0.,\n",
       "         0., 146.,   0.,   7.,  21.,   0., 108.,   0.,   0., 168., 153.,\n",
       "         0.,   0.,   2., 178.,   0.,   0., 164.,   0.,   0.,   0.,   0.,\n",
       "         0.,  78.,   3.,  11.,   0.,   2.,  13., 144.,   0.,  47.,  96.,\n",
       "         0.,   0.,   0.,   0.,   0.,   7.,   5.,   0.,   0.,   0.,   0.,\n",
       "        49.,   0.,   0.,   0.,  25.,   0.,   0.,   0.,  24.,   0.,   0.,\n",
       "         0.,   0.,   0.,   7.,   0.,   0.,   0.,   0.,   0.,   0.,   0.,\n",
       "        44.,   0.,   0.,   0.,   0.,  85.,  69.,   0.,   0.,   0.,   0.,\n",
       "         5.,   0., 123.,   0.,   0.,  22.,  11.,   0.,   0.,  15., 150.,\n",
       "         0.,   0.,   0.,   5.,   0.,  27.,   0.,   0.,   0.,   0., 146.,\n",
       "       131.,  98.,   0.,   0.,   6.,   0.,  89.,  34.,   0.,   0.,   0.,\n",
       "         0.,   0.,   5.,   0.,   0.,   3.,   0.,   0.,   0., 147.,   0.,\n",
       "        92.,   0.,   0.,   0.,  57.,   0.,   0., 110.,   0.,   0.,  17.,\n",
       "        51.,   0.,   0.,   0.,   0., 115.,   0.,   0., 124.,   0.,   0.,\n",
       "         2.,   0.,   0.,   0.,   0.,   0., 137.,   0.,  92.,  56., 144.,\n",
       "         0.,   0.,   0.,  25., 169., 124.,   0.,  45.,   0., 145.,   0.,\n",
       "         0.,   5.,   0.,   0.,   0.,   0.,   0.,   0., 105., 150.,   0.,\n",
       "         4., 123.,   0.,   0., 119.,  12.,   0.,   0.,   0.,   2.,   0.,\n",
       "         0.,   2.,  51.,  36.,   0., 114.,  50.,   0.,   1., 127., 144.,\n",
       "        14.,  82.,  89.,  15.,   0.,  11., 103.,   0.,   0., 118.,   0.,\n",
       "         0.,   3.,   0.,   0.,   0.,  54.,  81., 103.,   8.,   0.,   3.,\n",
       "         0.,   0.,   0.,   0.,   0.,   0.,   0.,   3.,   0.,   0., 112.,\n",
       "         0.,   0.,   0.,   0.,   0.,   0.,   0.,   0.,   8.,   0.,   0.,\n",
       "        58.,   0.,  30.,   0.,  85.,   0.,   0.,   0., 152.,   0.,  93.,\n",
       "       117., 126.,   0.,  18.,   0., 106.,  62.,   0.,   0.,   0.,   0.,\n",
       "         0.,  31.,   0.,   0.,   0.,   0.,  73.,   0.,   0.,   0.,   0.,\n",
       "         0.,   7.,   0.,  25.,  15.,   0., 135.,  34.,  42.,  23.,  72.,\n",
       "         0.,   0.,   5.,   0., 167., 158.,   0.,   0.,   0.,  48.,  81.,\n",
       "         0.,   0.,   0., 109.,   0.,   0.,   0.,   1., 150.,   0.,   0.,\n",
       "         0.,  55.,   0.,  45.,   0.,   0.,   0.,   0.,   0.,   0.,   0.,\n",
       "         0.,   0.,  64.,  12.,   0.,   0.,   3.,   0.,   0.,   0., 116.,\n",
       "         0.,   0.,   0.,   0.,   0.,  76.,   0.,   0.,   1., 160.,   5.,\n",
       "        98.,   0.,  62.,  73.,   0.,   0., 109.,  22.,   6.,   0.,   0.,\n",
       "        79.,   0.,  17., 143., 128.,   0.,   0.,   0.,  43.,   0.,  46.,\n",
       "         0.,   0.,   0.,  73.,   5.,   0.,   9.,  56.,  26.,   0.,  42.,\n",
       "         2., 127., 148.,   4.,  84., 134.,  26.,   8.,   0.,  98.,   0.,\n",
       "        17.,   3.,   0., 101.,   3.,   0.,   0.,   0.,  49.,  19.,   4.,\n",
       "        22.,   0.,   0.,   5.,   0.,   0.,  13.,   0.,   0.,  92.,  24.,\n",
       "         0.,   0.,   0.,   0.,   0., 103.,   0., 151.,   0.,  78.,   0.,\n",
       "         0.,   2.,   0.,   0.,   0.,   0.,  20.,  35.,   1.,   0.,   0.,\n",
       "        76.,   0.,   4.,   0.,  17.,   0.,   0.,  45.,  38.,   0., 136.,\n",
       "         1.,  21., 157., 113.,   0.,   0.,   0.,   1.,   0.,   0.,   0.,\n",
       "         0., 132.,   0.,   0.,   0.,   0.,   0.,   0.,  39.,   0.,  12.,\n",
       "         0.,   0.,   0.,   0.,  42.,   0.,   0.,   8.,   5.,   0.,   0.,\n",
       "         6.,   0.,   0.,   2.,   0.,  13.,  14.,   0.,   0.,   0.,   0.,\n",
       "         0.,   0.,   0.,   2.,   0.,   0.,   0.,   0.,   0.,   0.,  44.,\n",
       "         0.,   0.,  26.,   0.,   0.,   0.,   0.,   9., 136.,  14.,   9.,\n",
       "         0.,  22.,  57.,   0.,   0.,  14.,   3.,   9., 149.,   7., 100.,\n",
       "         0., 163.,  16.,   0.,   0.,   0., 120.,   0.,   0.,   0.,   0.,\n",
       "        93.,   0.,   0.,   7.,   0.,   0.,   0.,   0.,   4.,   7.,   0.,\n",
       "         0.,  10.,   5.,   0.,  65.,   0.,  39.,   0.,  82.,   2.,   0.,\n",
       "         7.,   1.,   0.,   0.,   0.,   0.,   0.,   0.,   0.,   0.,   0.,\n",
       "        13.,   0.,   6.,   0., 112.,   9.,   9.,   0.,   0.,   0.,   0.,\n",
       "         0.,   0., 120.,   0.,   0.,   0.,   0.,   6.,   0.,   0.,   0.,\n",
       "         0.,   0.,   0., 159.,   0., 115.,   0.,   5.,   5.,   0.,   9.,\n",
       "        15.,   0.,   0.,   0.,  99., 107., 120.,   0.,   0.,   0.,   0.,\n",
       "         0.,   0.,   0.,   0.,  67.,   0.,  64., 119., 101.,   0.,   0.,\n",
       "        67.,   0.,   0.,  11.,   0., 167.,   0.,   0.,   0.,  74.,   0.,\n",
       "         0.,   0.,   0., 145.,   0.,  21.,   0.,   0.,  21.,   0.,   5.,\n",
       "         0.,   7.,   0.,   0.,  21.,   0.,   0.,   0.,   0., 154.,  25.,\n",
       "         0., 113., 124.,   0.,  10.,   0.,   0.,   0.,   0.,   0., 157.,\n",
       "         0.,   0.,   0.,   0.,  14.,   0.,   0.,   0.,  58., 132.,   0.,\n",
       "         0.,   0., 192.,   0.,   0.,   0.,   0.,  38.,   0.,  98.,   0.,\n",
       "         0.,  44.,   0.,   0.,   0.,   0.,   0.,   0.,   0.,   0.,   0.,\n",
       "         6.,   0.,   7.,  17.,   0.,   0.,  15.,   0.,   0.,   0.,   0.,\n",
       "         0.,   0.,   0.,   0.,   0.,   0., 123.,   0.,   0.,  33.,   0.,\n",
       "         0.,   0.,   0.,   0.,   0.,   0.,   0.,   0.])"
      ]
     },
     "execution_count": 88,
     "metadata": {},
     "output_type": "execute_result"
    }
   ],
   "source": [
    "sum(adj_aug[0])"
   ]
  },
  {
   "cell_type": "code",
   "execution_count": 143,
   "metadata": {},
   "outputs": [],
   "source": [
    "from scipy.optimize import quadratic_assignment\n",
    "from numpy import linalg as LA\n",
    "adj_gm=np.zeros([m,dim,dim])\n",
    "adj_gm[0]=adj_aug[0] ## use the first graph as baseline"
   ]
  },
  {
   "cell_type": "code",
   "execution_count": 144,
   "metadata": {},
   "outputs": [
    {
     "data": {
      "text/plain": [
       "183"
      ]
     },
     "execution_count": 144,
     "metadata": {},
     "output_type": "execute_result"
    }
   ],
   "source": [
    "count = len([x for x in kk if x < 180])\n",
    "kk[count]"
   ]
  },
  {
   "cell_type": "code",
   "execution_count": 145,
   "metadata": {},
   "outputs": [
    {
     "name": "stdout",
     "output_type": "stream",
     "text": [
      "0\n",
      "30\n",
      "50\n",
      "60\n",
      "70\n",
      "82\n",
      "110\n",
      "122\n",
      "133\n",
      "141\n",
      "150\n"
     ]
    }
   ],
   "source": [
    "for i in range(0, count):\n",
    "    adj_gm[i] = adj_aug[i]\n",
    "    print(kk[i])"
   ]
  },
  {
   "cell_type": "code",
   "execution_count": 146,
   "metadata": {},
   "outputs": [],
   "source": [
    "## only match between two days\n",
    "\n",
    "res = quadratic_assignment(adj_aug[count-1],adj_aug[count],options = {'maximize': True})\n",
    "perm = res['col_ind']\n",
    "adj_gm[count] = adj_aug[count][perm][:,perm]"
   ]
  },
  {
   "cell_type": "code",
   "execution_count": 147,
   "metadata": {},
   "outputs": [
    {
     "name": "stdout",
     "output_type": "stream",
     "text": [
      "183\n",
      "191\n",
      "194\n",
      "200\n",
      "210\n",
      "221\n",
      "232\n",
      "241\n",
      "252\n",
      "280\n",
      "292\n",
      "304\n",
      "313\n",
      "321\n",
      "340\n"
     ]
    }
   ],
   "source": [
    "for i in range(count, m):\n",
    "    adj_gm[i] = adj_aug[i][perm][:,perm]\n",
    "    print(kk[i])"
   ]
  },
  {
   "cell_type": "code",
   "execution_count": null,
   "metadata": {},
   "outputs": [],
   "source": []
  },
  {
   "cell_type": "code",
   "execution_count": 152,
   "metadata": {},
   "outputs": [
    {
     "name": "stdout",
     "output_type": "stream",
     "text": [
      "Frob diff before GM: 202.0519735117675, After GM: 134.72564715005083\n",
      "Frob diff before GM: 204.4309174268902, After GM: 141.8238343861849\n",
      "Frob diff before GM: 219.79535936866364, After GM: 146.79918255903198\n",
      "Frob diff before GM: 213.96027668705236, After GM: 142.01056298740596\n",
      "Frob diff before GM: 204.1102643180886, After GM: 127.78497564267875\n",
      "Frob diff before GM: 211.41192019372986, After GM: 148.50252523105456\n",
      "Frob diff before GM: 228.93012034243114, After GM: 147.38046003456498\n",
      "Frob diff before GM: 200.62651868584072, After GM: 130.83195328359201\n",
      "Frob diff before GM: 217.1635328502463, After GM: 142.35870187663275\n",
      "Frob diff before GM: 242.58606720090089, After GM: 154.30489298787643\n",
      "Frob diff before GM: 241.07675126399062, After GM: 157.30225681788548\n",
      "Frob diff before GM: 238.1134183535233, After GM: 157.0350279396288\n",
      "Frob diff before GM: 229.02401620790778, After GM: 156.44807445283564\n",
      "Frob diff before GM: 205.23401277566055, After GM: 136.46611300978716\n",
      "Frob diff before GM: 218.51544567833184, After GM: 151.02648774304458\n",
      "Frob diff before GM: 249.4774538911282, After GM: 161.56422871415566\n",
      "Frob diff before GM: 236.3196987134166, After GM: 162.63148526653748\n",
      "Frob diff before GM: 228.61539755668252, After GM: 151.19193100162457\n",
      "Frob diff before GM: 239.91456812790673, After GM: 154.18495387034366\n",
      "Frob diff before GM: 258.3486016993318, After GM: 167.15262486721528\n",
      "Frob diff before GM: 251.21902794175443, After GM: 167.3290172086121\n",
      "Frob diff before GM: 209.75223479143196, After GM: 140.30680667736686\n",
      "Frob diff before GM: 205.6088519495209, After GM: 131.21356637177422\n",
      "Frob diff before GM: 223.65822140042158, After GM: 144.09371950227393\n",
      "Frob diff before GM: 233.95512390199963, After GM: 154.7740288291288\n"
     ]
    }
   ],
   "source": [
    "from scipy.optimize import quadratic_assignment\n",
    "from numpy import linalg as LA\n",
    "adj_gm=np.zeros([m,dim,dim])\n",
    "adj_gm[0]=adj_aug[0] ## use the first graph as baseline\n",
    "for i in range(1, m):\n",
    "    res = quadratic_assignment(adj_gm[i-1],adj_aug[i],options = {'maximize': True})\n",
    "    perm = res['col_ind']\n",
    "    adj_gm[i]=adj_aug[i][perm][:,perm]\n",
    "    before_norm = LA.norm(adj_aug[i] - adj_gm[i-1], 'fro')\n",
    "    after_norm = LA.norm(adj_gm[i] - adj_gm[i-1], 'fro')\n",
    "\n",
    "     # Printing the before and after norms to see the difference\n",
    "    print(f\"Frob diff before GM: {before_norm}, After GM: {after_norm}\")"
   ]
  },
  {
   "cell_type": "code",
   "execution_count": 209,
   "metadata": {},
   "outputs": [
    {
     "name": "stdout",
     "output_type": "stream",
     "text": [
      "11 27467.0\n",
      "13 2013.0\n",
      "15 573.0\n",
      "17 117.0\n",
      "19 84.0\n",
      "21 58.0\n",
      "23 33.0\n",
      "25 27.0\n"
     ]
    },
    {
     "data": {
      "text/plain": [
       "12"
      ]
     },
     "execution_count": 209,
     "metadata": {},
     "output_type": "execute_result"
    }
   ],
   "source": [
    "## only consider the June 02 data and no matching\n",
    "prod=adj_aug[11]\n",
    "for i in (range(11,m,2)):\n",
    "    prod=prod * adj_aug[i]\n",
    "    print(i, sum(sum(prod)))\n",
    "## find the connected component for the common edge subgraph \n",
    "[a,ind]=graspologic_utils.largest_connected_component(prod,return_inds=True)\n",
    "len(ind)\n",
    "n=len(ind)\n",
    "n"
   ]
  },
  {
   "cell_type": "code",
   "execution_count": null,
   "metadata": {},
   "outputs": [],
   "source": [
    "sampled_indices = [i for i in range(1, m, 2)]\n"
   ]
  },
  {
   "cell_type": "code",
   "execution_count": 201,
   "metadata": {},
   "outputs": [
    {
     "name": "stdout",
     "output_type": "stream",
     "text": [
      "11 27467.0\n",
      "12 17019.0\n",
      "13 10399.0\n",
      "14 7180.0\n",
      "15 5854.0\n",
      "16 5129.0\n",
      "17 3819.0\n",
      "18 3408.0\n",
      "19 2959.0\n",
      "20 2692.0\n",
      "21 2285.0\n",
      "22 1768.0\n",
      "23 1531.0\n",
      "24 1345.0\n",
      "25 1137.0\n"
     ]
    }
   ],
   "source": [
    "## find largest common connected component \n",
    "prod=adj_gm[11]\n",
    "for i in (range(11,m)):\n",
    "    prod=prod * adj_gm[i]\n",
    "    print(i, sum(sum(prod)))"
   ]
  },
  {
   "cell_type": "code",
   "execution_count": 154,
   "metadata": {},
   "outputs": [
    {
     "name": "stdout",
     "output_type": "stream",
     "text": [
      "0 22919.0\n",
      "1 12448.0\n",
      "2 9539.0\n",
      "3 7510.0\n",
      "4 5693.0\n",
      "5 4647.0\n",
      "6 4062.0\n",
      "7 3406.0\n",
      "8 2895.0\n",
      "9 2569.0\n",
      "10 2301.0\n",
      "11 1968.0\n",
      "12 1744.0\n",
      "13 1443.0\n",
      "14 1201.0\n",
      "15 1053.0\n",
      "16 959.0\n",
      "17 779.0\n",
      "18 729.0\n",
      "19 660.0\n",
      "20 598.0\n",
      "21 533.0\n",
      "22 430.0\n",
      "23 363.0\n",
      "24 316.0\n",
      "25 270.0\n"
     ]
    }
   ],
   "source": [
    "## find largest common connected component \n",
    "prod=adj_gm[0]\n",
    "for i in (range(m)):\n",
    "    prod=prod * adj_gm[i]\n",
    "    print(i, sum(sum(prod)))"
   ]
  },
  {
   "cell_type": "code",
   "execution_count": 155,
   "metadata": {},
   "outputs": [],
   "source": [
    "from graspologic.datasets import load_drosophila_right\n",
    "from graspologic.plot import heatmap\n",
    "from graspologic.utils import binarize, symmetrize\n",
    "import graspologic.utils as graspologic_utils"
   ]
  },
  {
   "cell_type": "code",
   "execution_count": 156,
   "metadata": {},
   "outputs": [
    {
     "data": {
      "text/plain": [
       "86"
      ]
     },
     "execution_count": 156,
     "metadata": {},
     "output_type": "execute_result"
    }
   ],
   "source": [
    "## find the connected component for the common edge subgraph \n",
    "[a,ind]=graspologic_utils.largest_connected_component(prod,return_inds=True)\n",
    "len(ind)\n",
    "n=len(ind)\n",
    "n"
   ]
  },
  {
   "cell_type": "code",
   "execution_count": 157,
   "metadata": {},
   "outputs": [
    {
     "name": "stdout",
     "output_type": "stream",
     "text": [
      "True\n",
      "True\n",
      "True\n",
      "True\n",
      "True\n",
      "True\n",
      "True\n",
      "True\n",
      "True\n",
      "True\n",
      "True\n",
      "True\n",
      "True\n",
      "True\n",
      "True\n",
      "True\n",
      "True\n",
      "True\n",
      "True\n",
      "True\n",
      "True\n",
      "True\n",
      "True\n",
      "True\n",
      "True\n",
      "True\n"
     ]
    }
   ],
   "source": [
    "# double check every adj mat is connected \n",
    "glist=np.zeros([m,len(ind),len(ind)])\n",
    "for i in range(m):\n",
    "    glist[i]=adj_gm[i][ind][:,ind]\n",
    "    print(graspologic_utils.is_fully_connected(glist[i]))"
   ]
  },
  {
   "cell_type": "code",
   "execution_count": 158,
   "metadata": {},
   "outputs": [
    {
     "data": {
      "text/plain": [
       "<matplotlib.collections.PathCollection at 0x7f92ab2007c0>"
      ]
     },
     "execution_count": 158,
     "metadata": {},
     "output_type": "execute_result"
    },
    {
     "data": {
      "image/png": "[encoded data removed]",
      "text/plain": [
       "<Figure size 640x480 with 1 Axes>"
      ]
     },
     "metadata": {},
     "output_type": "display_data"
    }
   ],
   "source": [
    "## scree plot for one graph \n",
    "u,s,v=np.linalg.svd(glist[0], full_matrices=True)\n",
    "plt.scatter(range(n),s)"
   ]
  },
  {
   "cell_type": "code",
   "execution_count": 159,
   "metadata": {},
   "outputs": [],
   "source": [
    "from graspologic.embed import AdjacencySpectralEmbed"
   ]
  },
  {
   "cell_type": "code",
   "execution_count": 161,
   "metadata": {},
   "outputs": [],
   "source": [
    "tm=kk"
   ]
  },
  {
   "cell_type": "code",
   "execution_count": 162,
   "metadata": {},
   "outputs": [],
   "source": [
    "ed=1\n",
    "Xhat_list=np.zeros([len(tm),n,2*ed])\n",
    "for i in range(len(tm)):\n",
    "    ase = AdjacencySpectralEmbed(n_components=ed)\n",
    "    Xhat, Yhat = ase.fit_transform(glist[i])\n",
    "    Xhat_list[i][:,list(np.arange(ed))]=Xhat\n",
    "    Xhat_list[i][:,list(np.arange(ed,2*ed))]=Yhat"
   ]
  },
  {
   "cell_type": "code",
   "execution_count": 163,
   "metadata": {},
   "outputs": [],
   "source": [
    "from scipy.linalg import orthogonal_procrustes\n",
    "D=np.zeros([len(tm),len(tm)])"
   ]
  },
  {
   "cell_type": "code",
   "execution_count": 164,
   "metadata": {},
   "outputs": [],
   "source": [
    "for i in range(len(tm)):\n",
    "    for j in range(len(tm)):\n",
    "        R, sca = orthogonal_procrustes(Xhat_list[i] , Xhat_list[j] )\n",
    "        D[i,j]=LA.norm(Xhat_list[i] @ R -  Xhat_list[j],2)**2/n  "
   ]
  },
  {
   "cell_type": "code",
   "execution_count": 165,
   "metadata": {},
   "outputs": [],
   "source": [
    "J=np.ones([len(tm),len(tm)])/len(tm)\n",
    "I=np.eye(len(tm))\n",
    "P=I-J"
   ]
  },
  {
   "cell_type": "code",
   "execution_count": 166,
   "metadata": {},
   "outputs": [
    {
     "data": {
      "text/plain": [
       "Text(0, 0.5, 'eigen value')"
      ]
     },
     "execution_count": 166,
     "metadata": {},
     "output_type": "execute_result"
    },
    {
     "data": {
      "image/png": "[encoded data removed]",
      "text/plain": [
       "<Figure size 640x480 with 1 Axes>"
      ]
     },
     "metadata": {},
     "output_type": "display_data"
    }
   ],
   "source": [
    "H=(-1/2)*P@D@P\n",
    "w,v=LA.eig(H)\n",
    "idx = w.argsort()[::-1]   \n",
    "w = w[idx]\n",
    "v = v[:,idx]\n",
    "plt.scatter(range(len(tm)),w) \n",
    "#plt.title('scree plot for MDS')\n",
    "plt.xlabel('dimension',fontsize=15)\n",
    "plt.ylabel('eigen value',fontsize=15)"
   ]
  },
  {
   "cell_type": "code",
   "execution_count": 167,
   "metadata": {},
   "outputs": [],
   "source": [
    "d=4\n",
    "MDS=v[:,:d] @ np.diag(np.sqrt(w[:d]))"
   ]
  },
  {
   "cell_type": "code",
   "execution_count": 129,
   "metadata": {},
   "outputs": [
    {
     "data": {
      "text/plain": [
       "281"
      ]
     },
     "execution_count": 129,
     "metadata": {},
     "output_type": "execute_result"
    }
   ],
   "source": []
  },
  {
   "cell_type": "code",
   "execution_count": 130,
   "metadata": {},
   "outputs": [
    {
     "data": {
      "text/plain": [
       "Text(0, 0.5, 'dim 2')"
      ]
     },
     "execution_count": 130,
     "metadata": {},
     "output_type": "execute_result"
    },
    {
     "data": {
      "image/png": "[encoded data removed]",
      "text/plain": [
       "<Figure size 640x480 with 1 Axes>"
      ]
     },
     "metadata": {},
     "output_type": "display_data"
    }
   ],
   "source": [
    "plt.scatter(MDS[:,0],MDS[:,1],color='black')\n",
    "for i in range(len(tm)):\n",
    "    plt.text(MDS[i,0],MDS[i,1]+0.01,int(float(final_data[kk[i],1])), fontsize=16)\n",
    "plt.xlabel(\"dim 1\",fontsize=15)\n",
    "plt.ylabel(\"dim 2\",fontsize=15)"
   ]
  },
  {
   "cell_type": "code",
   "execution_count": 168,
   "metadata": {},
   "outputs": [],
   "source": [
    "from sklearn.manifold import Isomap"
   ]
  },
  {
   "cell_type": "code",
   "execution_count": 172,
   "metadata": {},
   "outputs": [],
   "source": [
    "embedding = Isomap(n_neighbors=2,n_components=1)\n",
    "iso = embedding.fit_transform(MDS)"
   ]
  },
  {
   "cell_type": "code",
   "execution_count": 105,
   "metadata": {},
   "outputs": [],
   "source": [
    "%store -r time_diff"
   ]
  },
  {
   "cell_type": "code",
   "execution_count": 177,
   "metadata": {},
   "outputs": [
    {
     "ename": "TypeError",
     "evalue": "only size-1 arrays can be converted to Python scalars",
     "output_type": "error",
     "traceback": [
      "\u001b[0;31m---------------------------------------------------------------------------\u001b[0m",
      "\u001b[0;31mTypeError\u001b[0m                                 Traceback (most recent call last)",
      "\u001b[0;32m/var/folders/rl/pr6f4j2d1_5913_lglcbwszc0000gn/T/ipykernel_32645/1688733499.py\u001b[0m in \u001b[0;36m<module>\u001b[0;34m\u001b[0m\n\u001b[0;32m----> 1\u001b[0;31m \u001b[0mfloat\u001b[0m\u001b[0;34m(\u001b[0m\u001b[0mfinal_data\u001b[0m\u001b[0;34m[\u001b[0m\u001b[0mkk\u001b[0m\u001b[0;34m,\u001b[0m\u001b[0;36m1\u001b[0m\u001b[0;34m]\u001b[0m\u001b[0;34m)\u001b[0m\u001b[0;34m\u001b[0m\u001b[0;34m\u001b[0m\u001b[0m\n\u001b[0m",
      "\u001b[0;31mTypeError\u001b[0m: only size-1 arrays can be converted to Python scalars"
     ]
    }
   ],
   "source": [
    "float(final_data[kk,1])\n"
   ]
  },
  {
   "cell_type": "code",
   "execution_count": 187,
   "metadata": {},
   "outputs": [
    {
     "data": {
      "text/plain": [
       "array([   0,   39,   71,   84,   97,  112,  157,  172,  193,  221,  250,\n",
       "       1383, 1394, 1397, 1406, 1420, 1434, 1453, 1466, 1480, 1525, 1541,\n",
       "       1556, 1575, 1603, 1662])"
      ]
     },
     "execution_count": 187,
     "metadata": {},
     "output_type": "execute_result"
    }
   ],
   "source": [
    "new_list = np.array(final_data[kk, 1]).astype(float).astype(int)\n",
    "new_list\n"
   ]
  },
  {
   "cell_type": "code",
   "execution_count": 189,
   "metadata": {},
   "outputs": [
    {
     "data": {
      "text/plain": [
       "[1390.45, 1403.6666666666667, 1416.8833333333334, 1430.1166666666666]"
      ]
     },
     "execution_count": 189,
     "metadata": {},
     "output_type": "execute_result"
    },
    {
     "data": {
      "image/png": "[encoded data removed]",
      "text/plain": [
       "<Figure size 640x480 with 1 Axes>"
      ]
     },
     "metadata": {},
     "output_type": "display_data"
    }
   ],
   "source": [
    "\n",
    "plt.scatter(new_list, iso)\n",
    "stimulus_time_diff"
   ]
  },
  {
   "cell_type": "code",
   "execution_count": 197,
   "metadata": {},
   "outputs": [
    {
     "name": "stderr",
     "output_type": "stream",
     "text": [
      "No artists with labels found to put in legend.  Note that artists whose label start with an underscore are ignored when legend() is called with no argument.\n"
     ]
    },
    {
     "data": {
      "image/png": "[encoded data removed]",
      "text/plain": [
       "<Figure size 640x480 with 1 Axes>"
      ]
     },
     "metadata": {},
     "output_type": "display_data"
    }
   ],
   "source": [
    "\n",
    "# Plot the scatter plot\n",
    "plt.scatter(new_list[:10], iso[:10])\n",
    "\n",
    "# Add vertical lines\n",
    "#plt.axvline(x=stimulus_time_diff[0], color='red', linestyle='--', label='stimu 1')\n",
    "#plt.axvline(x=stimulus_time_diff[1], color='blue', linestyle='--', label='stimu 2')\n",
    "#plt.axvline(x=stimulus_time_diff[2], color='green', linestyle='--', label='stimu 3')\n",
    "#plt.axvline(x=stimulus_time_diff[3], color='orange', linestyle='--', label='stimu 4')\n",
    "\n",
    "# Set the x-axis label and y-axis label\n",
    "plt.xlabel('minutes after Baseline 2023-06-02-14:24:58')\n",
    "plt.ylabel('iso-mirror')\n",
    "\n",
    "# Add a title\n",
    "plt.title('well 5')\n",
    "\n",
    "# Add a legend\n",
    "plt.legend()\n",
    "\n",
    "# Show the plot\n",
    "plt.show()\n"
   ]
  },
  {
   "cell_type": "code",
   "execution_count": 199,
   "metadata": {},
   "outputs": [
    {
     "data": {
      "image/png": "[encoded data removed]",
      "text/plain": [
       "<Figure size 640x480 with 1 Axes>"
      ]
     },
     "metadata": {},
     "output_type": "display_data"
    }
   ],
   "source": [
    "# Plot the scatter plot\n",
    "plt.scatter(new_list[11:], iso[11:])\n",
    "\n",
    "# Add vertical lines\n",
    "plt.axvline(x=stimulus_time_diff[0], color='red', linestyle='--', label='stimu 1')\n",
    "plt.axvline(x=stimulus_time_diff[1], color='blue', linestyle='--', label='stimu 2')\n",
    "plt.axvline(x=stimulus_time_diff[2], color='green', linestyle='--', label='stimu 3')\n",
    "plt.axvline(x=stimulus_time_diff[3], color='orange', linestyle='--', label='stimu 4')\n",
    "\n",
    "# Set the x-axis label and y-axis label\n",
    "plt.xlabel('minutes after Baseline 2023-06-02-14:24:58')\n",
    "plt.ylabel('iso-mirror')\n",
    "\n",
    "# Add a title\n",
    "plt.title('well 5')\n",
    "\n",
    "# Add a legend\n",
    "plt.legend()\n",
    "\n",
    "# Show the plot\n",
    "plt.show()\n"
   ]
  }
 ],
 "metadata": {
  "kernelspec": {
   "display_name": "base",
   "language": "python",
   "name": "python3"
  },
  "language_info": {
   "codemirror_mode": {
    "name": "ipython",
    "version": 3
   },
   "file_extension": ".py",
   "mimetype": "text/x-python",
   "name": "python",
   "nbconvert_exporter": "python",
   "pygments_lexer": "ipython3",
   "version": "3.9.13"
  }
 },
 "nbformat": 4,
 "nbformat_minor": 2
}
