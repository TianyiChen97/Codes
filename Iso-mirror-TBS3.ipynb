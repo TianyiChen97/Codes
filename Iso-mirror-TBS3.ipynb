{
 "cells": [
  {
   "cell_type": "code",
   "execution_count": 1,
   "metadata": {},
   "outputs": [
    {
     "data": {
      "text/plain": [
       "<matplotlib.pyplot._IonContext at 0x7fa90837c4f0>"
      ]
     },
     "execution_count": 1,
     "metadata": {},
     "output_type": "execute_result"
    }
   ],
   "source": [
    "import numpy as np\n",
    "import pickle as pkl\n",
    "from pprint import pprint\n",
    "import os\n",
    "import matplotlib\n",
    "import matplotlib.pyplot as plt\n",
    "from datetime import datetime\n",
    "import pandas as pd\n",
    "\n",
    "plt.ion()"
   ]
  },
  {
   "cell_type": "code",
   "execution_count": 2,
   "metadata": {},
   "outputs": [],
   "source": [
    "dr='/Users/tianyichen/Desktop/Research /PhDresearch/Hopkins_Organoid/April 19 2024/Run_8_TBS_Experiment_ecr_results_windowed/'"
   ]
  },
  {
   "cell_type": "code",
   "execution_count": 4,
   "metadata": {},
   "outputs": [],
   "source": [
    "dr1=dr+'230601 RUN 8 Wells 1-3'\n",
    "dr2=dr+'230602 RUN 8 Wells 4-6'"
   ]
  },
  {
   "cell_type": "code",
   "execution_count": 5,
   "metadata": {},
   "outputs": [],
   "source": [
    "filenames=os.listdir(dr1)\n",
    "filenames.remove('.DS_Store')\n",
    "sorted_filenames = sorted(filenames, key=lambda x: int(x.split('#')[1].split()[0]))"
   ]
  },
  {
   "cell_type": "code",
   "execution_count": 6,
   "metadata": {},
   "outputs": [],
   "source": [
    "sorted_filenames_updated1=['230601 RUN 8 Wells 1-3/'+filename + '/data.raw_20240415_18h04m.pkl' for filename in sorted_filenames]"
   ]
  },
  {
   "cell_type": "code",
   "execution_count": 7,
   "metadata": {},
   "outputs": [],
   "source": [
    "filenames=os.listdir(dr2)\n",
    "filenames.remove('.DS_Store')\n",
    "sorted_filenames = sorted(filenames, key=lambda x: int(x.split('#')[1].split()[0]))\n",
    "sorted_filenames_updated2=['230602 RUN 8 Wells 4-6/'+filename + '/data.raw_20240415_18h04m.pkl' for filename in sorted_filenames]"
   ]
  },
  {
   "cell_type": "code",
   "execution_count": 8,
   "metadata": {},
   "outputs": [],
   "source": [
    "sorted_filenames_updated=sorted_filenames_updated1+sorted_filenames_updated2"
   ]
  },
  {
   "cell_type": "code",
   "execution_count": 11,
   "metadata": {},
   "outputs": [
    {
     "data": {
      "text/plain": [
       "['230601 RUN 8 Wells 1-3/#1 (baseline)/data.raw_20240415_18h04m.pkl',\n",
       " '230601 RUN 8 Wells 1-3/#2 (well #1 post stim 1)/data.raw_20240415_18h04m.pkl',\n",
       " '230601 RUN 8 Wells 1-3/#3 (well #1 post stim 2)/data.raw_20240415_18h04m.pkl',\n",
       " '230601 RUN 8 Wells 1-3/#4 (well #1 post stim 3)/data.raw_20240415_18h04m.pkl',\n",
       " '230601 RUN 8 Wells 1-3/#5 (well #1 post stim 4)/data.raw_20240415_18h04m.pkl',\n",
       " '230601 RUN 8 Wells 1-3/#6 (well #2 post stim 1)/data.raw_20240415_18h04m.pkl',\n",
       " '230601 RUN 8 Wells 1-3/#7 (well #2 post stim 2)/data.raw_20240415_18h04m.pkl',\n",
       " '230601 RUN 8 Wells 1-3/#8 (well #2 post stim 3)/data.raw_20240415_18h04m.pkl',\n",
       " '230601 RUN 8 Wells 1-3/#9 (well #2 post stim 4)/data.raw_20240415_18h04m.pkl',\n",
       " '230601 RUN 8 Wells 1-3/#10 (well #3 post stim 1)/data.raw_20240415_18h04m.pkl',\n",
       " '230601 RUN 8 Wells 1-3/#11 (well #3 post stim 2)/data.raw_20240415_18h04m.pkl',\n",
       " '230601 RUN 8 Wells 1-3/#12 (well #3 post stim 3)/data.raw_20240415_18h04m.pkl',\n",
       " '230601 RUN 8 Wells 1-3/#13 (well #3 post stim 4)/data.raw_20240415_18h04m.pkl',\n",
       " '230601 RUN 8 Wells 1-3/#14 (Well #1 180 minutes Well #2 120 minutes Well #3 60 minutes)/data.raw_20240415_18h04m.pkl',\n",
       " '230601 RUN 8 Wells 1-3/#15 (Well #1 210 minutes Well #2 150 minutes Well #3 90 minutes)/data.raw_20240415_18h04m.pkl',\n",
       " '230601 RUN 8 Wells 1-3/#16 (Well #1 240 minutes Well #2 180 minutes Well #3 120 minutes/data.raw_20240415_18h04m.pkl',\n",
       " '230601 RUN 8 Wells 1-3/#17 (Well #1 310 minutes Well #2 210 minutes Well #3 150 minutes)/data.raw_20240415_18h04m.pkl',\n",
       " '230601 RUN 8 Wells 1-3/#18 ( Well #1 340 minutes Well #2 240 minutes Well #3 180 minutes)/data.raw_20240415_18h04m.pkl',\n",
       " '230602 RUN 8 Wells 4-6/#1 (baseline)/data.raw_20240415_18h04m.pkl',\n",
       " '230602 RUN 8 Wells 4-6/#2 (well #4 post stim 1)/data.raw_20240415_18h04m.pkl',\n",
       " '230602 RUN 8 Wells 4-6/#3 (well #4 post stim 2)/data.raw_20240415_18h04m.pkl',\n",
       " '230602 RUN 8 Wells 4-6/#4 (well #4 post stim 3)/data.raw_20240415_18h04m.pkl',\n",
       " '230602 RUN 8 Wells 4-6/#5 (well #4 post stim 4)/data.raw_20240415_18h04m.pkl',\n",
       " '230602 RUN 8 Wells 4-6/#6 (well #5 post stim 1)/data.raw_20240415_18h04m.pkl',\n",
       " '230602 RUN 8 Wells 4-6/#7 (well #5 post stim 2)/data.raw_20240415_18h04m.pkl',\n",
       " '230602 RUN 8 Wells 4-6/#8 (well #5 post stim 3)/data.raw_20240415_18h04m.pkl',\n",
       " '230602 RUN 8 Wells 4-6/#9 (well #5 post stim 4)/data.raw_20240415_18h04m.pkl',\n",
       " '230602 RUN 8 Wells 4-6/#10 (well #6 post stim 1)/data.raw_20240415_18h04m.pkl',\n",
       " '230602 RUN 8 Wells 4-6/#11 (well #6 post stim 2)/data.raw_20240415_18h04m.pkl',\n",
       " '230602 RUN 8 Wells 4-6/#12 (well #6 post stim 3)/data.raw_20240415_18h04m.pkl',\n",
       " '230602 RUN 8 Wells 4-6/#13 (well #6 post stim 4)/data.raw_20240415_18h04m.pkl',\n",
       " '230602 RUN 8 Wells 4-6/#14 (Well #4 180 min, Well #5 120 min, Well #6 60 min)/data.raw_20240415_18h04m.pkl',\n",
       " '230602 RUN 8 Wells 4-6/#15 (Well #4 210 minutes after, Well #5 150 minutes after, Well #6 90 mintes after/data.raw_20240415_18h04m.pkl',\n",
       " '230602 RUN 8 Wells 4-6/#16 (Well #4 240 minutes after, Well #5 180 minutes after, Well #6 120 mintes after)/data.raw_20240415_18h04m.pkl',\n",
       " '230602 RUN 8 Wells 4-6/#17 (310 minutes after, Well #5 210 minutes after, Well #6 150 mintes after)/data.raw_20240415_18h04m.pkl',\n",
       " '230602 RUN 8 Wells 4-6/#18 (340 minutes after, Well #5 240 minutes after, Well #6 180 mintes after)/data.raw_20240415_18h04m.pkl']"
      ]
     },
     "execution_count": 11,
     "metadata": {},
     "output_type": "execute_result"
    }
   ],
   "source": [
    "sorted_filenames_updated"
   ]
  },
  {
   "cell_type": "code",
   "execution_count": 9,
   "metadata": {},
   "outputs": [
    {
     "data": {
      "text/plain": [
       "36"
      ]
     },
     "execution_count": 9,
     "metadata": {},
     "output_type": "execute_result"
    }
   ],
   "source": [
    "len(sorted_filenames_updated)"
   ]
  },
  {
   "cell_type": "code",
   "execution_count": null,
   "metadata": {},
   "outputs": [],
   "source": [
    "well='well004'"
   ]
  },
  {
   "cell_type": "code",
   "execution_count": 10,
   "metadata": {},
   "outputs": [],
   "source": [
    "df = pd.read_csv('/Users/tianyichen/Desktop/Research /PhDresearch/Hopkins_Organoid/April 19 2024/Time-file.csv')\n",
    "df['time'] = pd.to_datetime(df['Unnamed: 1'].astype(str) + ' ' + df['Unnamed: 2'].astype(str), errors='coerce')\n",
    "\n",
    "for i in df.loc[df['Unnamed: 2'].isnull(),'time'].index:\n",
    "    df.loc[i,'time'] = df.loc[i-1,'time']+pd.Timedelta(10,'min')\n",
    "\n",
    "well=4\n",
    "stimulus_time=df[df[str(well)]==True]['time']\n",
    "time=df[df['Unnamed: 2'].notna()]['time']\n",
    "time_diff = [(t - time[0]).total_seconds() / 60 for t in time]\n",
    "stimulus_time_diff = [(t - time[0]).total_seconds() / 60 for t in stimulus_time]"
   ]
  },
  {
   "cell_type": "code",
   "execution_count": 12,
   "metadata": {},
   "outputs": [
    {
     "data": {
      "text/plain": [
       "36"
      ]
     },
     "execution_count": 12,
     "metadata": {},
     "output_type": "execute_result"
    }
   ],
   "source": [
    "len(time_diff)"
   ]
  },
  {
   "cell_type": "code",
   "execution_count": 13,
   "metadata": {},
   "outputs": [],
   "source": [
    "data_structure = np.column_stack((sorted_filenames_updated, time_diff))\n",
    "#print(data_structure)\n",
    "#float(data_structure[1,1])\n"
   ]
  },
  {
   "cell_type": "code",
   "execution_count": 14,
   "metadata": {},
   "outputs": [],
   "source": [
    "all_win=[ 'win_0', 'win_1', 'win_2', 'win_3', 'win_4', 'win_5', 'win_6', 'win_7', 'win_8', 'win_9']\n"
   ]
  },
  {
   "cell_type": "code",
   "execution_count": 15,
   "metadata": {},
   "outputs": [],
   "source": [
    "repeated_data = np.repeat(data_structure, 10, axis=0)\n",
    "final_data = np.vstack((repeated_data[:, 0], repeated_data[:, 1])).T\n",
    "window = np.array(all_win * len(time_diff)).reshape((-1, 1))\n",
    "final_data = np.hstack((final_data, window))"
   ]
  },
  {
   "cell_type": "code",
   "execution_count": 17,
   "metadata": {},
   "outputs": [
    {
     "data": {
      "text/plain": [
       "array([['230601 RUN 8 Wells 1-3/#1 (baseline)/data.raw_20240415_18h04m.pkl',\n",
       "        '0.0', 'win_0'],\n",
       "       ['230601 RUN 8 Wells 1-3/#1 (baseline)/data.raw_20240415_18h04m.pkl',\n",
       "        '2.0', 'win_1'],\n",
       "       ['230601 RUN 8 Wells 1-3/#1 (baseline)/data.raw_20240415_18h04m.pkl',\n",
       "        '4.0', 'win_2'],\n",
       "       ...,\n",
       "       ['230602 RUN 8 Wells 4-6/#18 (340 minutes after, Well #5 240 minutes after, Well #6 180 mintes after)/data.raw_20240415_18h04m.pkl',\n",
       "        '1705.5', 'win_7'],\n",
       "       ['230602 RUN 8 Wells 4-6/#18 (340 minutes after, Well #5 240 minutes after, Well #6 180 mintes after)/data.raw_20240415_18h04m.pkl',\n",
       "        '1707.5', 'win_8'],\n",
       "       ['230602 RUN 8 Wells 4-6/#18 (340 minutes after, Well #5 240 minutes after, Well #6 180 mintes after)/data.raw_20240415_18h04m.pkl',\n",
       "        '1709.5', 'win_9']], dtype='<U136')"
      ]
     },
     "execution_count": 17,
     "metadata": {},
     "output_type": "execute_result"
    }
   ],
   "source": [
    "for i in range(len(final_data)):\n",
    "    win = final_data[i][2]\n",
    "    value = float(final_data[i][1])\n",
    "    if win == 'win_0':\n",
    "        final_data[i][1] = str(value + 0)\n",
    "    elif win == 'win_1':\n",
    "        final_data[i][1] = str(value + 1)\n",
    "    elif win == 'win_2':\n",
    "        final_data[i][1] = str(value + 2)\n",
    "    elif win == 'win_3':\n",
    "        final_data[i][1] = str(value + 3)\n",
    "    elif win == 'win_4':\n",
    "        final_data[i][1] = str(value + 4)\n",
    "    elif win == 'win_5':\n",
    "        final_data[i][1] = str(value + 5)\n",
    "    elif win == 'win_6':\n",
    "        final_data[i][1] = str(value + 6)\n",
    "    elif win == 'win_7':\n",
    "        final_data[i][1] = str(value + 7)\n",
    "    elif win == 'win_8':\n",
    "        final_data[i][1] = str(value + 8)\n",
    "    elif win == 'win_9':\n",
    "        final_data[i][1] = str(value + 9)\n",
    "\n",
    "final_data\n"
   ]
  },
  {
   "cell_type": "code",
   "execution_count": 18,
   "metadata": {},
   "outputs": [],
   "source": [
    "well='well004'"
   ]
  },
  {
   "cell_type": "code",
   "execution_count": 20,
   "metadata": {},
   "outputs": [],
   "source": [
    "def filter_matrix_TC(data, well, win):\n",
    "\n",
    "    # Extract necessary data from the loaded data structure\n",
    "    adj_matrix = data[well][win]['adj_matrix_predicted']\n",
    "    votes = data[well][win]['votes']  # This variable is loaded but not used in the snippet you provided\n",
    "    corr_peaks = data[well][win]['corr_peaks']\n",
    "    fs = data['config']['data']['fs']  # Sampling frequency\n",
    "\n",
    "    # Initialize a matrix to track synchronization based on correlation peaks\n",
    "    synced_matrix = np.full(adj_matrix.shape, False)\n",
    "    for key in corr_peaks.keys():\n",
    "        if np.all(np.abs(np.array(corr_peaks[key]['delays'])) < 1/fs):\n",
    "            synced_matrix[key[0], key[1]] = True\n",
    "            synced_matrix[key[1], key[0]] = True\n",
    "\n",
    "    # Create the filtered matrix as per the given logic\n",
    "    filtered_matrix = np.logical_and(adj_matrix, np.logical_not(synced_matrix))\n",
    "\n",
    "    return filtered_matrix"
   ]
  },
  {
   "cell_type": "code",
   "execution_count": 21,
   "metadata": {},
   "outputs": [],
   "source": [
    "os.chdir(dr)\n"
   ]
  },
  {
   "cell_type": "code",
   "execution_count": 140,
   "metadata": {},
   "outputs": [],
   "source": [
    "all_adj = []\n",
    "k=-1\n",
    "kk=[]\n",
    "number_of_vertices=[] \n",
    "for i in range(len(sorted_filenames_updated)):\n",
    "    with open(sorted_filenames_updated[i], 'rb') as f:\n",
    "        data = pkl.load(f)\n",
    "    for j in range(10):\n",
    "        adj = filter_matrix_TC(data, well, all_win[j])\n",
    "        k=k+1\n",
    "        if(sum(sum(adj))>10000):\n",
    "            kk.append(k)\n",
    "            all_adj.append(adj)\n",
    "            number_of_vertices.append(adj.shape[0])\n",
    "            #print(i,j,k, sum(sum(adj))>10000, adj.shape[0] )\n"
   ]
  },
  {
   "cell_type": "code",
   "execution_count": 141,
   "metadata": {},
   "outputs": [
    {
     "data": {
      "text/plain": [
       "58"
      ]
     },
     "execution_count": 141,
     "metadata": {},
     "output_type": "execute_result"
    }
   ],
   "source": [
    "m=len(kk)\n",
    "m"
   ]
  },
  {
   "cell_type": "code",
   "execution_count": 142,
   "metadata": {},
   "outputs": [],
   "source": [
    "## time points we selected that are dense enough \n",
    "tm=final_data[kk,1]"
   ]
  },
  {
   "cell_type": "code",
   "execution_count": 143,
   "metadata": {},
   "outputs": [],
   "source": [
    "## add zeros to the adj mat such that they have the same dims \n",
    "dim = max(number_of_vertices) # Max number of vertices to determine dimension\n",
    "m=len(all_adj)\n",
    "adj_aug = np.zeros((m, dim, dim))  # Pre-allocate a zero matrix of the desired size\n",
    "for i in range(m):\n",
    "    ma = all_adj[i]  \n",
    "    l = ma.shape[0]  \n",
    "    adj_aug[i, :l, :l] = ma "
   ]
  },
  {
   "cell_type": "code",
   "execution_count": 144,
   "metadata": {},
   "outputs": [
    {
     "name": "stderr",
     "output_type": "stream",
     "text": [
      "/Users/tianyichen/opt/anaconda3/lib/python3.9/site-packages/matplotlib/collections.py:196: ComplexWarning: Casting complex values to real discards the imaginary part\n",
      "  offsets = np.asanyarray(offsets, float)\n"
     ]
    },
    {
     "data": {
      "text/plain": [
       "<matplotlib.collections.PathCollection at 0x7fa90c37cb50>"
      ]
     },
     "execution_count": 144,
     "metadata": {},
     "output_type": "execute_result"
    },
    {
     "data": {
      "image/png": "[encoded data removed]",
      "text/plain": [
       "<Figure size 640x480 with 1 Axes>"
      ]
     },
     "metadata": {},
     "output_type": "display_data"
    }
   ],
   "source": [
    "s,u=np.linalg.eig(adj_aug[1])\n",
    "plt.scatter(range(adj_aug[1].shape[0]),s)"
   ]
  },
  {
   "cell_type": "code",
   "execution_count": 80,
   "metadata": {},
   "outputs": [],
   "source": [
    "graph_matching=False\n",
    "\n",
    "from scipy.optimize import quadratic_assignment\n",
    "from numpy import linalg as LA\n",
    "adj_gm=np.zeros([m,dim,dim])\n",
    "adj_gm[0]=adj_aug[0] ## use the first graph as baseline\n",
    "\n",
    "count = len([x for x in time_diff if x < 400]) ## this records how many times points are on June 01\n",
    "for i in range(0, count):\n",
    "    adj_gm[i] = adj_aug[i]\n",
    "    #print(time_diff[i])\n",
    "\n",
    "## only match between two days\n",
    "res = quadratic_assignment(adj_aug[count-1],adj_aug[count],options = {'maximize': True})\n",
    "perm = res['col_ind']\n",
    "adj_gm[count] = adj_aug[count][perm][:,perm]\n",
    "\n",
    "for i in range(count, m):\n",
    "    adj_gm[i] = adj_aug[i][perm][:,perm]\n",
    "    #print(time_diff[i])"
   ]
  },
  {
   "cell_type": "code",
   "execution_count": 145,
   "metadata": {},
   "outputs": [
    {
     "name": "stdout",
     "output_type": "stream",
     "text": [
      "Frob diff before GM: 184.1928337368205, After GM: 132.03408650799233,OFV before GM: 313.0, After GM: 8560.0\n",
      "Frob diff before GM: 166.87720036002523, After GM: 115.18680479985544,OFV before GM: 406.0, After GM: 7696.0\n",
      "Frob diff before GM: 188.2763925721969, After GM: 126.26955294131677,OFV before GM: 853.0, After GM: 10605.0\n",
      "Frob diff before GM: 182.83052261589145, After GM: 126.09123680890754,OFV before GM: 743.0, After GM: 9507.0\n",
      "Frob diff before GM: 172.98265809034152, After GM: 111.60197130875422,OFV before GM: 296.0, After GM: 9030.0\n",
      "Frob diff before GM: 196.26003159074443, After GM: 139.76408694654003,OFV before GM: 2184.0, After GM: 11676.0\n",
      "Frob diff before GM: 219.30344274543435, After GM: 146.83323874382123,OFV before GM: 2962.0, After GM: 16229.0\n",
      "Frob diff before GM: 196.58331567048106, After GM: 140.77997016621364,OFV before GM: 1850.0, After GM: 11263.0\n",
      "Frob diff before GM: 188.26576959181932, After GM: 123.10158406779338,OFV before GM: 719.0, After GM: 10864.0\n",
      "Frob diff before GM: 192.0833152566875, After GM: 123.68508398347798,OFV before GM: 789.0, After GM: 11588.0\n",
      "Frob diff before GM: 193.52260849833542, After GM: 123.76994788719918,OFV before GM: 502.0, After GM: 11568.0\n",
      "Frob diff before GM: 182.6608879864543, After GM: 124.89595669996687,OFV before GM: 381.0, After GM: 9264.0\n",
      "Frob diff before GM: 196.50445287575548, After GM: 151.06952042023568,OFV before GM: 2348.0, After GM: 10244.0\n",
      "Frob diff before GM: 204.63626267111115, After GM: 148.68086628749512,OFV before GM: 2179.0, After GM: 12064.0\n",
      "Frob diff before GM: 195.24087686752486, After GM: 129.6803763103732,OFV before GM: 492.0, After GM: 11143.0\n",
      "Frob diff before GM: 201.66060596953486, After GM: 130.49521064008442,OFV before GM: 1575.0, After GM: 13394.0\n",
      "Frob diff before GM: 216.25910385461233, After GM: 142.42892964563063,OFV before GM: 1141.0, After GM: 14382.0\n",
      "Frob diff before GM: 199.07536261426225, After GM: 145.85266538531272,OFV before GM: 638.0, After GM: 9817.0\n",
      "Frob diff before GM: 209.30599609184634, After GM: 157.9398619728408,OFV before GM: 779.0, After GM: 10211.0\n",
      "Frob diff before GM: 205.7887266105702, After GM: 160.165539364746,OFV before GM: 478.0, After GM: 8826.0\n",
      "Frob diff before GM: 162.55153029116644, After GM: 116.15937327654622,OFV before GM: 1035.0, After GM: 7500.0\n",
      "Frob diff before GM: 165.40253927917794, After GM: 114.87384384619503,OFV before GM: 929.0, After GM: 8010.0\n",
      "Frob diff before GM: 150.53903148353254, After GM: 99.9799979995999,OFV before GM: 272.0, After GM: 6605.0\n",
      "Frob diff before GM: 197.48924021323288, After GM: 142.63239463740345,OFV before GM: 384.0, After GM: 9713.0\n",
      "Frob diff before GM: 198.36330305779848, After GM: 145.88351517563592,OFV before GM: 426.0, After GM: 9459.0\n",
      "Frob diff before GM: 207.8749624173147, After GM: 156.39693091617877,OFV before GM: 376.0, After GM: 9752.0\n",
      "Frob diff before GM: 229.69980409221074, After GM: 156.44807445283564,OFV before GM: 789.0, After GM: 14932.0\n",
      "Frob diff before GM: 183.13383084509536, After GM: 131.93180056377614,OFV before GM: 219.0, After GM: 8285.0\n",
      "Frob diff before GM: 175.04570831642803, After GM: 121.49485585818027,OFV before GM: 192.0, After GM: 8132.0\n",
      "Frob diff before GM: 190.8821626030049, After GM: 124.84390253432484,OFV before GM: 306.0, After GM: 10731.0\n",
      "Frob diff before GM: 164.07315441594946, After GM: 114.3153532995459,OFV before GM: 213.0, After GM: 7139.0\n",
      "Frob diff before GM: 196.94923203709124, After GM: 149.7364351118324,OFV before GM: 266.0, After GM: 8450.0\n",
      "Frob diff before GM: 250.02199903208518, After GM: 161.2854612170607,OFV before GM: 868.0, After GM: 19117.0\n",
      "Frob diff before GM: 226.35591443565153, After GM: 163.15943123215402,OFV before GM: 515.0, After GM: 12823.0\n",
      "Frob diff before GM: 167.8541033159452, After GM: 111.2160060422959,OFV before GM: 140.0, After GM: 8043.0\n",
      "Frob diff before GM: 181.92580905413064, After GM: 127.47156545677157,OFV before GM: 217.0, After GM: 8641.0\n",
      "Frob diff before GM: 192.1926117206382, After GM: 125.26771331831678,OFV before GM: 257.0, After GM: 10880.0\n",
      "Frob diff before GM: 215.59916511897723, After GM: 152.7776161615307,OFV before GM: 356.0, After GM: 11927.0\n",
      "Frob diff before GM: 241.32343441945292, After GM: 154.10061648157026,OFV before GM: 1040.0, After GM: 18285.0\n",
      "Frob diff before GM: 201.04477113319808, After GM: 146.7548977036201,OFV before GM: 576.0, After GM: 10017.0\n",
      "Frob diff before GM: 163.41664541900252, After GM: 104.70434565957613,OFV before GM: 362.0, After GM: 8233.0\n",
      "Frob diff before GM: 231.69807940507405, After GM: 175.527775579821,OFV before GM: 666.0, After GM: 12103.0\n",
      "Frob diff before GM: 236.4339231159522, After GM: 174.46776206508756,OFV before GM: 816.0, After GM: 13547.0\n",
      "Frob diff before GM: 202.77080657727828, After GM: 138.74436925511608,OFV before GM: 450.0, After GM: 11383.0\n",
      "Frob diff before GM: 195.40214942523022, After GM: 137.9130160644745,OFV before GM: 357.0, After GM: 9938.0\n",
      "Frob diff before GM: 156.1089363233252, After GM: 102.22524150130437,OFV before GM: 167.0, After GM: 7127.0\n",
      "Frob diff before GM: 174.7512517837855, After GM: 124.7156766409099,OFV before GM: 280.0, After GM: 7772.0\n",
      "Frob diff before GM: 179.78876494375282, After GM: 119.5156893466293,OFV before GM: 278.0, After GM: 9298.0\n",
      "Frob diff before GM: 187.8430195668713, After GM: 134.00373129133382,OFV before GM: 355.0, After GM: 9019.0\n",
      "Frob diff before GM: 224.19857269840057, After GM: 144.0798389782554,OFV before GM: 752.0, After GM: 15505.0\n",
      "Frob diff before GM: 196.63163529808728, After GM: 147.57371039585607,OFV before GM: 435.0, After GM: 8878.0\n",
      "Frob diff before GM: 149.8365776437783, After GM: 103.91823709051265,OFV before GM: 151.0, After GM: 5977.0\n",
      "Frob diff before GM: 151.8453160291749, After GM: 102.82509421342633,OFV before GM: 90.0, After GM: 6332.0\n",
      "Frob diff before GM: 197.23843438843252, After GM: 147.18355886443294,OFV before GM: 365.0, After GM: 8985.0\n",
      "Frob diff before GM: 205.35578881541178, After GM: 147.8614216082072,OFV before GM: 448.0, After GM: 10602.0\n",
      "Frob diff before GM: 161.5239920259526, After GM: 105.24257693538296,OFV before GM: 203.0, After GM: 7710.0\n",
      "Frob diff before GM: 166.8921807635097, After GM: 110.06816070054046,OFV before GM: 224.0, After GM: 8093.0\n"
     ]
    }
   ],
   "source": [
    "graph_matching=True\n",
    "\n",
    "from scipy.optimize import quadratic_assignment\n",
    "from numpy import linalg as LA\n",
    "adj_gm=np.zeros([m,dim,dim])\n",
    "adj_gm[0]=adj_aug[0] ## use the first graph as baseline\n",
    "for i in range(1, m):\n",
    "    res = quadratic_assignment(adj_gm[i-1],adj_aug[i],options = {'maximize': True})\n",
    "    perm = res['col_ind']\n",
    "    ofv=res['fun']\n",
    "    fun_I = np.trace(adj_aug[i].T  @ adj_gm[i-1] )\n",
    "    adj_gm[i]=adj_aug[i][perm][:,perm]\n",
    "    before_norm = LA.norm(adj_aug[i] - adj_gm[i-1], 'fro')\n",
    "    after_norm = LA.norm(adj_gm[i] - adj_gm[i-1], 'fro')\n",
    "\n",
    "     # Printing the before and after norms to see the difference\n",
    "    print(f\"Frob diff before GM: {before_norm}, After GM: {after_norm},OFV before GM: {fun_I}, After GM: {ofv}\")"
   ]
  },
  {
   "cell_type": "code",
   "execution_count": 148,
   "metadata": {},
   "outputs": [
    {
     "name": "stdout",
     "output_type": "stream",
     "text": [
      "39 18285\n",
      "40 7894\n",
      "41 5636\n",
      "42 5095\n",
      "43 3286\n",
      "44 2852\n",
      "45 1878\n",
      "46 1301\n",
      "47 1131\n",
      "48 825\n",
      "49 708\n",
      "50 630\n",
      "51 379\n",
      "52 275\n",
      "53 208\n",
      "54 181\n",
      "55 143\n",
      "56 109\n",
      "57 95\n"
     ]
    }
   ],
   "source": [
    "## only consider the June 02 data and no matching\n",
    "\n",
    "choosen_time_points=range(count+20,m)\n",
    "\n",
    "prod=adj_gm[choosen_time_points[0]]\n",
    "for i in (range(1,len(choosen_time_points))):\n",
    "    prod=prod * adj_gm[choosen_time_points[i]]\n",
    "    print(choosen_time_points[i], sum(sum(prod>0)))"
   ]
  },
  {
   "cell_type": "code",
   "execution_count": 45,
   "metadata": {},
   "outputs": [],
   "source": [
    "from graspologic.datasets import load_drosophila_right\n",
    "from graspologic.plot import heatmap\n",
    "from graspologic.utils import binarize, symmetrize\n",
    "import graspologic.utils as graspologic_utils"
   ]
  },
  {
   "cell_type": "code",
   "execution_count": 149,
   "metadata": {},
   "outputs": [
    {
     "data": {
      "text/plain": [
       "51"
      ]
     },
     "execution_count": 149,
     "metadata": {},
     "output_type": "execute_result"
    }
   ],
   "source": [
    "## find the connected component for the common edge subgraph \n",
    "[a,ind]=graspologic_utils.largest_connected_component(prod,return_inds=True)\n",
    "len(ind)\n",
    "n=len(ind)\n",
    "n"
   ]
  },
  {
   "cell_type": "code",
   "execution_count": 150,
   "metadata": {},
   "outputs": [
    {
     "name": "stdout",
     "output_type": "stream",
     "text": [
      "True\n",
      "True\n",
      "True\n",
      "True\n",
      "True\n",
      "True\n",
      "True\n",
      "True\n",
      "True\n",
      "True\n",
      "True\n",
      "True\n",
      "True\n",
      "True\n",
      "True\n",
      "True\n",
      "True\n",
      "True\n",
      "True\n",
      "True\n"
     ]
    }
   ],
   "source": [
    "# double check every adj mat is connected \n",
    "glist=np.zeros([len(choosen_time_points),len(ind),len(ind)])\n",
    "for i in range(len(choosen_time_points)):\n",
    "    glist[i]=adj_gm[choosen_time_points[i]][ind][:,ind]\n",
    "    print(graspologic_utils.is_fully_connected(glist[i]))"
   ]
  },
  {
   "cell_type": "code",
   "execution_count": 151,
   "metadata": {},
   "outputs": [
    {
     "data": {
      "text/plain": [
       "<matplotlib.collections.PathCollection at 0x7fa877bfd970>"
      ]
     },
     "execution_count": 151,
     "metadata": {},
     "output_type": "execute_result"
    },
    {
     "data": {
      "image/png": "[encoded data removed]",
      "text/plain": [
       "<Figure size 640x480 with 1 Axes>"
      ]
     },
     "metadata": {},
     "output_type": "display_data"
    }
   ],
   "source": [
    "## scree plot for one graph \n",
    "u,s,v=np.linalg.svd(glist[0], full_matrices=True)\n",
    "plt.scatter(range(n),s)"
   ]
  },
  {
   "cell_type": "code",
   "execution_count": 51,
   "metadata": {},
   "outputs": [],
   "source": [
    "from graspologic.embed import AdjacencySpectralEmbed"
   ]
  },
  {
   "cell_type": "code",
   "execution_count": 152,
   "metadata": {},
   "outputs": [],
   "source": [
    "tm=choosen_time_points"
   ]
  },
  {
   "cell_type": "code",
   "execution_count": 153,
   "metadata": {},
   "outputs": [],
   "source": [
    "ed=1\n",
    "Xhat_list=np.zeros([len(tm),n,2*ed])\n",
    "for i in range(len(tm)):\n",
    "    ase = AdjacencySpectralEmbed(n_components=ed)\n",
    "    Xhat, Yhat = ase.fit_transform(glist[i])\n",
    "    Xhat_list[i][:,list(np.arange(ed))]=Xhat\n",
    "    Xhat_list[i][:,list(np.arange(ed,2*ed))]=Yhat"
   ]
  },
  {
   "cell_type": "code",
   "execution_count": 154,
   "metadata": {},
   "outputs": [
    {
     "data": {
      "text/plain": [
       "Text(0, 0.5, 'eigen value')"
      ]
     },
     "execution_count": 154,
     "metadata": {},
     "output_type": "execute_result"
    },
    {
     "data": {
      "image/png": "[encoded data removed]",
      "text/plain": [
       "<Figure size 640x480 with 1 Axes>"
      ]
     },
     "metadata": {},
     "output_type": "display_data"
    }
   ],
   "source": [
    "from scipy.linalg import orthogonal_procrustes\n",
    "D=np.zeros([len(tm),len(tm)])\n",
    "for i in range(len(tm)):\n",
    "    for j in range(len(tm)):\n",
    "        R, sca = orthogonal_procrustes(Xhat_list[i] , Xhat_list[j] )\n",
    "        D[i,j]=LA.norm(Xhat_list[i] @ R -  Xhat_list[j],2)**2/n  \n",
    "J=np.ones([len(tm),len(tm)])/len(tm)\n",
    "I=np.eye(len(tm))\n",
    "P=I-J\n",
    "H=(-1/2)*P@D@P\n",
    "w,v=LA.eig(H)\n",
    "idx = w.argsort()[::-1]   \n",
    "w = w[idx]\n",
    "v = v[:,idx]\n",
    "plt.scatter(range(len(tm)),w) \n",
    "#plt.title('scree plot for MDS')\n",
    "plt.xlabel('dimension',fontsize=15)\n",
    "plt.ylabel('eigen value',fontsize=15)"
   ]
  },
  {
   "cell_type": "code",
   "execution_count": 155,
   "metadata": {},
   "outputs": [
    {
     "data": {
      "text/plain": [
       "Text(0, 0.5, 'dim 2')"
      ]
     },
     "execution_count": 155,
     "metadata": {},
     "output_type": "execute_result"
    },
    {
     "data": {
      "image/png": "[encoded data removed]",
      "text/plain": [
       "<Figure size 640x480 with 1 Axes>"
      ]
     },
     "metadata": {},
     "output_type": "display_data"
    }
   ],
   "source": [
    "d=4\n",
    "MDS=v[:,:d] @ np.diag(np.sqrt(w[:d]))\n",
    "plt.scatter(MDS[:,0],-MDS[:,1],color='black')\n",
    "for i in range(len(tm)):\n",
    "    plt.text(MDS[i,0],-MDS[i,1]+0.01,int(float(final_data[kk,1][choosen_time_points[i]])), fontsize=12)\n",
    "plt.xlabel(\"dim 1\",fontsize=15)\n",
    "plt.ylabel(\"dim 2\",fontsize=15)"
   ]
  },
  {
   "cell_type": "code",
   "execution_count": 156,
   "metadata": {},
   "outputs": [],
   "source": [
    "time = [int(float(final_data[kk,1][choosen_time_points[i]])) for i in range(len(choosen_time_points))]"
   ]
  },
  {
   "cell_type": "code",
   "execution_count": 117,
   "metadata": {},
   "outputs": [],
   "source": [
    "from sklearn.manifold import Isomap"
   ]
  },
  {
   "cell_type": "code",
   "execution_count": 158,
   "metadata": {},
   "outputs": [],
   "source": [
    "embedding = Isomap(n_neighbors=3,n_components=1)\n",
    "iso = embedding.fit_transform(MDS)"
   ]
  },
  {
   "cell_type": "code",
   "execution_count": 159,
   "metadata": {},
   "outputs": [
    {
     "data": {
      "image/png": "[encoded data removed]",
      "text/plain": [
       "<Figure size 640x480 with 1 Axes>"
      ]
     },
     "metadata": {},
     "output_type": "display_data"
    }
   ],
   "source": [
    "\n",
    "# Plot the scatter plot\n",
    "plt.scatter(time,-iso)\n",
    "\n",
    "# Add vertical lines\n",
    "plt.axvline(x=stimulus_time_diff[0], color='red', linestyle='--', label='stimu 1')\n",
    "plt.axvline(x=stimulus_time_diff[1], color='blue', linestyle='--', label='stimu 2')\n",
    "plt.axvline(x=stimulus_time_diff[2], color='green', linestyle='--', label='stimu 3')\n",
    "plt.axvline(x=stimulus_time_diff[3], color='orange', linestyle='--', label='stimu 4')\n",
    "\n",
    "# Set the x-axis label and y-axis label\n",
    "plt.xlabel('minutes after Baseline 2023-06-01-15:24')\n",
    "plt.ylabel('iso-mirror')\n",
    "\n",
    "# Add a title\n",
    "plt.title(str(well)+' graph matching='+str(graph_matching))\n",
    "\n",
    "# Add a legend\n",
    "plt.legend()\n",
    "\n",
    "# Show the plot\n",
    "plt.show()"
   ]
  },
  {
   "cell_type": "code",
   "execution_count": 160,
   "metadata": {},
   "outputs": [
    {
     "data": {
      "text/plain": [
       "[1467,\n",
       " 1482,\n",
       " 1488,\n",
       " 1524,\n",
       " 1525,\n",
       " 1531,\n",
       " 1543,\n",
       " 1551,\n",
       " 1552,\n",
       " 1560,\n",
       " 1568,\n",
       " 1578,\n",
       " 1604,\n",
       " 1618,\n",
       " 1639,\n",
       " 1647,\n",
       " 1662,\n",
       " 1670,\n",
       " 1678,\n",
       " 1697]"
      ]
     },
     "execution_count": 160,
     "metadata": {},
     "output_type": "execute_result"
    }
   ],
   "source": [
    "time"
   ]
  },
  {
   "cell_type": "code",
   "execution_count": 73,
   "metadata": {},
   "outputs": [
    {
     "data": {
      "text/plain": [
       "[1467, 1482, 1525, 1543, 1560, 1578, 1604, 1662]"
      ]
     },
     "execution_count": 73,
     "metadata": {},
     "output_type": "execute_result"
    }
   ],
   "source": [
    "stimulus_time_diff\n",
    "time"
   ]
  },
  {
   "cell_type": "code",
   "execution_count": 199,
   "metadata": {},
   "outputs": [
    {
     "data": {
      "image/png": "[encoded data removed]",
      "text/plain": [
       "<Figure size 640x480 with 1 Axes>"
      ]
     },
     "metadata": {},
     "output_type": "display_data"
    }
   ],
   "source": [
    "# Plot the scatter plot\n",
    "plt.scatter(new_list[11:], iso[11:])\n",
    "\n",
    "# Add vertical lines\n",
    "plt.axvline(x=stimulus_time_diff[0], color='red', linestyle='--', label='stimu 1')\n",
    "plt.axvline(x=stimulus_time_diff[1], color='blue', linestyle='--', label='stimu 2')\n",
    "plt.axvline(x=stimulus_time_diff[2], color='green', linestyle='--', label='stimu 3')\n",
    "plt.axvline(x=stimulus_time_diff[3], color='orange', linestyle='--', label='stimu 4')\n",
    "\n",
    "# Set the x-axis label and y-axis label\n",
    "plt.xlabel('minutes after Baseline 2023-06-02-14:24:58')\n",
    "plt.ylabel('iso-mirror')\n",
    "\n",
    "# Add a title\n",
    "plt.title('well 5')\n",
    "\n",
    "# Add a legend\n",
    "plt.legend()\n",
    "\n",
    "# Show the plot\n",
    "plt.show()\n"
   ]
  }
 ],
 "metadata": {
  "kernelspec": {
   "display_name": "base",
   "language": "python",
   "name": "python3"
  },
  "language_info": {
   "codemirror_mode": {
    "name": "ipython",
    "version": 3
   },
   "file_extension": ".py",
   "mimetype": "text/x-python",
   "name": "python",
   "nbconvert_exporter": "python",
   "pygments_lexer": "ipython3",
   "version": "3.9.13"
  }
 },
 "nbformat": 4,
 "nbformat_minor": 2
}
