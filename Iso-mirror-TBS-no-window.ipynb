{
 "cells": [
  {
   "cell_type": "code",
   "execution_count": 2,
   "metadata": {},
   "outputs": [
    {
     "data": {
      "text/plain": [
       "<matplotlib.pyplot._IonContext at 0x7f8e2260d400>"
      ]
     },
     "execution_count": 2,
     "metadata": {},
     "output_type": "execute_result"
    }
   ],
   "source": [
    "import numpy as np\n",
    "import pickle as pkl\n",
    "from pprint import pprint\n",
    "import os\n",
    "import matplotlib\n",
    "import matplotlib.pyplot as plt\n",
    "from datetime import datetime\n",
    "import pandas as pd\n",
    "\n",
    "plt.ion()"
   ]
  },
  {
   "cell_type": "code",
   "execution_count": 3,
   "metadata": {},
   "outputs": [],
   "source": [
    "dr='/Users/tianyichen/Desktop/Research /PhDresearch/Hopkins_Organoid/2024May28 No window data /OneDrive_1_6-17-2024/Run_8_TBS_Experiment_ecr_results/'"
   ]
  },
  {
   "cell_type": "code",
   "execution_count": 4,
   "metadata": {},
   "outputs": [],
   "source": [
    "os.chdir(dr)\n"
   ]
  },
  {
   "cell_type": "code",
   "execution_count": 5,
   "metadata": {},
   "outputs": [],
   "source": [
    "dr1=dr+'230601 RUN 8 Wells 1-3'\n",
    "dr2=dr+'230602 RUN 8 Wells 4-6'"
   ]
  },
  {
   "cell_type": "code",
   "execution_count": 6,
   "metadata": {},
   "outputs": [],
   "source": [
    "filenames=os.listdir(dr1)\n",
    "filenames.remove('.DS_Store')\n",
    "sorted_filenames = sorted(filenames, key=lambda x: int(x.split('#')[1].split()[0]))"
   ]
  },
  {
   "cell_type": "code",
   "execution_count": 7,
   "metadata": {},
   "outputs": [],
   "source": [
    "sorted_filenames_updated1=['230601 RUN 8 Wells 1-3/'+filename + '/data.raw_20240521_16h16m.pkl' for filename in sorted_filenames]"
   ]
  },
  {
   "cell_type": "code",
   "execution_count": 8,
   "metadata": {},
   "outputs": [],
   "source": [
    "filenames=os.listdir(dr2)\n",
    "filenames.remove('.DS_Store')\n",
    "sorted_filenames = sorted(filenames, key=lambda x: int(x.split('#')[1].split()[0]))\n",
    "sorted_filenames_updated2=['230602 RUN 8 Wells 4-6/'+filename + '/data.raw_20240521_16h16m.pkl' for filename in sorted_filenames]"
   ]
  },
  {
   "cell_type": "code",
   "execution_count": 9,
   "metadata": {},
   "outputs": [],
   "source": [
    "sorted_filenames_updated=sorted_filenames_updated1+sorted_filenames_updated2"
   ]
  },
  {
   "cell_type": "code",
   "execution_count": 10,
   "metadata": {},
   "outputs": [
    {
     "data": {
      "text/plain": [
       "36"
      ]
     },
     "execution_count": 10,
     "metadata": {},
     "output_type": "execute_result"
    }
   ],
   "source": [
    "len(sorted_filenames_updated)"
   ]
  },
  {
   "cell_type": "code",
   "execution_count": 11,
   "metadata": {},
   "outputs": [
    {
     "data": {
      "text/plain": [
       "['230601 RUN 8 Wells 1-3/#1 (baseline)/data.raw_20240521_16h16m.pkl',\n",
       " '230601 RUN 8 Wells 1-3/#2 (well #1 post stim 1)/data.raw_20240521_16h16m.pkl',\n",
       " '230601 RUN 8 Wells 1-3/#3 (well #1 post stim 2)/data.raw_20240521_16h16m.pkl',\n",
       " '230601 RUN 8 Wells 1-3/#4 (well #1 post stim 3)/data.raw_20240521_16h16m.pkl',\n",
       " '230601 RUN 8 Wells 1-3/#5 (well #1 post stim 4)/data.raw_20240521_16h16m.pkl',\n",
       " '230601 RUN 8 Wells 1-3/#6 (well #2 post stim 1)/data.raw_20240521_16h16m.pkl',\n",
       " '230601 RUN 8 Wells 1-3/#7 (well #2 post stim 2)/data.raw_20240521_16h16m.pkl',\n",
       " '230601 RUN 8 Wells 1-3/#8 (well #2 post stim 3)/data.raw_20240521_16h16m.pkl',\n",
       " '230601 RUN 8 Wells 1-3/#9 (well #2 post stim 4)/data.raw_20240521_16h16m.pkl',\n",
       " '230601 RUN 8 Wells 1-3/#10 (well #3 post stim 1)/data.raw_20240521_16h16m.pkl',\n",
       " '230601 RUN 8 Wells 1-3/#11 (well #3 post stim 2)/data.raw_20240521_16h16m.pkl',\n",
       " '230601 RUN 8 Wells 1-3/#12 (well #3 post stim 3)/data.raw_20240521_16h16m.pkl',\n",
       " '230601 RUN 8 Wells 1-3/#13 (well #3 post stim 4)/data.raw_20240521_16h16m.pkl',\n",
       " '230601 RUN 8 Wells 1-3/#14 (Well #1 180 minutes Well #2 120 minutes Well #3 60 minutes)/data.raw_20240521_16h16m.pkl',\n",
       " '230601 RUN 8 Wells 1-3/#15 (Well #1 210 minutes Well #2 150 minutes Well #3 90 minutes)/data.raw_20240521_16h16m.pkl',\n",
       " '230601 RUN 8 Wells 1-3/#16 (Well #1 240 minutes Well #2 180 minutes Well #3 120 minutes/data.raw_20240521_16h16m.pkl',\n",
       " '230601 RUN 8 Wells 1-3/#17 (Well #1 310 minutes Well #2 210 minutes Well #3 150 minutes)/data.raw_20240521_16h16m.pkl',\n",
       " '230601 RUN 8 Wells 1-3/#18 ( Well #1 340 minutes Well #2 240 minutes Well #3 180 minutes)/data.raw_20240521_16h16m.pkl',\n",
       " '230602 RUN 8 Wells 4-6/#1 (baseline)/data.raw_20240521_16h16m.pkl',\n",
       " '230602 RUN 8 Wells 4-6/#2 (well #4 post stim 1)/data.raw_20240521_16h16m.pkl',\n",
       " '230602 RUN 8 Wells 4-6/#3 (well #4 post stim 2)/data.raw_20240521_16h16m.pkl',\n",
       " '230602 RUN 8 Wells 4-6/#4 (well #4 post stim 3)/data.raw_20240521_16h16m.pkl',\n",
       " '230602 RUN 8 Wells 4-6/#5 (well #4 post stim 4)/data.raw_20240521_16h16m.pkl',\n",
       " '230602 RUN 8 Wells 4-6/#6 (well #5 post stim 1)/data.raw_20240521_16h16m.pkl',\n",
       " '230602 RUN 8 Wells 4-6/#7 (well #5 post stim 2)/data.raw_20240521_16h16m.pkl',\n",
       " '230602 RUN 8 Wells 4-6/#8 (well #5 post stim 3)/data.raw_20240521_16h16m.pkl',\n",
       " '230602 RUN 8 Wells 4-6/#9 (well #5 post stim 4)/data.raw_20240521_16h16m.pkl',\n",
       " '230602 RUN 8 Wells 4-6/#10 (well #6 post stim 1)/data.raw_20240521_16h16m.pkl',\n",
       " '230602 RUN 8 Wells 4-6/#11 (well #6 post stim 2)/data.raw_20240521_16h16m.pkl',\n",
       " '230602 RUN 8 Wells 4-6/#12 (well #6 post stim 3)/data.raw_20240521_16h16m.pkl',\n",
       " '230602 RUN 8 Wells 4-6/#13 (well #6 post stim 4)/data.raw_20240521_16h16m.pkl',\n",
       " '230602 RUN 8 Wells 4-6/#14 (Well #4 180 min, Well #5 120 min, Well #6 60 min)/data.raw_20240521_16h16m.pkl',\n",
       " '230602 RUN 8 Wells 4-6/#15 (Well #4 210 minutes after, Well #5 150 minutes after, Well #6 90 mintes after/data.raw_20240521_16h16m.pkl',\n",
       " '230602 RUN 8 Wells 4-6/#16 (Well #4 240 minutes after, Well #5 180 minutes after, Well #6 120 mintes after)/data.raw_20240521_16h16m.pkl',\n",
       " '230602 RUN 8 Wells 4-6/#17 (310 minutes after, Well #5 210 minutes after, Well #6 150 mintes after)/data.raw_20240521_16h16m.pkl',\n",
       " '230602 RUN 8 Wells 4-6/#18 (340 minutes after, Well #5 240 minutes after, Well #6 180 mintes after)/data.raw_20240521_16h16m.pkl']"
      ]
     },
     "execution_count": 11,
     "metadata": {},
     "output_type": "execute_result"
    }
   ],
   "source": [
    "sorted_filenames_updated"
   ]
  },
  {
   "cell_type": "code",
   "execution_count": 21,
   "metadata": {},
   "outputs": [],
   "source": [
    "df = pd.read_csv('/Users/tianyichen/Desktop/Research /PhDresearch/Hopkins_Organoid/April 19 2024/Time-file.csv')\n",
    "df['time'] = pd.to_datetime(df['Unnamed: 1'].astype(str) + ' ' + df['Unnamed: 2'].astype(str), errors='coerce')\n",
    "\n",
    "for i in df.loc[df['Unnamed: 2'].isnull(),'time'].index:\n",
    "    df.loc[i,'time'] = df.loc[i-1,'time']+pd.Timedelta(10,'min')\n",
    "\n",
    "well=4\n",
    "stimulus_time=df[df[str(well)]==True]['time']\n",
    "time=df[df['Unnamed: 2'].notna()]['time']\n",
    "time_diff = [(t - time[0]).total_seconds() / 60 for t in time]\n",
    "stimulus_time_diff = [(t - time[0]).total_seconds() / 60 for t in stimulus_time]"
   ]
  },
  {
   "cell_type": "code",
   "execution_count": 22,
   "metadata": {},
   "outputs": [
    {
     "data": {
      "text/plain": [
       "36"
      ]
     },
     "execution_count": 22,
     "metadata": {},
     "output_type": "execute_result"
    }
   ],
   "source": [
    "len(time_diff)"
   ]
  },
  {
   "cell_type": "code",
   "execution_count": 55,
   "metadata": {},
   "outputs": [],
   "source": [
    "well='well004'"
   ]
  },
  {
   "cell_type": "code",
   "execution_count": 41,
   "metadata": {},
   "outputs": [],
   "source": [
    "def filter_matrix_TC(data, well):\n",
    "\n",
    "    # Extract necessary data from the loaded data structure\n",
    "    adj_matrix = data[well]['win_0']['adj_matrix_predicted']\n",
    "    votes = data[well]['win_0']['votes']  # This variable is loaded but not used in the snippet you provided\n",
    "    corr_peaks = data[well]['win_0']['corr_peaks']\n",
    "    fs = data['config']['data']['fs']  # Sampling frequency\n",
    "\n",
    "    # Initialize a matrix to track synchronization based on correlation peaks\n",
    "    synced_matrix = np.full(adj_matrix.shape, False)\n",
    "    for key in corr_peaks.keys():\n",
    "        if np.all(np.abs(np.array(corr_peaks[key]['delays'])) < 1/fs):\n",
    "            synced_matrix[key[0], key[1]] = True\n",
    "            synced_matrix[key[1], key[0]] = True\n",
    "\n",
    "    # Create the filtered matrix as per the given logic\n",
    "    filtered_matrix = np.logical_and(adj_matrix, np.logical_not(synced_matrix))\n",
    "\n",
    "    return filtered_matrix"
   ]
  },
  {
   "cell_type": "code",
   "execution_count": 56,
   "metadata": {},
   "outputs": [
    {
     "name": "stdout",
     "output_type": "stream",
     "text": [
      "0 96213 978\n",
      "1 96819 985\n",
      "2 92734 981\n",
      "3 101344 979\n",
      "4 96448 985\n",
      "5 98624 980\n",
      "6 97909 982\n",
      "7 98033 982\n",
      "8 99039 987\n",
      "9 86097 980\n",
      "10 87633 977\n",
      "11 103334 975\n",
      "12 89411 982\n",
      "13 88204 975\n",
      "14 90776 981\n",
      "15 103659 971\n",
      "16 89383 968\n",
      "17 93202 971\n",
      "18 110125 951\n",
      "19 115110 954\n",
      "20 113750 955\n",
      "21 114731 948\n",
      "22 113954 952\n",
      "23 103954 948\n",
      "24 112391 950\n",
      "25 113285 951\n",
      "26 106023 940\n",
      "27 111160 948\n",
      "28 111785 949\n",
      "29 107040 943\n",
      "30 111342 949\n",
      "31 102003 945\n",
      "32 112142 954\n",
      "33 102669 945\n",
      "34 109333 952\n",
      "35 108993 953\n"
     ]
    }
   ],
   "source": [
    "all_adj = []\n",
    "for i in range(len(sorted_filenames_updated)):\n",
    "    with open(sorted_filenames_updated[i], 'rb') as f:\n",
    "        data = pkl.load(f)\n",
    "    adj = filter_matrix_TC(data, well)\n",
    "    all_adj.append(adj)\n",
    "    print(i,sum(sum(adj)), adj.shape[0] )\n"
   ]
  },
  {
   "cell_type": "code",
   "execution_count": 57,
   "metadata": {},
   "outputs": [
    {
     "name": "stderr",
     "output_type": "stream",
     "text": [
      "/Users/tianyichen/opt/anaconda3/lib/python3.9/site-packages/matplotlib/collections.py:196: ComplexWarning: Casting complex values to real discards the imaginary part\n",
      "  offsets = np.asanyarray(offsets, float)\n"
     ]
    },
    {
     "data": {
      "text/plain": [
       "<matplotlib.collections.PathCollection at 0x7fd397926160>"
      ]
     },
     "execution_count": 57,
     "metadata": {},
     "output_type": "execute_result"
    },
    {
     "data": {
      "image/png": "[encoded data removed]",
      "text/plain": [
       "<Figure size 640x480 with 1 Axes>"
      ]
     },
     "metadata": {},
     "output_type": "display_data"
    }
   ],
   "source": [
    "s,u=np.linalg.eig(all_adj[1])\n",
    "plt.scatter(range(all_adj[1].shape[0]),s)"
   ]
  },
  {
   "cell_type": "code",
   "execution_count": 59,
   "metadata": {},
   "outputs": [],
   "source": [
    "## add zeros to the adj mat such that they have the same dims \n",
    "dim = 987 # Max number of vertices to determine dimension\n",
    "m=len(all_adj)\n",
    "adj_aug = np.zeros((m, dim, dim))  # Pre-allocate a zero matrix of the desired size\n",
    "for i in range(m):\n",
    "    ma = all_adj[i]  \n",
    "    l = ma.shape[0]  \n",
    "    adj_aug[i, :l, :l] = ma "
   ]
  },
  {
   "cell_type": "code",
   "execution_count": 60,
   "metadata": {},
   "outputs": [],
   "source": [
    "from scipy.optimize import quadratic_assignment\n",
    "from numpy import linalg as LA\n",
    "adj_gm=np.zeros([m,dim,dim])\n",
    "adj_gm[0]=adj_aug[0] ## use the first graph as baseline"
   ]
  },
  {
   "cell_type": "code",
   "execution_count": 62,
   "metadata": {},
   "outputs": [
    {
     "data": {
      "text/plain": [
       "[0.0,\n",
       " 13.2,\n",
       " 26.433333333333334,\n",
       " 39.68333333333333,\n",
       " 52.9,\n",
       " 71.03333333333333,\n",
       " 84.26666666666667,\n",
       " 97.5,\n",
       " 110.75,\n",
       " 130.8,\n",
       " 144.05,\n",
       " 157.26666666666668,\n",
       " 170.48333333333332,\n",
       " 190.05,\n",
       " 220.31666666666666,\n",
       " 250.18333333333334,\n",
       " 279.85,\n",
       " 310.01666666666665,\n",
       " 1380.45,\n",
       " 1393.6666666666667,\n",
       " 1406.8833333333334,\n",
       " 1420.1166666666666,\n",
       " 1433.3666666666666,\n",
       " 1451.8,\n",
       " 1465.0833333333333,\n",
       " 1478.3666666666666,\n",
       " 1491.65,\n",
       " 1512.6166666666666,\n",
       " 1525.8666666666666,\n",
       " 1539.1,\n",
       " 1552.35,\n",
       " 1572.4833333333333,\n",
       " 1602.3333333333333,\n",
       " 1631.4,\n",
       " 1662.1166666666666,\n",
       " 1691.5]"
      ]
     },
     "execution_count": 62,
     "metadata": {},
     "output_type": "execute_result"
    }
   ],
   "source": [
    "time_diff"
   ]
  },
  {
   "cell_type": "code",
   "execution_count": 64,
   "metadata": {},
   "outputs": [
    {
     "data": {
      "text/plain": [
       "18"
      ]
     },
     "execution_count": 64,
     "metadata": {},
     "output_type": "execute_result"
    }
   ],
   "source": [
    "count = len([x for x in time_diff if x < 400])\n",
    "count"
   ]
  },
  {
   "cell_type": "code",
   "execution_count": 65,
   "metadata": {},
   "outputs": [
    {
     "name": "stdout",
     "output_type": "stream",
     "text": [
      "0.0\n",
      "13.2\n",
      "26.433333333333334\n",
      "39.68333333333333\n",
      "52.9\n",
      "71.03333333333333\n",
      "84.26666666666667\n",
      "97.5\n",
      "110.75\n",
      "130.8\n",
      "144.05\n",
      "157.26666666666668\n",
      "170.48333333333332\n",
      "190.05\n",
      "220.31666666666666\n",
      "250.18333333333334\n",
      "279.85\n",
      "310.01666666666665\n"
     ]
    }
   ],
   "source": [
    "for i in range(0, count):\n",
    "    adj_gm[i] = adj_aug[i]\n",
    "    print(time_diff[i])"
   ]
  },
  {
   "cell_type": "code",
   "execution_count": 66,
   "metadata": {},
   "outputs": [],
   "source": [
    "## only match between two days\n",
    "res = quadratic_assignment(adj_aug[count-1],adj_aug[count],options = {'maximize': True})\n",
    "perm = res['col_ind']\n",
    "adj_gm[count] = adj_aug[count][perm][:,perm]"
   ]
  },
  {
   "cell_type": "code",
   "execution_count": 68,
   "metadata": {},
   "outputs": [
    {
     "name": "stdout",
     "output_type": "stream",
     "text": [
      "1380.45\n",
      "1393.6666666666667\n",
      "1406.8833333333334\n",
      "1420.1166666666666\n",
      "1433.3666666666666\n",
      "1451.8\n",
      "1465.0833333333333\n",
      "1478.3666666666666\n",
      "1491.65\n",
      "1512.6166666666666\n",
      "1525.8666666666666\n",
      "1539.1\n",
      "1552.35\n",
      "1572.4833333333333\n",
      "1602.3333333333333\n",
      "1631.4\n",
      "1662.1166666666666\n",
      "1691.5\n"
     ]
    }
   ],
   "source": [
    "for i in range(count, m):\n",
    "    adj_gm[i] = adj_aug[i][perm][:,perm]\n",
    "    print(time_diff[i])"
   ]
  },
  {
   "cell_type": "code",
   "execution_count": 107,
   "metadata": {},
   "outputs": [
    {
     "name": "stdout",
     "output_type": "stream",
     "text": [
      "18 110125.0\n",
      "19 26230.0\n",
      "20 12777.0\n",
      "21 6220.0\n",
      "22 3081.0\n",
      "23 1871.0\n",
      "24 1568.0\n",
      "25 1369.0\n",
      "26 1140.0\n",
      "27 951.0\n",
      "28 744.0\n",
      "29 665.0\n",
      "30 606.0\n",
      "31 528.0\n",
      "32 492.0\n",
      "33 457.0\n",
      "34 427.0\n",
      "35 387.0\n"
     ]
    }
   ],
   "source": [
    "## only consider the June 02 data and no matching\n",
    "prod=adj_gm[18]\n",
    "for i in (range(18,m)):\n",
    "    prod=prod * adj_gm[i]\n",
    "    print(i, sum(sum(prod)))"
   ]
  },
  {
   "cell_type": "code",
   "execution_count": 108,
   "metadata": {},
   "outputs": [],
   "source": [
    "from graspologic.datasets import load_drosophila_right\n",
    "from graspologic.plot import heatmap\n",
    "from graspologic.utils import binarize, symmetrize\n",
    "import graspologic.utils as graspologic_utils"
   ]
  },
  {
   "cell_type": "code",
   "execution_count": 109,
   "metadata": {},
   "outputs": [
    {
     "data": {
      "text/plain": [
       "103"
      ]
     },
     "execution_count": 109,
     "metadata": {},
     "output_type": "execute_result"
    }
   ],
   "source": [
    "## find the connected component for the common edge subgraph \n",
    "[a,ind]=graspologic_utils.largest_connected_component(prod,return_inds=True)\n",
    "len(ind)\n",
    "n=len(ind)\n",
    "n"
   ]
  },
  {
   "cell_type": "markdown",
   "metadata": {},
   "source": [
    "from scipy.optimize import quadratic_assignment\n",
    "from numpy import linalg as LA\n",
    "adj_gm=np.zeros([m,dim,dim])\n",
    "adj_gm[0]=adj_aug[0] ## use the first graph as baseline\n",
    "for i in range(1, m):\n",
    "    res = quadratic_assignment(adj_gm[i-1],adj_aug[i],options = {'maximize': True})\n",
    "    perm = res['col_ind']\n",
    "    adj_gm[i]=adj_aug[i][perm][:,perm]\n",
    "    before_norm = LA.norm(adj_aug[i] - adj_gm[i-1], 'fro')\n",
    "    after_norm = LA.norm(adj_gm[i] - adj_gm[i-1], 'fro')\n",
    "\n",
    "     # Printing the before and after norms to see the difference\n",
    "    print(f\"Frob diff before GM: {before_norm}, After GM: {after_norm}\")"
   ]
  },
  {
   "cell_type": "code",
   "execution_count": 110,
   "metadata": {},
   "outputs": [
    {
     "name": "stdout",
     "output_type": "stream",
     "text": [
      "True\n",
      "True\n",
      "True\n",
      "True\n",
      "True\n",
      "True\n",
      "True\n",
      "True\n",
      "True\n",
      "True\n",
      "True\n",
      "True\n",
      "True\n",
      "True\n",
      "True\n",
      "True\n",
      "True\n",
      "True\n"
     ]
    }
   ],
   "source": [
    "# double check every adj mat is connected \n",
    "glist=np.zeros([m-18,len(ind),len(ind)])\n",
    "for i in range(m-18):\n",
    "    glist[i]=adj_gm[i+18][ind][:,ind]\n",
    "    print(graspologic_utils.is_fully_connected(glist[i]))"
   ]
  },
  {
   "cell_type": "code",
   "execution_count": 89,
   "metadata": {},
   "outputs": [
    {
     "data": {
      "text/plain": [
       "array([[0., 1., 1., ..., 1., 0., 0.],\n",
       "       [1., 0., 0., ..., 1., 0., 1.],\n",
       "       [1., 0., 0., ..., 1., 0., 1.],\n",
       "       ...,\n",
       "       [1., 1., 1., ..., 0., 0., 1.],\n",
       "       [0., 0., 0., ..., 0., 0., 0.],\n",
       "       [1., 1., 1., ..., 0., 0., 0.]])"
      ]
     },
     "execution_count": 89,
     "metadata": {},
     "output_type": "execute_result"
    }
   ],
   "source": [
    "glist[0]"
   ]
  },
  {
   "cell_type": "code",
   "execution_count": 90,
   "metadata": {},
   "outputs": [
    {
     "data": {
      "text/plain": [
       "<matplotlib.collections.PathCollection at 0x7fd41c27e7f0>"
      ]
     },
     "execution_count": 90,
     "metadata": {},
     "output_type": "execute_result"
    },
    {
     "data": {
      "image/png": "[encoded data removed]",
      "text/plain": [
       "<Figure size 640x480 with 1 Axes>"
      ]
     },
     "metadata": {},
     "output_type": "display_data"
    }
   ],
   "source": [
    "## scree plot for one graph \n",
    "u,s,v=np.linalg.svd(glist[0], full_matrices=True)\n",
    "plt.scatter(range(n),s)"
   ]
  },
  {
   "cell_type": "code",
   "execution_count": 111,
   "metadata": {},
   "outputs": [],
   "source": [
    "from graspologic.embed import AdjacencySpectralEmbed"
   ]
  },
  {
   "cell_type": "code",
   "execution_count": 120,
   "metadata": {},
   "outputs": [
    {
     "data": {
      "text/plain": [
       "[1380.45,\n",
       " 1393.6666666666667,\n",
       " 1406.8833333333334,\n",
       " 1420.1166666666666,\n",
       " 1433.3666666666666,\n",
       " 1451.8,\n",
       " 1465.0833333333333,\n",
       " 1478.3666666666666,\n",
       " 1491.65,\n",
       " 1512.6166666666666,\n",
       " 1525.8666666666666,\n",
       " 1539.1,\n",
       " 1552.35,\n",
       " 1572.4833333333333,\n",
       " 1602.3333333333333,\n",
       " 1631.4,\n",
       " 1662.1166666666666,\n",
       " 1691.5]"
      ]
     },
     "execution_count": 120,
     "metadata": {},
     "output_type": "execute_result"
    }
   ],
   "source": [
    "tm=time_diff[18:]\n",
    "tm"
   ]
  },
  {
   "cell_type": "code",
   "execution_count": 121,
   "metadata": {},
   "outputs": [],
   "source": [
    "ed=1\n",
    "Xhat_list=np.zeros([len(tm),n,2*ed])\n",
    "for i in range(len(tm)):\n",
    "    ase = AdjacencySpectralEmbed(n_components=ed)\n",
    "    Xhat, Yhat = ase.fit_transform(glist[i])\n",
    "    Xhat_list[i][:,list(np.arange(ed))]=Xhat\n",
    "    Xhat_list[i][:,list(np.arange(ed,2*ed))]=Yhat"
   ]
  },
  {
   "cell_type": "code",
   "execution_count": 122,
   "metadata": {},
   "outputs": [],
   "source": [
    "from scipy.linalg import orthogonal_procrustes\n",
    "D=np.zeros([len(tm),len(tm)])"
   ]
  },
  {
   "cell_type": "code",
   "execution_count": 123,
   "metadata": {},
   "outputs": [],
   "source": [
    "for i in range(len(tm)):\n",
    "    for j in range(len(tm)):\n",
    "        R, sca = orthogonal_procrustes(Xhat_list[i] , Xhat_list[j] )\n",
    "        D[i,j]=LA.norm(Xhat_list[i] @ R -  Xhat_list[j],2)**2/n  "
   ]
  },
  {
   "cell_type": "code",
   "execution_count": 124,
   "metadata": {},
   "outputs": [],
   "source": [
    "J=np.ones([len(tm),len(tm)])/len(tm)\n",
    "I=np.eye(len(tm))\n",
    "P=I-J"
   ]
  },
  {
   "cell_type": "code",
   "execution_count": 125,
   "metadata": {},
   "outputs": [
    {
     "data": {
      "text/plain": [
       "Text(0, 0.5, 'eigen value')"
      ]
     },
     "execution_count": 125,
     "metadata": {},
     "output_type": "execute_result"
    },
    {
     "data": {
      "image/png": "[encoded data removed]",
      "text/plain": [
       "<Figure size 640x480 with 1 Axes>"
      ]
     },
     "metadata": {},
     "output_type": "display_data"
    }
   ],
   "source": [
    "H=(-1/2)*P@D@P\n",
    "w,v=LA.eig(H)\n",
    "idx = w.argsort()[::-1]   \n",
    "w = w[idx]\n",
    "v = v[:,idx]\n",
    "plt.scatter(range(len(tm)),w) \n",
    "#plt.title('scree plot for MDS')\n",
    "plt.xlabel('dimension',fontsize=15)\n",
    "plt.ylabel('eigen value',fontsize=15)"
   ]
  },
  {
   "cell_type": "code",
   "execution_count": 126,
   "metadata": {},
   "outputs": [],
   "source": [
    "d=4\n",
    "MDS=v[:,:d] @ np.diag(np.sqrt(w[:d]))"
   ]
  },
  {
   "cell_type": "code",
   "execution_count": 127,
   "metadata": {},
   "outputs": [
    {
     "ename": "NameError",
     "evalue": "name 'final_data' is not defined",
     "output_type": "error",
     "traceback": [
      "\u001b[0;31m---------------------------------------------------------------------------\u001b[0m",
      "\u001b[0;31mNameError\u001b[0m                                 Traceback (most recent call last)",
      "\u001b[0;32m/var/folders/rl/pr6f4j2d1_5913_lglcbwszc0000gn/T/ipykernel_39416/1951991121.py\u001b[0m in \u001b[0;36m<module>\u001b[0;34m\u001b[0m\n\u001b[1;32m      1\u001b[0m \u001b[0mplt\u001b[0m\u001b[0;34m.\u001b[0m\u001b[0mscatter\u001b[0m\u001b[0;34m(\u001b[0m\u001b[0mMDS\u001b[0m\u001b[0;34m[\u001b[0m\u001b[0;34m:\u001b[0m\u001b[0;34m,\u001b[0m\u001b[0;36m0\u001b[0m\u001b[0;34m]\u001b[0m\u001b[0;34m,\u001b[0m\u001b[0mMDS\u001b[0m\u001b[0;34m[\u001b[0m\u001b[0;34m:\u001b[0m\u001b[0;34m,\u001b[0m\u001b[0;36m1\u001b[0m\u001b[0;34m]\u001b[0m\u001b[0;34m,\u001b[0m\u001b[0mcolor\u001b[0m\u001b[0;34m=\u001b[0m\u001b[0;34m'black'\u001b[0m\u001b[0;34m)\u001b[0m\u001b[0;34m\u001b[0m\u001b[0;34m\u001b[0m\u001b[0m\n\u001b[1;32m      2\u001b[0m \u001b[0;32mfor\u001b[0m \u001b[0mi\u001b[0m \u001b[0;32min\u001b[0m \u001b[0mrange\u001b[0m\u001b[0;34m(\u001b[0m\u001b[0mlen\u001b[0m\u001b[0;34m(\u001b[0m\u001b[0mtm\u001b[0m\u001b[0;34m)\u001b[0m\u001b[0;34m)\u001b[0m\u001b[0;34m:\u001b[0m\u001b[0;34m\u001b[0m\u001b[0;34m\u001b[0m\u001b[0m\n\u001b[0;32m----> 3\u001b[0;31m     \u001b[0mplt\u001b[0m\u001b[0;34m.\u001b[0m\u001b[0mtext\u001b[0m\u001b[0;34m(\u001b[0m\u001b[0mMDS\u001b[0m\u001b[0;34m[\u001b[0m\u001b[0mi\u001b[0m\u001b[0;34m,\u001b[0m\u001b[0;36m0\u001b[0m\u001b[0;34m]\u001b[0m\u001b[0;34m,\u001b[0m\u001b[0mMDS\u001b[0m\u001b[0;34m[\u001b[0m\u001b[0mi\u001b[0m\u001b[0;34m,\u001b[0m\u001b[0;36m1\u001b[0m\u001b[0;34m]\u001b[0m\u001b[0;34m+\u001b[0m\u001b[0;36m0.01\u001b[0m\u001b[0;34m,\u001b[0m\u001b[0mint\u001b[0m\u001b[0;34m(\u001b[0m\u001b[0mfloat\u001b[0m\u001b[0;34m(\u001b[0m\u001b[0mfinal_data\u001b[0m\u001b[0;34m[\u001b[0m\u001b[0mkk\u001b[0m\u001b[0;34m[\u001b[0m\u001b[0mi\u001b[0m\u001b[0;34m]\u001b[0m\u001b[0;34m,\u001b[0m\u001b[0;36m1\u001b[0m\u001b[0;34m]\u001b[0m\u001b[0;34m)\u001b[0m\u001b[0;34m)\u001b[0m\u001b[0;34m,\u001b[0m \u001b[0mfontsize\u001b[0m\u001b[0;34m=\u001b[0m\u001b[0;36m16\u001b[0m\u001b[0;34m)\u001b[0m\u001b[0;34m\u001b[0m\u001b[0;34m\u001b[0m\u001b[0m\n\u001b[0m\u001b[1;32m      4\u001b[0m \u001b[0mplt\u001b[0m\u001b[0;34m.\u001b[0m\u001b[0mxlabel\u001b[0m\u001b[0;34m(\u001b[0m\u001b[0;34m\"dim 1\"\u001b[0m\u001b[0;34m,\u001b[0m\u001b[0mfontsize\u001b[0m\u001b[0;34m=\u001b[0m\u001b[0;36m15\u001b[0m\u001b[0;34m)\u001b[0m\u001b[0;34m\u001b[0m\u001b[0;34m\u001b[0m\u001b[0m\n\u001b[1;32m      5\u001b[0m \u001b[0mplt\u001b[0m\u001b[0;34m.\u001b[0m\u001b[0mylabel\u001b[0m\u001b[0;34m(\u001b[0m\u001b[0;34m\"dim 2\"\u001b[0m\u001b[0;34m,\u001b[0m\u001b[0mfontsize\u001b[0m\u001b[0;34m=\u001b[0m\u001b[0;36m15\u001b[0m\u001b[0;34m)\u001b[0m\u001b[0;34m\u001b[0m\u001b[0;34m\u001b[0m\u001b[0m\n",
      "\u001b[0;31mNameError\u001b[0m: name 'final_data' is not defined"
     ]
    },
    {
     "data": {
      "image/png": "[encoded data removed]",
      "text/plain": [
       "<Figure size 640x480 with 1 Axes>"
      ]
     },
     "metadata": {},
     "output_type": "display_data"
    }
   ],
   "source": [
    "plt.scatter(MDS[:,0],MDS[:,1],color='black')\n",
    "for i in range(len(tm)):\n",
    "    plt.text(MDS[i,0],MDS[i,1]+0.01,int(float(final_data[kk[i],1])), fontsize=16)\n",
    "plt.xlabel(\"dim 1\",fontsize=15)\n",
    "plt.ylabel(\"dim 2\",fontsize=15)"
   ]
  },
  {
   "cell_type": "code",
   "execution_count": 116,
   "metadata": {},
   "outputs": [],
   "source": [
    "from sklearn.manifold import Isomap"
   ]
  },
  {
   "cell_type": "code",
   "execution_count": 128,
   "metadata": {},
   "outputs": [],
   "source": [
    "embedding = Isomap(n_neighbors=4,n_components=1)\n",
    "iso = embedding.fit_transform(MDS)"
   ]
  },
  {
   "cell_type": "code",
   "execution_count": 187,
   "metadata": {},
   "outputs": [
    {
     "data": {
      "text/plain": [
       "array([   0,   39,   71,   84,   97,  112,  157,  172,  193,  221,  250,\n",
       "       1383, 1394, 1397, 1406, 1420, 1434, 1453, 1466, 1480, 1525, 1541,\n",
       "       1556, 1575, 1603, 1662])"
      ]
     },
     "execution_count": 187,
     "metadata": {},
     "output_type": "execute_result"
    }
   ],
   "source": [
    "new_list = np.array(final_data[kk, 1]).astype(float).astype(int)\n",
    "new_list\n"
   ]
  },
  {
   "cell_type": "code",
   "execution_count": 129,
   "metadata": {},
   "outputs": [
    {
     "data": {
      "text/plain": [
       "<matplotlib.collections.PathCollection at 0x7fd3a53d87c0>"
      ]
     },
     "execution_count": 129,
     "metadata": {},
     "output_type": "execute_result"
    },
    {
     "data": {
      "image/png": "[encoded data removed]",
      "text/plain": [
       "<Figure size 640x480 with 1 Axes>"
      ]
     },
     "metadata": {},
     "output_type": "display_data"
    }
   ],
   "source": [
    "\n",
    "plt.scatter(tm, iso)"
   ]
  },
  {
   "cell_type": "code",
   "execution_count": 197,
   "metadata": {},
   "outputs": [
    {
     "name": "stderr",
     "output_type": "stream",
     "text": [
      "No artists with labels found to put in legend.  Note that artists whose label start with an underscore are ignored when legend() is called with no argument.\n"
     ]
    },
    {
     "data": {
      "image/png": "[encoded data removed]",
      "text/plain": [
       "<Figure size 640x480 with 1 Axes>"
      ]
     },
     "metadata": {},
     "output_type": "display_data"
    }
   ],
   "source": [
    "\n",
    "# Plot the scatter plot\n",
    "plt.scatter(new_list[:10], iso[:10])\n",
    "\n",
    "# Add vertical lines\n",
    "#plt.axvline(x=stimulus_time_diff[0], color='red', linestyle='--', label='stimu 1')\n",
    "#plt.axvline(x=stimulus_time_diff[1], color='blue', linestyle='--', label='stimu 2')\n",
    "#plt.axvline(x=stimulus_time_diff[2], color='green', linestyle='--', label='stimu 3')\n",
    "#plt.axvline(x=stimulus_time_diff[3], color='orange', linestyle='--', label='stimu 4')\n",
    "\n",
    "# Set the x-axis label and y-axis label\n",
    "plt.xlabel('minutes after Baseline 2023-06-02-14:24:58')\n",
    "plt.ylabel('iso-mirror')\n",
    "\n",
    "# Add a title\n",
    "plt.title('well 5')\n",
    "\n",
    "# Add a legend\n",
    "plt.legend()\n",
    "\n",
    "# Show the plot\n",
    "plt.show()\n"
   ]
  },
  {
   "cell_type": "code",
   "execution_count": 199,
   "metadata": {},
   "outputs": [
    {
     "data": {
      "image/png": "[encoded data removed]",
      "text/plain": [
       "<Figure size 640x480 with 1 Axes>"
      ]
     },
     "metadata": {},
     "output_type": "display_data"
    }
   ],
   "source": [
    "# Plot the scatter plot\n",
    "plt.scatter(new_list[11:], iso[11:])\n",
    "\n",
    "# Add vertical lines\n",
    "plt.axvline(x=stimulus_time_diff[0], color='red', linestyle='--', label='stimu 1')\n",
    "plt.axvline(x=stimulus_time_diff[1], color='blue', linestyle='--', label='stimu 2')\n",
    "plt.axvline(x=stimulus_time_diff[2], color='green', linestyle='--', label='stimu 3')\n",
    "plt.axvline(x=stimulus_time_diff[3], color='orange', linestyle='--', label='stimu 4')\n",
    "\n",
    "# Set the x-axis label and y-axis label\n",
    "plt.xlabel('minutes after Baseline 2023-06-02-14:24:58')\n",
    "plt.ylabel('iso-mirror')\n",
    "\n",
    "# Add a title\n",
    "plt.title('well 5')\n",
    "\n",
    "# Add a legend\n",
    "plt.legend()\n",
    "\n",
    "# Show the plot\n",
    "plt.show()\n"
   ]
  }
 ],
 "metadata": {
  "kernelspec": {
   "display_name": "base",
   "language": "python",
   "name": "python3"
  },
  "language_info": {
   "codemirror_mode": {
    "name": "ipython",
    "version": 3
   },
   "file_extension": ".py",
   "mimetype": "text/x-python",
   "name": "python",
   "nbconvert_exporter": "python",
   "pygments_lexer": "ipython3",
   "version": "3.9.13"
  }
 },
 "nbformat": 4,
 "nbformat_minor": 2
}
