{
 "cells": [
  {
   "cell_type": "code",
   "execution_count": 1,
   "metadata": {},
   "outputs": [],
   "source": [
    "import numpy as np\n",
    "import pickle as pkl\n",
    "from pprint import pprint\n",
    "import os\n",
    "import matplotlib\n",
    "import matplotlib.pyplot as plt\n",
    "from datetime import datetime\n",
    "plt.ion()\n",
    "\n",
    "\n",
    "import graspologic.utils as graspologic_utils\n",
    "from graspologic.embed import AdjacencySpectralEmbed\n",
    "\n",
    "from graspologic.datasets import load_drosophila_right\n",
    "from graspologic.plot import heatmap\n",
    "from graspologic.utils import binarize, symmetrize\n",
    "import graspologic.utils as graspologic_utils\n",
    "from graspologic.embed import AdjacencySpectralEmbed\n",
    "from scipy.linalg import orthogonal_procrustes\n",
    "from graspologic.plot import heatmap\n",
    "from sklearn.manifold import Isomap\n",
    "import piecewise_regression\n",
    "from sklearn.linear_model import LinearRegression\n",
    "\n",
    "\n",
    "from kneed import DataGenerator, KneeLocator\n",
    "\n",
    "def filter_matrix_TC(data, well):\n",
    "\n",
    "    # Extract necessary data from the loaded data structure\n",
    "    adj_matrix = data[well]['win_0']['adj_matrix_predicted']\n",
    "    votes = data[well]['win_0']['votes']  # This variable is loaded but not used in the snippet you provided\n",
    "    corr_peaks = data[well]['win_0']['corr_peaks']\n",
    "    fs = data['config']['data']['fs']  # Sampling frequency\n",
    "\n",
    "    # Initialize a matrix to track synchronization based on correlation peaks\n",
    "    synced_matrix = np.full(adj_matrix.shape, False)\n",
    "    for key in corr_peaks.keys():\n",
    "        if np.all(np.abs(np.array(corr_peaks[key]['delays'])) < 1/fs):\n",
    "            synced_matrix[key[0], key[1]] = True\n",
    "            synced_matrix[key[1], key[0]] = True\n",
    "\n",
    "    # Create the filtered matrix as per the given logic\n",
    "    filtered_matrix = np.logical_and(adj_matrix, np.logical_not(synced_matrix))\n",
    "\n",
    "    return filtered_matrix\n",
    "\n",
    "\n",
    "import warnings\n",
    "\n",
    "def find_optimal_neighbors(X):\n",
    "    n_neighbors = 2\n",
    "    while True:\n",
    "        try:\n",
    "            with warnings.catch_warnings():\n",
    "                warnings.simplefilter(\"error\")\n",
    "                isomap = Isomap(n_neighbors=n_neighbors)\n",
    "                isomap.fit(X)\n",
    "                print(f\"Successful with n_neighbors={n_neighbors}\")\n",
    "                return n_neighbors\n",
    "        except Warning as w:\n",
    "            print(f\"Warning encountered with n_neighbors={n_neighbors}: {w}\")\n",
    "            n_neighbors += 1\n",
    "\n",
    "\n",
    "\n",
    "\n",
    "from scipy.stats import norm\n",
    "\n",
    "def get_elbows(dat, n=3, threshold=False, plot=True, main=\"\"):\n",
    "    \"\"\"\n",
    "    Given a decreasingly sorted vector, return the given number of elbows.\n",
    "\n",
    "    Args:\n",
    "        dat: an input vector (e.g. a vector of standard deviations) or an input feature matrix.\n",
    "        n: the number of returned elbows.\n",
    "        threshold: either False or a number. If threshold is a number, then all\n",
    "                   the elements in dat that are not larger than the threshold will be ignored.\n",
    "        plot: logical. When True, it depicts a scree plot with highlighted elbows.\n",
    "        main: title for the plot.\n",
    "\n",
    "    Returns:\n",
    "        q: a list of length n containing the positions of the elbows.\n",
    "    \"\"\"\n",
    "    \n",
    "    if isinstance(dat, np.ndarray) and len(dat.shape) > 1:\n",
    "        d = np.sort(np.std(dat, axis=0))[::-1]\n",
    "    else:\n",
    "        d = np.sort(dat)[::-1]\n",
    "\n",
    "    if threshold is not False:\n",
    "        d = d[d > threshold]\n",
    "\n",
    "    p = len(d)\n",
    "    if p == 0:\n",
    "        raise ValueError(f\"d must have elements that are larger than the threshold {threshold}!\")\n",
    "\n",
    "    lq = np.zeros(p)  # log likelihood, function of q\n",
    "    for q in range(p):\n",
    "        mu1 = np.mean(d[:q+1])\n",
    "        mu2 = np.mean(d[q+1:]) if q < p-1 else np.nan\n",
    "        sigma2 = (np.sum((d[:q+1] - mu1)**2) + np.sum((d[q+1:] - mu2)**2)) / (p - 1 - (q < p-1))\n",
    "        lq[q] = (np.sum(norm.logpdf(d[:q+1], mu1, np.sqrt(sigma2))) + \n",
    "                 np.sum(norm.logpdf(d[q+1:], mu2, np.sqrt(sigma2))))\n",
    "\n",
    "    q = [np.argmax(lq)]\n",
    "    if n > 1 and q[0] < (p - 1):\n",
    "        q.extend([q[0] + 1 + el for el in get_elbows(d[q[0]+1:], n-1, plot=False)])\n",
    "\n",
    "    if plot:\n",
    "        if isinstance(dat, np.ndarray) and len(dat.shape) > 1:\n",
    "            sdv = d\n",
    "            plt.plot(sdv, marker='o')\n",
    "            plt.xlabel(\"dim\")\n",
    "            plt.ylabel(\"stdev\")\n",
    "            plt.title(main)\n",
    "            plt.scatter(q, sdv[q], s=100, color='red')\n",
    "        else:\n",
    "            plt.plot(dat, marker='o')\n",
    "            plt.title(main)\n",
    "            plt.scatter(q, dat[q], s=100, color='red')\n",
    "        plt.show()\n",
    "\n",
    "    return q\n",
    "\n"
   ]
  },
  {
   "cell_type": "markdown",
   "metadata": {},
   "source": [
    "##  Week 5.5 to 8.5 (run 8 and LD)/LD Chip M5898 ('well003', 'win_0', 932.8, 44232.2) "
   ]
  },
  {
   "cell_type": "code",
   "execution_count": 2,
   "metadata": {},
   "outputs": [],
   "source": [
    "dr='/Users/tianyichen/Desktop/Research /PhDresearch/Hopkins_Organoid/2024May28 No window data /OneDrive_1_6-17-2024/TimeCourseData_ecr_results/Raw Data Week 5.5 to 8.5 (run 8 and LD)/Run 8'\n",
    "#dr='/Users/tianyichen/Desktop/Research /PhDresearch/Hopkins_Organoid/March 30 2024/TimeCourseData_ecr_results_windowed/Raw Data Week 5.5 to 8.5 (run 8 and LD)/Run 8'\n",
    "#dr='/Users/tianyichen/Desktop/Research /PhDresearch/Hopkins_Organoid/March 30 2024/TimeCourseData_ecr_results_windowed/Raw Data Week 9.5 to 12.5 (run 6 and 7)/Run 7'\n",
    "os.chdir(dr)"
   ]
  },
  {
   "cell_type": "code",
   "execution_count": 3,
   "metadata": {},
   "outputs": [
    {
     "data": {
      "text/plain": [
       "['DIV 3/data.raw_20240521_17h07m.pkl',\n",
       " 'DIV 5/data.raw_20240521_17h07m.pkl',\n",
       " 'DIV 7/data.raw_20240521_17h07m.pkl',\n",
       " 'DIV 9/data.raw_20240521_17h07m.pkl',\n",
       " 'DIV 11/data.raw_20240521_17h07m.pkl',\n",
       " 'DIV 13/data.raw_20240521_17h07m.pkl',\n",
       " 'DIV 15/data.raw_20240521_17h07m.pkl',\n",
       " 'DIV 17/data.raw_20240521_17h07m.pkl',\n",
       " 'DIV 19/data.raw_20240521_17h07m.pkl',\n",
       " 'DIV 21/data.raw_20240521_17h07m.pkl']"
      ]
     },
     "execution_count": 3,
     "metadata": {},
     "output_type": "execute_result"
    }
   ],
   "source": [
    "filenames=os.listdir(dr)\n",
    "filenames.pop(2)\n",
    "sorted_filenames = sorted(filenames, key=lambda x: int(x.split('DIV ')[1]))\n",
    "#sorted_filenames_updated = [filename + '/data.raw_20240326_18h20m.pkl' for filename in sorted_filenames]\n",
    "sorted_filenames_updated = [filename + '/data.raw_20240521_17h07m.pkl' for filename in sorted_filenames]\n",
    "#sorted_filenames_updated = [filename + '/M05912data.raw_20240326_18h20m.pkl' for filename in sorted_filenames]\n",
    "sorted_filenames_updated\n"
   ]
  },
  {
   "cell_type": "code",
   "execution_count": 12,
   "metadata": {},
   "outputs": [
    {
     "data": {
      "text/plain": [
       "dict_keys(['spike_amp_thresh', 'channel_numbers', 'channel_spikes_per_sec', 'win_0'])"
      ]
     },
     "execution_count": 12,
     "metadata": {},
     "output_type": "execute_result"
    }
   ],
   "source": [
    "## This shows that the data doesn't have window \n",
    "with open(sorted_filenames_updated[0], 'rb') as f:\n",
    "    data = pkl.load(f)\n",
    "data['well000'].keys()"
   ]
  },
  {
   "cell_type": "code",
   "execution_count": 4,
   "metadata": {},
   "outputs": [],
   "source": [
    "well='well004'"
   ]
  },
  {
   "cell_type": "code",
   "execution_count": 5,
   "metadata": {},
   "outputs": [
    {
     "name": "stdout",
     "output_type": "stream",
     "text": [
      "Average number of edges: 49084.6\n"
     ]
    }
   ],
   "source": [
    "## read in all the time series of graphs\n",
    "all_adj = []\n",
    "num_vertices = []\n",
    "for i in range(len(sorted_filenames_updated)):\n",
    "    with open(sorted_filenames_updated[i], 'rb') as f:\n",
    "        data = pkl.load(f)\n",
    "    adj = filter_matrix_TC(data, well)\n",
    "    all_adj.append(adj)\n",
    "    num_vertices.append(adj.shape[0])\n",
    "\n",
    "total_edges = 0\n",
    "total_matrices = len(all_adj)\n",
    "\n",
    "for adj in all_adj:\n",
    "    total_edges += adj.sum()\n",
    "\n",
    "average_edges = total_edges / total_matrices\n",
    "print(\"Average number of edges:\", average_edges)"
   ]
  },
  {
   "cell_type": "code",
   "execution_count": 11,
   "metadata": {},
   "outputs": [
    {
     "name": "stdout",
     "output_type": "stream",
     "text": [
      "Frob diff before GM: 12.489995996796797, After GM: 12.489995996796797,OFV before GM: 0.0, After GM: 0.0\n",
      "Frob diff before GM: 23.194827009486403, After GM: 17.204650534085253,OFV before GM: 0.0, After GM: 121.0\n",
      "Frob diff before GM: 32.848135411313685, After GM: 24.596747752497688,OFV before GM: 0.0, After GM: 237.0\n",
      "Frob diff before GM: 74.34379597518544, After GM: 65.67343450741707,OFV before GM: 1.0, After GM: 608.0\n",
      "Frob diff before GM: 170.48167056900868, After GM: 143.7289114966088,OFV before GM: 63.0, After GM: 4266.0\n",
      "Frob diff before GM: 325.31523173684934, After GM: 264.69605210505125,OFV before GM: 1910.0, After GM: 19793.0\n",
      "Frob diff before GM: 423.8997522999984, After GM: 246.91901506364388,OFV before GM: 8089.0, After GM: 67450.0\n",
      "Frob diff before GM: 467.69755184306877, After GM: 273.1940702138317,OFV before GM: 16118.0, After GM: 88171.0\n",
      "Frob diff before GM: 481.0945852948254, After GM: 270.3701166919155,OFV before GM: 16550.0, After GM: 95726.0\n"
     ]
    }
   ],
   "source": [
    "## add zeros to the adj mat such that they have the same dims \n",
    "dim = max(num_vertices) # Max number of vertices to determine dimension\n",
    "m=len(all_adj)\n",
    "adj_aug = np.zeros((m, dim, dim))  # Pre-allocate a zero matrix of the desired size\n",
    "for i in range(m):\n",
    "    ma = all_adj[i]  \n",
    "    l = ma.shape[0]  \n",
    "    adj_aug[i, :l, :l] = ma \n",
    "    \n",
    "graph_matching=True\n",
    "\n",
    "from scipy.optimize import quadratic_assignment\n",
    "from numpy import linalg as LA\n",
    "adj_gm=np.zeros([m,dim,dim])\n",
    "adj_gm[0]=adj_aug[0] ## use the first graph as baseline\n",
    "for i in range(1, m):\n",
    "    res = quadratic_assignment(adj_gm[i-1],adj_aug[i],options = {'maximize': True})\n",
    "    perm = res['col_ind']\n",
    "    ofv=res['fun']\n",
    "    fun_I = np.trace(adj_aug[i].T  @ adj_gm[i-1] )\n",
    "    adj_gm[i]=adj_aug[i][perm][:,perm]\n",
    "    before_norm = LA.norm(adj_aug[i] - adj_gm[i-1], 'fro')\n",
    "    after_norm = LA.norm(adj_gm[i] - adj_gm[i-1], 'fro')\n",
    "\n",
    "     # Printing the before and after norms to see the difference\n",
    "    print(f\"Frob diff before GM: {before_norm}, After GM: {after_norm},OFV before GM: {fun_I}, After GM: {ofv}\")"
   ]
  },
  {
   "cell_type": "code",
   "execution_count": 17,
   "metadata": {},
   "outputs": [],
   "source": [
    "choosen_time_points=range(1,10)\n",
    "tm=choosen_time_points\n",
    "\n",
    "D=np.zeros([len(tm),len(tm)])"
   ]
  },
  {
   "cell_type": "code",
   "execution_count": 18,
   "metadata": {},
   "outputs": [
    {
     "name": "stdout",
     "output_type": "stream",
     "text": [
      "ASE embedding dim 8 50\n",
      "ASE embedding dim 6 37\n",
      "ASE embedding dim 5 36\n",
      "ASE embedding dim 8 45\n",
      "ASE embedding dim 8 47\n",
      "ASE embedding dim 8 47\n",
      "ASE embedding dim 8 47\n",
      "ASE embedding dim 8 48\n",
      "ASE embedding dim 8 46\n",
      "ASE embedding dim 12 90\n",
      "ASE embedding dim 12 80\n",
      "ASE embedding dim 12 75\n",
      "ASE embedding dim 12 84\n",
      "ASE embedding dim 12 88\n",
      "ASE embedding dim 12 87\n",
      "ASE embedding dim 12 87\n",
      "ASE embedding dim 12 87\n",
      "ASE embedding dim 28 120\n",
      "ASE embedding dim 28 120\n",
      "ASE embedding dim 30 119\n",
      "ASE embedding dim 30 119\n",
      "ASE embedding dim 27 118\n",
      "ASE embedding dim 27 117\n",
      "ASE embedding dim 28 118\n",
      "ASE embedding dim 2 249\n",
      "ASE embedding dim 2 244\n",
      "ASE embedding dim 2 236\n",
      "ASE embedding dim 2 238\n",
      "ASE embedding dim 2 240\n",
      "ASE embedding dim 2 230\n",
      "ASE embedding dim 2 488\n",
      "ASE embedding dim 2 486\n",
      "ASE embedding dim 2 470\n",
      "ASE embedding dim 2 460\n",
      "ASE embedding dim 2 448\n",
      "ASE embedding dim 2 805\n",
      "ASE embedding dim 2 791\n",
      "ASE embedding dim 2 770\n",
      "ASE embedding dim 2 733\n",
      "ASE embedding dim 2 877\n",
      "ASE embedding dim 2 874\n",
      "ASE embedding dim 2 795\n",
      "ASE embedding dim 2 965\n",
      "ASE embedding dim 2 908\n",
      "ASE embedding dim 2 938\n"
     ]
    },
    {
     "data": {
      "text/plain": [
       "<AxesSubplot:title={'center':'Distance matrix between time points'}>"
      ]
     },
     "execution_count": 18,
     "metadata": {},
     "output_type": "execute_result"
    },
    {
     "data": {
      "image/png": "[encoded data removed]",
      "text/plain": [
       "<Figure size 1000x1000 with 2 Axes>"
      ]
     },
     "metadata": {},
     "output_type": "display_data"
    }
   ],
   "source": [
    "Pairwise_lccc=True\n",
    "for i in range(len(tm)):\n",
    "    for j in range(i,len(tm)):\n",
    "        prod=adj_gm[choosen_time_points[i]] * adj_gm[choosen_time_points[j]]\n",
    "        [a,ind]=graspologic_utils.largest_connected_component(prod,return_inds=True)\n",
    "        n=len(ind)\n",
    "        #print(i,j,n)\n",
    "        glist=np.zeros([len(choosen_time_points),len(ind),len(ind)])\n",
    "        glist[i]=adj_gm[choosen_time_points[i]][ind][:,ind]\n",
    "        glist[j]=adj_gm[choosen_time_points[j]][ind][:,ind]\n",
    "        #print(graspologic_utils.is_fully_connected(glist[i]))\n",
    "\n",
    "        #if n<ed_old:\n",
    "        #    ed=int(ed_old/3)\n",
    "        #    print(\"ASE embedding dim\",ed)\n",
    "        \n",
    "\n",
    "        s = np.linalg.svd(glist[i], compute_uv=False)\n",
    "        #kneedle=KneeLocator(range(glist[i].shape[0]),s, curve=\"convex\", direction=\"decreasing\")\n",
    "        #ed=kneedle.knee\n",
    "        ed=get_elbows(s, n=1, plot=False)[0]+1\n",
    "        print(\"ASE embedding dim\",ed,n)\n",
    "\n",
    "        Xhat_list=np.zeros([len(tm),n,2*ed])\n",
    "        ase = AdjacencySpectralEmbed(n_components=ed)\n",
    "        Xhat, Yhat = ase.fit_transform(glist[i])\n",
    "        Xhat_list[i][:,list(np.arange(ed))]=Xhat\n",
    "        Xhat_list[i][:,list(np.arange(ed,2*ed))]=Yhat\n",
    "\n",
    "        Xhat, Yhat = ase.fit_transform(glist[j])\n",
    "        Xhat_list[j][:,list(np.arange(ed))]=Xhat\n",
    "        Xhat_list[j][:,list(np.arange(ed,2*ed))]=Yhat\n",
    "\n",
    "        R, sca = orthogonal_procrustes(Xhat_list[i] , Xhat_list[j] )\n",
    "        D[i,j]=LA.norm(Xhat_list[i] @ R -  Xhat_list[j],2)**2/n  #Frobenius norm\n",
    "\n",
    "D=D+D.T\n",
    "heatmap(D, title=\"Distance matrix between time points\")"
   ]
  },
  {
   "cell_type": "code",
   "execution_count": 20,
   "metadata": {},
   "outputs": [
    {
     "data": {
      "image/png": "[encoded data removed]",
      "text/plain": [
       "<Figure size 640x480 with 1 Axes>"
      ]
     },
     "metadata": {},
     "output_type": "display_data"
    },
    {
     "name": "stdout",
     "output_type": "stream",
     "text": [
      "CMDS embedding dim: 2\n"
     ]
    }
   ],
   "source": [
    "## CMDS\n",
    "J=np.ones([len(tm),len(tm)])/len(tm)\n",
    "I=np.eye(len(tm))\n",
    "P=I-J\n",
    "\n",
    "H=(-1/2)*P@D@P\n",
    "w,v=LA.eig(H)\n",
    "idx = w.argsort()[::-1]   \n",
    "w = w[idx]\n",
    "v = v[:,idx]\n",
    "#plt.scatter(range(len(tm)),w) \n",
    "#plt.title('scree plot for MDS')\n",
    "#plt.xlabel('dimension',fontsize=15)\n",
    "#plt.ylabel('eigen value',fontsize=15)\n",
    "#kneedle=KneeLocator(range(len(tm)),w, curve=\"convex\", direction=\"decreasing\")\n",
    "d=get_elbows(w, n=2, plot=True)[1]+1\n",
    "print(\"CMDS embedding dim:\", d)\n",
    "MDS=v[:,:d] @ np.diag(np.sqrt(w[:d]))"
   ]
  },
  {
   "cell_type": "code",
   "execution_count": 25,
   "metadata": {},
   "outputs": [],
   "source": [
    "time_diff_chosen = [ 5, 7, 9, 11, 13, 15, 17, 19, 21]"
   ]
  },
  {
   "cell_type": "code",
   "execution_count": 28,
   "metadata": {},
   "outputs": [
    {
     "data": {
      "text/plain": [
       "<matplotlib.collections.PathCollection at 0x7fa7e2977430>"
      ]
     },
     "execution_count": 28,
     "metadata": {},
     "output_type": "execute_result"
    },
    {
     "data": {
      "image/png": "[encoded data removed]",
      "text/plain": [
       "<Figure size 640x480 with 1 Axes>"
      ]
     },
     "metadata": {},
     "output_type": "display_data"
    }
   ],
   "source": [
    "plt.scatter(time_diff_chosen,-MDS[:,0],color='black')"
   ]
  },
  {
   "cell_type": "code",
   "execution_count": 31,
   "metadata": {},
   "outputs": [
    {
     "data": {
      "text/plain": [
       "Text(0, 0.5, 'dim 2')"
      ]
     },
     "execution_count": 31,
     "metadata": {},
     "output_type": "execute_result"
    },
    {
     "data": {
      "image/png": "[encoded data removed]",
      "text/plain": [
       "<Figure size 640x480 with 1 Axes>"
      ]
     },
     "metadata": {},
     "output_type": "display_data"
    }
   ],
   "source": [
    "plt.scatter(MDS[:,0],-MDS[:,1],color='black')\n",
    "for i in range(len(tm)):\n",
    "    plt.text(MDS[i,0],-MDS[i,1]+0.01,int(time_diff_chosen[i]), fontsize=12)\n",
    "plt.xlabel(\"dim 1\",fontsize=15)\n",
    "plt.ylabel(\"dim 2\",fontsize=15)"
   ]
  },
  {
   "cell_type": "code",
   "execution_count": 33,
   "metadata": {},
   "outputs": [
    {
     "name": "stdout",
     "output_type": "stream",
     "text": [
      "Successful with n_neighbors=2\n"
     ]
    },
    {
     "data": {
      "text/plain": [
       "Text(0.5, 1.0, 'Iso-mirror of well=well004 graph_matching=True Pairwise_lccc=True')"
      ]
     },
     "execution_count": 33,
     "metadata": {},
     "output_type": "execute_result"
    },
    {
     "data": {
      "image/png": "[encoded data removed]",
      "text/plain": [
       "<Figure size 640x480 with 1 Axes>"
      ]
     },
     "metadata": {},
     "output_type": "display_data"
    }
   ],
   "source": [
    "## ISOMAP fitting on CMDS result\n",
    "\n",
    "optimal_n_neighbors = find_optimal_neighbors(MDS)\n",
    "embedding = Isomap(n_neighbors=optimal_n_neighbors,n_components=1)\n",
    "iso = embedding.fit_transform(MDS)\n",
    "iso=iso[:,0]\n",
    "\n",
    "if iso[0]>0:\n",
    "    iso=-iso\n",
    "else:\n",
    "    iso=iso  \n",
    "\n",
    "plt.scatter(time_diff_chosen,iso)\n",
    "plt.xlabel(\"time\",fontsize=15)\n",
    "plt.ylabel(\"iso-mirror\",fontsize=15)\n",
    "plt.title(\"Iso-mirror of well=\" + str(well)+' graph_matching='+str(graph_matching)+' Pairwise_lccc='+str(Pairwise_lccc))\n"
   ]
  },
  {
   "cell_type": "code",
   "execution_count": 12,
   "metadata": {},
   "outputs": [
    {
     "data": {
      "text/plain": [
       "array([[3, None, None],\n",
       "       [5, None, None],\n",
       "       [7, None, None],\n",
       "       [9, None, None],\n",
       "       [11, None, None],\n",
       "       [13, None, None],\n",
       "       [15, None, None],\n",
       "       [17, None, None],\n",
       "       [19, None, None],\n",
       "       [21, None, None]], dtype=object)"
      ]
     },
     "execution_count": 12,
     "metadata": {},
     "output_type": "execute_result"
    }
   ],
   "source": [
    "sort_filename"
   ]
  },
  {
   "cell_type": "code",
   "execution_count": 13,
   "metadata": {},
   "outputs": [],
   "source": [
    "for i in range(0,m):\n",
    "    mat_data = all_adj[i]\n",
    "    sort_filename[i,1]=(mat_data.shape[0])\n",
    "    sort_filename[i,2]=(sum(sum(mat_data>0)))"
   ]
  },
  {
   "cell_type": "code",
   "execution_count": 14,
   "metadata": {},
   "outputs": [
    {
     "data": {
      "text/plain": [
       "array([[3, 443, 1],\n",
       "       [5, 860, 29],\n",
       "       [7, 963, 589],\n",
       "       [9, 1000, 1415],\n",
       "       [11, 1006, 18351],\n",
       "       [13, 1010, 54048],\n",
       "       [15, 1010, 84279],\n",
       "       [17, 1009, 97738],\n",
       "       [19, 1014, 95052],\n",
       "       [21, 1013, 90820]], dtype=object)"
      ]
     },
     "execution_count": 14,
     "metadata": {},
     "output_type": "execute_result"
    }
   ],
   "source": [
    "sort_filename"
   ]
  },
  {
   "cell_type": "code",
   "execution_count": 13,
   "metadata": {},
   "outputs": [
    {
     "name": "stderr",
     "output_type": "stream",
     "text": [
      "/Users/tianyichen/opt/anaconda3/lib/python3.9/site-packages/matplotlib/collections.py:196: ComplexWarning: Casting complex values to real discards the imaginary part\n",
      "  offsets = np.asanyarray(offsets, float)\n"
     ]
    },
    {
     "data": {
      "text/plain": [
       "<matplotlib.collections.PathCollection at 0x7fedf55a1d30>"
      ]
     },
     "execution_count": 13,
     "metadata": {},
     "output_type": "execute_result"
    },
    {
     "data": {
      "image/png": "[encoded data removed]",
      "text/plain": [
       "<Figure size 640x480 with 1 Axes>"
      ]
     },
     "metadata": {},
     "output_type": "display_data"
    }
   ],
   "source": [
    "s,u=np.linalg.eig(all_adj[5])\n",
    "plt.scatter(range(all_adj[5].shape[0]),s)"
   ]
  },
  {
   "cell_type": "code",
   "execution_count": 15,
   "metadata": {},
   "outputs": [],
   "source": [
    "tm = [4,5,6,7,8,9]  "
   ]
  },
  {
   "cell_type": "code",
   "execution_count": 25,
   "metadata": {},
   "outputs": [],
   "source": [
    "## add zeros to the adj mat such that they have the same dims \n",
    "dim = max(sort_filename[tm, 1])  # Max number of vertices to determine dimension\n",
    "adj_aug = np.zeros((m, dim, dim))  # Pre-allocate a zero matrix of the desired size\n",
    "\n",
    "for i in range(len(tm)):\n",
    "    ma = all_adj[tm[i]]  \n",
    "    l = ma.shape[0]  \n",
    "    adj_aug[i, :l, :l] = ma "
   ]
  },
  {
   "cell_type": "code",
   "execution_count": 26,
   "metadata": {},
   "outputs": [
    {
     "data": {
      "text/plain": [
       "array([[False, False, False, ..., False, False, False],\n",
       "       [False, False,  True, ..., False, False, False],\n",
       "       [False, False, False, ..., False, False, False],\n",
       "       ...,\n",
       "       [False, False, False, ..., False, False, False],\n",
       "       [False, False, False, ..., False, False, False],\n",
       "       [False, False, False, ..., False, False, False]])"
      ]
     },
     "execution_count": 26,
     "metadata": {},
     "output_type": "execute_result"
    }
   ],
   "source": [
    "all_adj[5]"
   ]
  },
  {
   "cell_type": "code",
   "execution_count": 27,
   "metadata": {},
   "outputs": [],
   "source": [
    "from scipy.optimize import quadratic_assignment\n",
    "from numpy import linalg as LA"
   ]
  },
  {
   "cell_type": "code",
   "execution_count": 33,
   "metadata": {},
   "outputs": [],
   "source": [
    "adj_gm=np.zeros([len(tm),dim,dim]) ## use the first graph as baseline\n",
    "adj_gm[0] = adj_aug[0] "
   ]
  },
  {
   "cell_type": "code",
   "execution_count": 29,
   "metadata": {},
   "outputs": [
    {
     "data": {
      "text/plain": [
       "1014"
      ]
     },
     "execution_count": 29,
     "metadata": {},
     "output_type": "execute_result"
    }
   ],
   "source": [
    "dim"
   ]
  },
  {
   "cell_type": "code",
   "execution_count": 34,
   "metadata": {},
   "outputs": [
    {
     "name": "stdout",
     "output_type": "stream",
     "text": [
      "Frob diff before GM: 263.40273347101015, After GM: 203.58045092788257\n",
      "Frob diff before GM: 357.783454061252, After GM: 251.52534663528445\n",
      "Frob diff before GM: 406.2893057908367, After GM: 280.34086394958547\n",
      "Frob diff before GM: 418.3180608101926, After GM: 286.2271824967014\n",
      "Frob diff before GM: 411.6527662970334, After GM: 283.6370920736567\n"
     ]
    }
   ],
   "source": [
    "for i in range(1, len(tm)):\n",
    "    res = quadratic_assignment(adj_gm[i-1],adj_aug[i],options = {'maximize': True})\n",
    "    perm = res['col_ind']\n",
    "    adj_gm[i]=adj_aug[i][perm][:,perm]\n",
    "    before_norm = LA.norm(adj_aug[i] - adj_gm[i-1], 'fro')\n",
    "    after_norm = LA.norm(adj_gm[i] - adj_gm[i-1], 'fro')\n",
    "\n",
    "     # Printing the before and after norms to see the difference\n",
    "    print(f\"Frob diff before GM: {before_norm}, After GM: {after_norm}\")\n"
   ]
  },
  {
   "cell_type": "code",
   "execution_count": 35,
   "metadata": {},
   "outputs": [],
   "source": [
    "## find largest common connected component \n",
    "prod=adj_gm[0]\n",
    "for i in range(1,len(tm)):\n",
    "    prod=prod * adj_gm[i]"
   ]
  },
  {
   "cell_type": "code",
   "execution_count": 36,
   "metadata": {},
   "outputs": [],
   "source": [
    "from graspologic.datasets import load_drosophila_right\n",
    "from graspologic.plot import heatmap\n",
    "from graspologic.utils import binarize, symmetrize\n",
    "import graspologic.utils as graspologic_utils"
   ]
  },
  {
   "cell_type": "code",
   "execution_count": 38,
   "metadata": {},
   "outputs": [
    {
     "data": {
      "text/plain": [
       "358"
      ]
     },
     "execution_count": 38,
     "metadata": {},
     "output_type": "execute_result"
    }
   ],
   "source": [
    "## find the connected component for the common edge subgraph \n",
    "[a,ind]=graspologic_utils.largest_connected_component(prod,return_inds=True)\n",
    "len(ind)"
   ]
  },
  {
   "cell_type": "code",
   "execution_count": 42,
   "metadata": {},
   "outputs": [],
   "source": [
    "n=len(ind)"
   ]
  },
  {
   "cell_type": "code",
   "execution_count": 40,
   "metadata": {},
   "outputs": [
    {
     "name": "stdout",
     "output_type": "stream",
     "text": [
      "True\n",
      "True\n",
      "True\n",
      "True\n",
      "True\n",
      "True\n"
     ]
    }
   ],
   "source": [
    "# double check every adj mat is connected \n",
    "glist=np.zeros([len(tm),len(ind),len(ind)])\n",
    "for i in range(len(tm)):\n",
    "    glist[i]=adj_gm[i][ind][:,ind]\n",
    "    print(graspologic_utils.is_fully_connected(glist[i]))"
   ]
  },
  {
   "cell_type": "code",
   "execution_count": 43,
   "metadata": {},
   "outputs": [
    {
     "data": {
      "text/plain": [
       "<matplotlib.collections.PathCollection at 0x7f7f8b329fd0>"
      ]
     },
     "execution_count": 43,
     "metadata": {},
     "output_type": "execute_result"
    },
    {
     "data": {
      "image/png": "[encoded data removed]",
      "text/plain": [
       "<Figure size 640x480 with 1 Axes>"
      ]
     },
     "metadata": {},
     "output_type": "display_data"
    }
   ],
   "source": [
    "## scree plot for one graph \n",
    "u,s,v=np.linalg.svd(glist[0], full_matrices=True)\n",
    "plt.scatter(range(n),s)"
   ]
  },
  {
   "cell_type": "code",
   "execution_count": 44,
   "metadata": {},
   "outputs": [],
   "source": [
    "from graspologic.embed import AdjacencySpectralEmbed"
   ]
  },
  {
   "cell_type": "code",
   "execution_count": 86,
   "metadata": {},
   "outputs": [],
   "source": [
    "ed=4\n",
    "Xhat_list=np.zeros([len(tm),n,2*ed])\n",
    "for i in range(len(tm)):\n",
    "    ase = AdjacencySpectralEmbed(n_components=ed)\n",
    "    Xhat, Yhat = ase.fit_transform(glist[i])\n",
    "    Xhat_list[i][:,list(np.arange(ed))]=Xhat\n",
    "    Xhat_list[i][:,list(np.arange(ed,2*ed))]=Yhat"
   ]
  },
  {
   "cell_type": "code",
   "execution_count": 87,
   "metadata": {},
   "outputs": [],
   "source": [
    "from scipy.linalg import orthogonal_procrustes\n",
    "D=np.zeros([len(tm),len(tm)])\n",
    "for i in range(len(tm)):\n",
    "    for j in range(len(tm)):\n",
    "        R, sca = orthogonal_procrustes(Xhat_list[i] , Xhat_list[j] )\n",
    "        D[i,j]=LA.norm(Xhat_list[i] @ R -  Xhat_list[j],2)**2/n  "
   ]
  },
  {
   "cell_type": "code",
   "execution_count": 88,
   "metadata": {},
   "outputs": [],
   "source": [
    "J=np.ones([len(tm),len(tm)])/len(tm)\n",
    "I=np.eye(len(tm))\n",
    "P=I-J"
   ]
  },
  {
   "cell_type": "code",
   "execution_count": 89,
   "metadata": {},
   "outputs": [
    {
     "data": {
      "text/plain": [
       "Text(0, 0.5, 'eigen value')"
      ]
     },
     "execution_count": 89,
     "metadata": {},
     "output_type": "execute_result"
    },
    {
     "data": {
      "image/png": "[encoded data removed]",
      "text/plain": [
       "<Figure size 640x480 with 1 Axes>"
      ]
     },
     "metadata": {},
     "output_type": "display_data"
    }
   ],
   "source": [
    "H=(-1/2)*P@D@P\n",
    "w,v=LA.eig(H)\n",
    "idx = w.argsort()[::-1]   \n",
    "w = w[idx]\n",
    "v = v[:,idx]\n",
    "plt.scatter(range(len(tm)),w) \n",
    "#plt.title('scree plot for MDS')\n",
    "plt.xlabel('dimension',fontsize=15)\n",
    "plt.ylabel('eigen value',fontsize=15)"
   ]
  },
  {
   "cell_type": "code",
   "execution_count": 90,
   "metadata": {},
   "outputs": [],
   "source": [
    "d=4\n",
    "MDS=v[:,:d] @ np.diag(np.sqrt(w[:d]))"
   ]
  },
  {
   "cell_type": "code",
   "execution_count": 91,
   "metadata": {},
   "outputs": [],
   "source": [
    "## transform date to days from begining\n",
    "day=np.zeros([len(tm)])\n",
    "for i in range(len(tm)):\n",
    "    day[i]=(sort_filename[tm[i],0]-sort_filename[tm[0],0])"
   ]
  },
  {
   "cell_type": "code",
   "execution_count": 92,
   "metadata": {},
   "outputs": [
    {
     "data": {
      "text/plain": [
       "Text(0, 0.5, 'dim 2')"
      ]
     },
     "execution_count": 92,
     "metadata": {},
     "output_type": "execute_result"
    },
    {
     "data": {
      "image/png": "[encoded data removed]",
      "text/plain": [
       "<Figure size 640x480 with 1 Axes>"
      ]
     },
     "metadata": {},
     "output_type": "display_data"
    }
   ],
   "source": [
    "plt.scatter(MDS[:,0],MDS[:,1],color='black')\n",
    "for i in range(len(tm)):\n",
    "    plt.text(MDS[i,0],MDS[i,1]+0.01,str(int(day[i])), fontsize=16)\n",
    "plt.xlabel(\"dim 1\",fontsize=15)\n",
    "plt.ylabel(\"dim 2\",fontsize=15)"
   ]
  },
  {
   "cell_type": "code",
   "execution_count": 93,
   "metadata": {},
   "outputs": [],
   "source": [
    "from sklearn.manifold import Isomap"
   ]
  },
  {
   "cell_type": "code",
   "execution_count": 96,
   "metadata": {},
   "outputs": [],
   "source": [
    "embedding = Isomap(n_neighbors=2,n_components=1)\n",
    "iso = embedding.fit_transform(MDS)"
   ]
  },
  {
   "cell_type": "code",
   "execution_count": 98,
   "metadata": {},
   "outputs": [
    {
     "data": {
      "text/plain": [
       "<matplotlib.collections.PathCollection at 0x7f7ffb2e4910>"
      ]
     },
     "execution_count": 98,
     "metadata": {},
     "output_type": "execute_result"
    },
    {
     "data": {
      "image/png": "[encoded data removed]",
      "text/plain": [
       "<Figure size 640x480 with 1 Axes>"
      ]
     },
     "metadata": {},
     "output_type": "display_data"
    }
   ],
   "source": [
    "plt.scatter(day+11,iso,color='black')"
   ]
  },
  {
   "cell_type": "code",
   "execution_count": 80,
   "metadata": {},
   "outputs": [
    {
     "data": {
      "text/plain": [
       "[4, 5, 6, 7, 8, 9]"
      ]
     },
     "execution_count": 80,
     "metadata": {},
     "output_type": "execute_result"
    }
   ],
   "source": []
  }
 ],
 "metadata": {
  "kernelspec": {
   "display_name": "base",
   "language": "python",
   "name": "python3"
  },
  "language_info": {
   "codemirror_mode": {
    "name": "ipython",
    "version": 3
   },
   "file_extension": ".py",
   "mimetype": "text/x-python",
   "name": "python",
   "nbconvert_exporter": "python",
   "pygments_lexer": "ipython3",
   "version": "3.9.13"
  }
 },
 "nbformat": 4,
 "nbformat_minor": 2
}
