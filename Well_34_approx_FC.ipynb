{
 "cells": [
  {
   "cell_type": "code",
   "execution_count": 4,
   "id": "49e8cb89",
   "metadata": {},
   "outputs": [],
   "source": [
    "## read in the data "
   ]
  },
  {
   "cell_type": "code",
   "execution_count": 5,
   "id": "f7f32e2b",
   "metadata": {},
   "outputs": [],
   "source": [
    "import scipy.io\n",
    "import numpy as np\n",
    "import matplotlib.pyplot as plt\n",
    "import datetime\n",
    "path='/Users/tianyichen/Desktop/Research /PhDresearch/SwarmTheorem/Organoid/Reproduce/Cleber_s spike data and connectivity maps/well_31-32-33-34/'"
   ]
  },
  {
   "cell_type": "code",
   "execution_count": 6,
   "id": "4149f617",
   "metadata": {},
   "outputs": [],
   "source": [
    "filename = ['spkdata_34-018_CTC_2nd 032317(000).spk',\n",
    "'spkdata_34-018_CTC_2nd_090216(000).spk',\n",
    "'spkdata_34-018_CTC_021017(000).spk',\n",
    "'spkdata_34-018_CTC_030317(000).spk',\n",
    "'spkdata_34-018_CTC_031917(000).spk',\n",
    "'spkdata_34-018_CTC_040617(000).spk',\n",
    "'spkdata_34-018_CTC_040717(000).spk',\n",
    "'spkdata_34-018_CTC_040817(000).spk',\n",
    "'spkdata_34-018_CTC_080316(000).spk',\n",
    "'spkdata_34-018_CTC_081016(000).spk',\n",
    "'spkdata_34-018_CTC_081616(000).spk',\n",
    "'spkdata_34-018_CTC_082416(000).spk',\n",
    "'spkdata_34-018_CTC_090216(000).spk',\n",
    "'spkdata_34-018_CTC_091316(000).spk',\n",
    "'spkdata_34-018_CTC_091616(000).spk',\n",
    "'spkdata_34-018_CTC_092016(000).spk',\n",
    "'spkdata_34-018_CTC_092316(000).spk',\n",
    "'spkdata_34-018_CTC_100116(000).spk',\n",
    "'spkdata_34-018_CTC_100716(000).spk',\n",
    "'spkdata_34-018_CTC_100816(000).spk',\n",
    "'spkdata_34-018_CTC_101416(000).spk',\n",
    "'spkdata_34-018_CTC_101816(000).spk',\n",
    "'spkdata_34-018_CTC_102116(000).spk',\n",
    "'spkdata_34-018_CTC_102816(000).spk',\n",
    "'spkdata_34-018_CTC_110416(000).spk',\n",
    "'spkdata_34-018_CTC_111016(000).spk',\n",
    "'spkdata_34-018_CTC_111816(000).spk',\n",
    "'spkdata_34-018_CTC_112416(000).spk',\n",
    "'spkdata_34-018_CTC_WT6 010617(000).spk',\n",
    "'spkdata_34-018_CTC_WT6 011317(000).spk',\n",
    "'spkdata_34-018_CTC_WT6 012017(000).spk',\n",
    "'spkdata_34-018_CTC_WT6 120616(000).spk',\n",
    "'spkdata_34-018_CTC_WT6 121616(000).spk',\n",
    "'spkdata_34-018_CTC_WT6 121716_No drug(000).spk',\n",
    "'spkdata_34-018_CTC_WT6 122316(000).spk',\n",
    "'spkdata_34-018_CTC_WT6 123016(000).spk',\n",
    "'spkdata_34-018_CTC_WT6_012717(000).spk',\n",
    "'spkdata_34-018_CTC_WT6_120916(000).spk']"
   ]
  },
  {
   "cell_type": "code",
   "execution_count": 7,
   "id": "b296588d",
   "metadata": {},
   "outputs": [
    {
     "data": {
      "text/plain": [
       "38"
      ]
     },
     "execution_count": 7,
     "metadata": {},
     "output_type": "execute_result"
    }
   ],
   "source": [
    "len(filename)"
   ]
  },
  {
   "cell_type": "code",
   "execution_count": 8,
   "id": "ed0c0cc2",
   "metadata": {},
   "outputs": [],
   "source": [
    "d=list()\n",
    "d.append(datetime.date(2017,3,23))\n",
    "d.append(datetime.date(2016,9,2))\n",
    "for i in range(2,28):\n",
    "    time=filename[i].split('_')[3].split('.')[0].split('(')[0]\n",
    "    d.append(datetime.date(2000+int(time[4]+time[5]),int(time[0]+time[1]),int(time[2]+time[3])))\n",
    "for i in range(28,33):\n",
    "    time=filename[i].split('_')[3].split(' ')[1].split('.')[0].split('(')[0]\n",
    "    d.append(datetime.date(2000+int(time[4]+time[5]),int(time[0]+time[1]),int(time[2]+time[3])))\n",
    "d.append(datetime.date(2016,12,17))\n",
    "for i in range(34,36):\n",
    "    time=filename[i].split('_')[3].split(' ')[1].split('.')[0].split('(')[0]\n",
    "    d.append(datetime.date(2000+int(time[4]+time[5]),int(time[0]+time[1]),int(time[2]+time[3])))\n",
    "for i in range(36,38):\n",
    "    time=filename[i].split('_')[4].split('.')[0].split('(')[0]\n",
    "    d.append(datetime.date(2000+int(time[4]+time[5]),int(time[0]+time[1]),int(time[2]+time[3])))"
   ]
  },
  {
   "cell_type": "code",
   "execution_count": 9,
   "id": "8bb16826",
   "metadata": {},
   "outputs": [],
   "source": [
    "## here the parameter eps_vec is set to be 0.\n",
    "sort_filename=np.empty([38, 4], dtype=object)\n",
    "sort_filename[:,0]=d\n",
    "sort_filename[:,1]=filename\n",
    "sort_filename=sort_filename[np.argsort(sort_filename[:,0]),:]\n",
    "all_adj=[scipy.io.loadmat(path+sort_filename[0,1]+'/results_raster_eps0_WELL34.mat')['adjmat_']]\n",
    "for i in range(1,38):\n",
    "    all_adj.append(scipy.io.loadmat(path+sort_filename[i,1]+'/results_raster_eps0_WELL34.mat')['adjmat_'])\n",
    "for i in range(0,38):\n",
    "    mat_data = all_adj[i]\n",
    "    sort_filename[i,2]=(mat_data.shape[0])\n",
    "    sort_filename[i,3]=(sum(sum(mat_data>0)))"
   ]
  },
  {
   "cell_type": "code",
   "execution_count": 10,
   "id": "0a072382",
   "metadata": {},
   "outputs": [],
   "source": [
    "#sort_filename"
   ]
  },
  {
   "cell_type": "code",
   "execution_count": 11,
   "id": "4341ec81",
   "metadata": {},
   "outputs": [
    {
     "data": {
      "text/plain": [
       "array([datetime.date(2016, 9, 2), datetime.date(2016, 9, 13),\n",
       "       datetime.date(2016, 9, 16), datetime.date(2016, 9, 20),\n",
       "       datetime.date(2016, 9, 23), datetime.date(2016, 10, 1),\n",
       "       datetime.date(2016, 10, 7), datetime.date(2016, 10, 8),\n",
       "       datetime.date(2016, 10, 14), datetime.date(2016, 10, 18),\n",
       "       datetime.date(2016, 10, 21), datetime.date(2016, 10, 28),\n",
       "       datetime.date(2016, 11, 4), datetime.date(2016, 11, 10),\n",
       "       datetime.date(2016, 11, 18), datetime.date(2016, 11, 24),\n",
       "       datetime.date(2016, 12, 6), datetime.date(2016, 12, 9),\n",
       "       datetime.date(2016, 12, 16), datetime.date(2016, 12, 17),\n",
       "       datetime.date(2016, 12, 23), datetime.date(2016, 12, 30),\n",
       "       datetime.date(2017, 1, 6), datetime.date(2017, 1, 13),\n",
       "       datetime.date(2017, 1, 20), datetime.date(2017, 1, 27),\n",
       "       datetime.date(2017, 2, 10), datetime.date(2017, 3, 19),\n",
       "       datetime.date(2017, 3, 23), datetime.date(2017, 4, 6)],\n",
       "      dtype=object)"
      ]
     },
     "execution_count": 11,
     "metadata": {},
     "output_type": "execute_result"
    }
   ],
   "source": [
    "## choose the time stamps for further analysis\n",
    "tm=list(np.arange(5,22))+[22,23,24]+list(np.arange(25,32))+list(np.arange(33,36))\n",
    "sort_filename[tm,0]\n",
    "#len(tm)"
   ]
  },
  {
   "cell_type": "code",
   "execution_count": 12,
   "id": "bb32651b",
   "metadata": {},
   "outputs": [],
   "source": [
    "## add zeros to the adj mat such that they have the same dims \n",
    "adj_aug=np.zeros([len(tm),181,181])\n",
    "for i in range(len(tm)):\n",
    "    m=all_adj[tm[i]]\n",
    "    l=m.shape[0]\n",
    "    adj_aug[i][:l,:l]=m"
   ]
  },
  {
   "cell_type": "code",
   "execution_count": 13,
   "id": "b285c4dc",
   "metadata": {},
   "outputs": [],
   "source": [
    "from scipy.optimize import quadratic_assignment\n",
    "from numpy import linalg as LA"
   ]
  },
  {
   "cell_type": "code",
   "execution_count": 14,
   "id": "164960b3",
   "metadata": {},
   "outputs": [],
   "source": [
    "## Graph matching and save the alignment result in adj_gm"
   ]
  },
  {
   "cell_type": "code",
   "execution_count": 15,
   "id": "5a3dd272",
   "metadata": {},
   "outputs": [],
   "source": [
    "adj_gm=np.zeros([len(tm),181,181])\n",
    "adj_gm[0]=adj_aug[0] ## use the first graph as baseline"
   ]
  },
  {
   "cell_type": "code",
   "execution_count": 16,
   "id": "d381dd32",
   "metadata": {},
   "outputs": [
    {
     "name": "stdout",
     "output_type": "stream",
     "text": [
      "[449.4596756106158, 690.3651207875438]\n",
      "[427.476315133365, 661.9743197435985]\n",
      "[400.373575551634, 741.6677153550638]\n",
      "[451.52740780599356, 701.0185446905095]\n",
      "[439.8045020233422, 718.6487319963767]\n",
      "[455.0120877515234, 775.3592715638345]\n",
      "[471.9639816765682, 763.3570593110409]\n",
      "[466.9603837586225, 705.567856410707]\n",
      "[469.2099743185347, 739.0967460353212]\n",
      "[475.0431559342793, 747.0542149000968]\n",
      "[467.5671074829794, 787.3328394014821]\n",
      "[477.16978110521626, 795.0113206741147]\n",
      "[486.1666380985022, 721.2364383473703]\n",
      "[478.1024994705633, 733.8174159830223]\n",
      "[471.62061023666047, 749.5438612916525]\n",
      "[459.96956421050294, 710.2591076501589]\n",
      "[457.8515043111686, 707.9745758146969]\n",
      "[448.2867385948418, 701.1340813282435]\n",
      "[449.4596756106158, 737.780455149091]\n",
      "[449.0990981954874, 711.0569597437325]\n",
      "[436.19834937789483, 731.6618071212956]\n",
      "[449.2794230765527, 720.0]\n",
      "[437.2184808536803, 710.6011539534678]\n",
      "[432.8429276307977, 698.0078796116846]\n",
      "[429.9325528498627, 701.4228396623538]\n",
      "[418.7660444687463, 722.9751033057778]\n",
      "[471.10508381888644, 750.5158226180179]\n",
      "[420.4069457085599, 754.8205084654232]\n",
      "[533.5110120700415, 821.8138475348295]\n"
     ]
    }
   ],
   "source": [
    "for i in range(1, len(tm)):\n",
    "    res = quadratic_assignment(adj_gm[i-1],adj_aug[i],options = {'maximize': True})\n",
    "    perm = res['col_ind']\n",
    "    adj_gm[i]=adj_aug[i][perm][:,perm]\n",
    "    print([LA.norm(adj_gm[i]-adj_gm[i-1],'fro'),LA.norm(adj_aug[i]-adj_gm[i-1],'fro')]) ## make sure the difference between graphs are decreasing"
   ]
  },
  {
   "cell_type": "code",
   "execution_count": 14,
   "id": "1fe6ebc0",
   "metadata": {},
   "outputs": [],
   "source": [
    "## find largest common connected component "
   ]
  },
  {
   "cell_type": "code",
   "execution_count": 17,
   "id": "99dcce45",
   "metadata": {},
   "outputs": [],
   "source": [
    "## product all adj mat to get common edges \n",
    "prod=adj_gm[0]\n",
    "for i in range(1,len(tm)):\n",
    "    prod=prod * adj_gm[i]"
   ]
  },
  {
   "cell_type": "code",
   "execution_count": 18,
   "id": "6f62a77a",
   "metadata": {},
   "outputs": [],
   "source": [
    "from graspologic.datasets import load_drosophila_right\n",
    "from graspologic.plot import heatmap\n",
    "from graspologic.utils import binarize, symmetrize\n",
    "import graspologic.utils as graspologic_utils"
   ]
  },
  {
   "cell_type": "code",
   "execution_count": 19,
   "id": "41789549",
   "metadata": {},
   "outputs": [
    {
     "data": {
      "text/plain": [
       "44"
      ]
     },
     "execution_count": 19,
     "metadata": {},
     "output_type": "execute_result"
    }
   ],
   "source": [
    "## find the connected component for the common edge subgraph \n",
    "[a,ind]=graspologic_utils.largest_connected_component(prod,return_inds=True)\n",
    "len(ind)"
   ]
  },
  {
   "cell_type": "code",
   "execution_count": 20,
   "id": "2a59cb7a",
   "metadata": {},
   "outputs": [
    {
     "data": {
      "text/plain": [
       "30"
      ]
     },
     "execution_count": 20,
     "metadata": {},
     "output_type": "execute_result"
    }
   ],
   "source": [
    "len(tm)"
   ]
  },
  {
   "cell_type": "code",
   "execution_count": 21,
   "id": "c4ce2e87",
   "metadata": {},
   "outputs": [
    {
     "name": "stdout",
     "output_type": "stream",
     "text": [
      "True\n",
      "True\n",
      "True\n",
      "True\n",
      "True\n",
      "True\n",
      "True\n",
      "True\n",
      "True\n",
      "True\n",
      "True\n",
      "True\n",
      "True\n",
      "True\n",
      "True\n",
      "True\n",
      "True\n",
      "True\n",
      "True\n",
      "True\n",
      "True\n",
      "True\n",
      "True\n",
      "True\n",
      "True\n",
      "True\n",
      "True\n",
      "True\n",
      "True\n",
      "True\n"
     ]
    }
   ],
   "source": [
    "# double check every adj mat is connected \n",
    "glist=np.zeros([len(tm),len(ind),len(ind)])\n",
    "for i in range(len(tm)):\n",
    "    glist[i]=adj_gm[i][ind][:,ind]\n",
    "    print(graspologic_utils.is_fully_connected(glist[i]))"
   ]
  },
  {
   "cell_type": "code",
   "execution_count": 74,
   "id": "f073efb1",
   "metadata": {},
   "outputs": [
    {
     "name": "stdout",
     "output_type": "stream",
     "text": [
      "1\n",
      "2\n",
      "3\n",
      "4\n",
      "5\n",
      "6\n",
      "7\n",
      "8\n",
      "9\n",
      "10\n",
      "11\n",
      "12\n",
      "13\n",
      "14\n",
      "15\n",
      "16\n",
      "17\n",
      "18\n",
      "19\n",
      "20\n",
      "21\n",
      "22\n",
      "23\n",
      "24\n",
      "25\n",
      "26\n",
      "27\n",
      "28\n",
      "29\n"
     ]
    }
   ],
   "source": [
    "## controll chart for this TSG\n",
    "frobdiff=np.zeros([len(tm)])\n",
    "for i in range(1,len(tm)):\n",
    "    frobdiff[i]=LA.norm(glist[i]-glist[i-1],'fro')\n",
    "    print(i)"
   ]
  },
  {
   "cell_type": "code",
   "execution_count": 76,
   "id": "c012b2a0",
   "metadata": {},
   "outputs": [
    {
     "data": {
      "text/plain": [
       "array([171.47302995, 169.09464805, 154.58007634, 153.        ,\n",
       "       156.14416416, 158.20556248, 164.72704696, 164.97272502,\n",
       "       165.21803776, 158.7167288 , 165.70757376, 163.49311912,\n",
       "       159.98749951, 168.85496735, 164.23458832, 161.2482558 ,\n",
       "       162.49923077, 166.19566781, 165.95180023, 172.64993484,\n",
       "       170.28799136, 180.22485955, 177.73575892, 174.51647487,\n",
       "       174.05171645, 157.43570116, 166.92513292, 157.69273921,\n",
       "       170.04999265])"
      ]
     },
     "execution_count": 76,
     "metadata": {},
     "output_type": "execute_result"
    }
   ],
   "source": [
    "frobdiff[1:,]"
   ]
  },
  {
   "cell_type": "code",
   "execution_count": 77,
   "id": "102110df",
   "metadata": {},
   "outputs": [
    {
     "data": {
      "text/plain": [
       "29"
      ]
     },
     "execution_count": 77,
     "metadata": {},
     "output_type": "execute_result"
    }
   ],
   "source": [
    "len(frobdiff[1:,])"
   ]
  },
  {
   "cell_type": "code",
   "execution_count": 83,
   "id": "68ceab39",
   "metadata": {},
   "outputs": [
    {
     "data": {
      "text/plain": [
       "array([ 30.,  41.,  44.,  48.,  51.,  59.,  65.,  66.,  72.,  76.,  79.,\n",
       "        86.,  93.,  99., 107., 113., 125., 128., 135., 136., 142., 149.,\n",
       "       156., 163., 170., 177., 191., 228., 232., 246.])"
      ]
     },
     "execution_count": 83,
     "metadata": {},
     "output_type": "execute_result"
    }
   ],
   "source": [
    "day"
   ]
  },
  {
   "cell_type": "code",
   "execution_count": 82,
   "id": "b9dd1275",
   "metadata": {},
   "outputs": [
    {
     "data": {
      "text/plain": [
       "<matplotlib.collections.PathCollection at 0x7fa78b71c8b0>"
      ]
     },
     "execution_count": 82,
     "metadata": {},
     "output_type": "execute_result"
    },
    {
     "data": {
      "image/png": "[encoded data removed]",
      "text/plain": [
       "<Figure size 640x480 with 1 Axes>"
      ]
     },
     "metadata": {},
     "output_type": "display_data"
    }
   ],
   "source": [
    "plt.scatter(day[1:,],frobdiff[1:,])"
   ]
  },
  {
   "cell_type": "code",
   "execution_count": 84,
   "id": "d03711b9",
   "metadata": {},
   "outputs": [],
   "source": [
    "np.savetxt('well-34-controll-chart.csv',(day[1:],frobdiff[1:,]), delimiter=',')"
   ]
  },
  {
   "cell_type": "code",
   "execution_count": 28,
   "id": "190705fa",
   "metadata": {},
   "outputs": [],
   "source": [
    "from graspologic.embed import AdjacencySpectralEmbed"
   ]
  },
  {
   "cell_type": "code",
   "execution_count": 29,
   "id": "2726e241",
   "metadata": {},
   "outputs": [],
   "source": [
    "n=len(ind)"
   ]
  },
  {
   "cell_type": "code",
   "execution_count": 30,
   "id": "8fe728d1",
   "metadata": {},
   "outputs": [
    {
     "data": {
      "text/plain": [
       "<matplotlib.collections.PathCollection at 0x7fa78b4dfdf0>"
      ]
     },
     "execution_count": 30,
     "metadata": {},
     "output_type": "execute_result"
    },
    {
     "data": {
      "image/png": "[encoded data removed]",
      "text/plain": [
       "<Figure size 640x480 with 1 Axes>"
      ]
     },
     "metadata": {},
     "output_type": "display_data"
    }
   ],
   "source": [
    "## scree plot for one graph \n",
    "u,s,v=np.linalg.svd(glist[3], full_matrices=True)\n",
    "plt.scatter(range(n),s)"
   ]
  },
  {
   "cell_type": "code",
   "execution_count": 31,
   "id": "5171f7ea",
   "metadata": {},
   "outputs": [],
   "source": [
    "ed=2\n",
    "Xhat_list=np.zeros([len(tm),n,2*ed])\n",
    "for i in range(len(tm)):\n",
    "    ase = AdjacencySpectralEmbed(n_components=ed)\n",
    "    Xhat, Yhat = ase.fit_transform(glist[i])\n",
    "    Xhat_list[i][:,list(np.arange(ed))]=Xhat\n",
    "    Xhat_list[i][:,list(np.arange(ed,2*ed))]=Yhat"
   ]
  },
  {
   "cell_type": "code",
   "execution_count": 32,
   "id": "52fbd118",
   "metadata": {},
   "outputs": [],
   "source": [
    "from scipy.linalg import orthogonal_procrustes\n",
    "D=np.zeros([len(tm),len(tm)])"
   ]
  },
  {
   "cell_type": "code",
   "execution_count": 33,
   "id": "46b1abe0",
   "metadata": {},
   "outputs": [],
   "source": [
    "## get distance matrix "
   ]
  },
  {
   "cell_type": "code",
   "execution_count": 34,
   "id": "505d69f5",
   "metadata": {},
   "outputs": [],
   "source": [
    "for i in range(len(tm)):\n",
    "    for j in range(len(tm)):\n",
    "        R, sca = orthogonal_procrustes(Xhat_list[i] , Xhat_list[j] )\n",
    "        D[i,j]=LA.norm(Xhat_list[i] @ R -  Xhat_list[j],2)**2/n  "
   ]
  },
  {
   "cell_type": "code",
   "execution_count": 35,
   "id": "e996f99e",
   "metadata": {},
   "outputs": [],
   "source": [
    "## CMDS"
   ]
  },
  {
   "cell_type": "code",
   "execution_count": 36,
   "id": "fd57c7c6",
   "metadata": {},
   "outputs": [],
   "source": [
    "J=np.ones([len(tm),len(tm)])/len(tm)\n",
    "I=np.eye(len(tm))\n",
    "P=I-J"
   ]
  },
  {
   "cell_type": "code",
   "execution_count": 37,
   "id": "f4ff5949",
   "metadata": {},
   "outputs": [
    {
     "data": {
      "text/plain": [
       "Text(0, 0.5, 'eigen value')"
      ]
     },
     "execution_count": 37,
     "metadata": {},
     "output_type": "execute_result"
    },
    {
     "data": {
      "image/png": "[encoded data removed]",
      "text/plain": [
       "<Figure size 640x480 with 1 Axes>"
      ]
     },
     "metadata": {},
     "output_type": "display_data"
    }
   ],
   "source": [
    "H=(-1/2)*P@D@P\n",
    "w,v=LA.eig(H)\n",
    "idx = w.argsort()[::-1]   \n",
    "w = w[idx]\n",
    "v = v[:,idx]\n",
    "plt.scatter(range(len(tm)),w) \n",
    "#plt.title('scree plot for MDS')\n",
    "plt.xlabel('dimension',fontsize=15)\n",
    "plt.ylabel('eigen value',fontsize=15)"
   ]
  },
  {
   "cell_type": "code",
   "execution_count": 38,
   "id": "39ee99ba",
   "metadata": {},
   "outputs": [],
   "source": [
    "d=2\n",
    "MDS=v[:,:d] @ np.diag(np.sqrt(w[:d]))"
   ]
  },
  {
   "cell_type": "code",
   "execution_count": 46,
   "id": "2d4f1398",
   "metadata": {},
   "outputs": [
    {
     "data": {
      "text/plain": [
       "30"
      ]
     },
     "execution_count": 46,
     "metadata": {},
     "output_type": "execute_result"
    }
   ],
   "source": [
    "len(day)"
   ]
  },
  {
   "cell_type": "code",
   "execution_count": 32,
   "id": "9d584ab2",
   "metadata": {},
   "outputs": [
    {
     "ename": "NameError",
     "evalue": "name 'day' is not defined",
     "output_type": "error",
     "traceback": [
      "\u001b[0;31m---------------------------------------------------------------------------\u001b[0m",
      "\u001b[0;31mNameError\u001b[0m                                 Traceback (most recent call last)",
      "\u001b[0;32m/var/folders/rl/pr6f4j2d1_5913_lglcbwszc0000gn/T/ipykernel_78894/1069659652.py\u001b[0m in \u001b[0;36m<module>\u001b[0;34m\u001b[0m\n\u001b[1;32m      1\u001b[0m \u001b[0mplt\u001b[0m\u001b[0;34m.\u001b[0m\u001b[0mscatter\u001b[0m\u001b[0;34m(\u001b[0m\u001b[0mMDS\u001b[0m\u001b[0;34m[\u001b[0m\u001b[0;34m:\u001b[0m\u001b[0;34m,\u001b[0m\u001b[0;36m0\u001b[0m\u001b[0;34m]\u001b[0m\u001b[0;34m,\u001b[0m\u001b[0mMDS\u001b[0m\u001b[0;34m[\u001b[0m\u001b[0;34m:\u001b[0m\u001b[0;34m,\u001b[0m\u001b[0;36m1\u001b[0m\u001b[0;34m]\u001b[0m\u001b[0;34m,\u001b[0m\u001b[0mcolor\u001b[0m\u001b[0;34m=\u001b[0m\u001b[0;34m'black'\u001b[0m\u001b[0;34m)\u001b[0m\u001b[0;34m\u001b[0m\u001b[0;34m\u001b[0m\u001b[0m\n\u001b[1;32m      2\u001b[0m \u001b[0;32mfor\u001b[0m \u001b[0mi\u001b[0m \u001b[0;32min\u001b[0m \u001b[0mrange\u001b[0m\u001b[0;34m(\u001b[0m\u001b[0;36m30\u001b[0m\u001b[0;34m)\u001b[0m\u001b[0;34m:\u001b[0m\u001b[0;34m\u001b[0m\u001b[0;34m\u001b[0m\u001b[0m\n\u001b[0;32m----> 3\u001b[0;31m     \u001b[0mplt\u001b[0m\u001b[0;34m.\u001b[0m\u001b[0mtext\u001b[0m\u001b[0;34m(\u001b[0m\u001b[0mMDS\u001b[0m\u001b[0;34m[\u001b[0m\u001b[0mi\u001b[0m\u001b[0;34m,\u001b[0m\u001b[0;36m0\u001b[0m\u001b[0;34m]\u001b[0m\u001b[0;34m,\u001b[0m\u001b[0mMDS\u001b[0m\u001b[0;34m[\u001b[0m\u001b[0mi\u001b[0m\u001b[0;34m,\u001b[0m\u001b[0;36m1\u001b[0m\u001b[0;34m]\u001b[0m\u001b[0;34m+\u001b[0m\u001b[0;36m0.01\u001b[0m\u001b[0;34m,\u001b[0m\u001b[0mstr\u001b[0m\u001b[0;34m(\u001b[0m\u001b[0mint\u001b[0m\u001b[0;34m(\u001b[0m\u001b[0mday\u001b[0m\u001b[0;34m[\u001b[0m\u001b[0mi\u001b[0m\u001b[0;34m]\u001b[0m\u001b[0;34m)\u001b[0m\u001b[0;34m)\u001b[0m\u001b[0;34m,\u001b[0m \u001b[0mfontsize\u001b[0m\u001b[0;34m=\u001b[0m\u001b[0;36m7\u001b[0m\u001b[0;34m)\u001b[0m\u001b[0;34m\u001b[0m\u001b[0;34m\u001b[0m\u001b[0m\n\u001b[0m\u001b[1;32m      4\u001b[0m \u001b[0mplt\u001b[0m\u001b[0;34m.\u001b[0m\u001b[0mxlabel\u001b[0m\u001b[0;34m(\u001b[0m\u001b[0;34m\"dim 1\"\u001b[0m\u001b[0;34m,\u001b[0m\u001b[0mfontsize\u001b[0m\u001b[0;34m=\u001b[0m\u001b[0;36m15\u001b[0m\u001b[0;34m)\u001b[0m\u001b[0;34m\u001b[0m\u001b[0;34m\u001b[0m\u001b[0m\n\u001b[1;32m      5\u001b[0m \u001b[0mplt\u001b[0m\u001b[0;34m.\u001b[0m\u001b[0mylabel\u001b[0m\u001b[0;34m(\u001b[0m\u001b[0;34m\"dim 2\"\u001b[0m\u001b[0;34m,\u001b[0m\u001b[0mfontsize\u001b[0m\u001b[0;34m=\u001b[0m\u001b[0;36m15\u001b[0m\u001b[0;34m)\u001b[0m\u001b[0;34m\u001b[0m\u001b[0;34m\u001b[0m\u001b[0m\n",
      "\u001b[0;31mNameError\u001b[0m: name 'day' is not defined"
     ]
    },
    {
     "data": {
      "image/png": "[encoded data removed]",
      "text/plain": [
       "<Figure size 640x480 with 1 Axes>"
      ]
     },
     "metadata": {},
     "output_type": "display_data"
    }
   ],
   "source": [
    "plt.scatter(MDS[:,0],MDS[:,1],color='black')\n",
    "for i in range(30):\n",
    "    plt.text(MDS[i,0],MDS[i,1]+0.01,str(int(day[i])), fontsize=7)\n",
    "plt.xlabel(\"dim 1\",fontsize=15)\n",
    "plt.ylabel(\"dim 2\",fontsize=15)"
   ]
  },
  {
   "cell_type": "code",
   "execution_count": null,
   "id": "1a67f432",
   "metadata": {},
   "outputs": [],
   "source": [
    "plt.scatter(day,-MDS[:,0],color='black')"
   ]
  },
  {
   "cell_type": "code",
   "execution_count": null,
   "id": "1306dfab",
   "metadata": {},
   "outputs": [],
   "source": [
    "## Isomap"
   ]
  },
  {
   "cell_type": "code",
   "execution_count": 41,
   "id": "a0d6574f",
   "metadata": {},
   "outputs": [],
   "source": [
    "from sklearn.manifold import Isomap"
   ]
  },
  {
   "cell_type": "code",
   "execution_count": 42,
   "id": "6afea6bd",
   "metadata": {},
   "outputs": [],
   "source": [
    "embedding = Isomap(n_neighbors=5,n_components=1)\n",
    "iso = embedding.fit_transform(MDS)"
   ]
  },
  {
   "cell_type": "code",
   "execution_count": 43,
   "id": "7a9ccfd8",
   "metadata": {},
   "outputs": [],
   "source": [
    "result=np.zeros([len(tm),2],dtype=object)\n",
    "result[:,0]=sort_filename[tm,0]\n",
    "result[:,1]=list(iso)"
   ]
  },
  {
   "cell_type": "code",
   "execution_count": 44,
   "id": "e1e2ba46",
   "metadata": {},
   "outputs": [],
   "source": [
    "## transform date to days from begining\n",
    "day=np.zeros([len(tm)])\n",
    "for i in range(len(tm)):\n",
    "    day[i]=(result[i,0]-sort_filename[0,0]).days"
   ]
  },
  {
   "cell_type": "code",
   "execution_count": 45,
   "id": "f002a15f",
   "metadata": {},
   "outputs": [
    {
     "data": {
      "text/plain": [
       "datetime.date(2016, 8, 3)"
      ]
     },
     "execution_count": 45,
     "metadata": {},
     "output_type": "execute_result"
    }
   ],
   "source": [
    "## begin at\n",
    "sort_filename[0,0]"
   ]
  },
  {
   "cell_type": "code",
   "execution_count": 46,
   "id": "6bcdb757",
   "metadata": {},
   "outputs": [],
   "source": [
    "np.savetxt('well-34-result.csv',(day,iso[:,0]), delimiter=',')"
   ]
  },
  {
   "cell_type": "code",
   "execution_count": 40,
   "id": "23d2453b",
   "metadata": {},
   "outputs": [],
   "source": [
    "## piecewise linear: "
   ]
  },
  {
   "cell_type": "code",
   "execution_count": 41,
   "id": "f45ec0ee",
   "metadata": {},
   "outputs": [],
   "source": [
    "import piecewise_regression"
   ]
  },
  {
   "cell_type": "code",
   "execution_count": 42,
   "id": "fb9c7ffb",
   "metadata": {},
   "outputs": [],
   "source": [
    "pw_fit = piecewise_regression.Fit(day, -iso[:,0], n_breakpoints=1)\n",
    "#pw_fit.summary()"
   ]
  },
  {
   "cell_type": "code",
   "execution_count": 43,
   "id": "401f7c53",
   "metadata": {},
   "outputs": [
    {
     "name": "stdout",
     "output_type": "stream",
     "text": [
      "\n",
      "                    Breakpoint Regression Results                     \n",
      "====================================================================================================\n",
      "No. Observations                       30\n",
      "No. Model Parameters                    4\n",
      "Degrees of Freedom                     26\n",
      "Res. Sum of Squares               0.62991\n",
      "Total Sum of Squares               15.398\n",
      "R Squared                        0.959091\n",
      "Adjusted R Squared               0.952546\n",
      "Converged:                           True\n",
      "====================================================================================================\n",
      "====================================================================================================\n",
      "                    Estimate      Std Err            t        P>|t|       [0.025       0.975]\n",
      "----------------------------------------------------------------------------------------------------\n",
      "const               -1.79872       0.0886      -20.312      1.78e-17      -1.9807      -1.6167\n",
      "alpha1             0.0171856     0.000929       18.497      1.74e-16     0.015276     0.019095\n",
      "beta1             -0.0179383      0.00192      -9.3371             -    -0.021887    -0.013989\n",
      "breakpoint1          151.417         6.36            -             -       138.34       164.49\n",
      "----------------------------------------------------------------------------------------------------\n",
      "These alphas(gradients of segments) are estimatedfrom betas(change in gradient)\n",
      "----------------------------------------------------------------------------------------------------\n",
      "alpha2          -0.000752708      0.00168     -0.44762         0.658   -0.0042092    0.0027038\n",
      "====================================================================================================\n",
      "\n",
      "\n",
      "\n"
     ]
    },
    {
     "data": {
      "text/plain": [
       "'\\n                    Breakpoint Regression Results                     \\n====================================================================================================\\nNo. Observations                       30\\nNo. Model Parameters                    4\\nDegrees of Freedom                     26\\nRes. Sum of Squares               0.62991\\nTotal Sum of Squares               15.398\\nR Squared                        0.959091\\nAdjusted R Squared               0.952546\\nConverged:                           True\\n====================================================================================================\\n====================================================================================================\\n                    Estimate      Std Err            t        P>|t|       [0.025       0.975]\\n----------------------------------------------------------------------------------------------------\\nconst               -1.79872       0.0886      -20.312      1.78e-17      -1.9807      -1.6167\\nalpha1             0.0171856     0.000929       18.497      1.74e-16     0.015276     0.019095\\nbeta1             -0.0179383      0.00192      -9.3371             -    -0.021887    -0.013989\\nbreakpoint1          151.417         6.36            -             -       138.34       164.49\\n----------------------------------------------------------------------------------------------------\\nThese alphas(gradients of segments) are estimatedfrom betas(change in gradient)\\n----------------------------------------------------------------------------------------------------\\nalpha2          -0.000752708      0.00168     -0.44762         0.658   -0.0042092    0.0027038\\n====================================================================================================\\n\\n\\n'"
      ]
     },
     "execution_count": 43,
     "metadata": {},
     "output_type": "execute_result"
    }
   ],
   "source": [
    "pw_fit.summary()"
   ]
  },
  {
   "cell_type": "code",
   "execution_count": 44,
   "id": "fbd5e362",
   "metadata": {},
   "outputs": [
    {
     "data": {
      "text/plain": [
       "array([ 30.,  41.,  44.,  48.,  51.,  59.,  65.,  66.,  72.,  76.,  79.,\n",
       "        86.,  93.,  99., 107., 113., 125., 128., 135., 136., 142., 149.,\n",
       "       156., 163., 170., 177., 191., 228., 232., 246.])"
      ]
     },
     "execution_count": 44,
     "metadata": {},
     "output_type": "execute_result"
    }
   ],
   "source": [
    "day"
   ]
  },
  {
   "cell_type": "code",
   "execution_count": 45,
   "id": "6e956a47",
   "metadata": {},
   "outputs": [
    {
     "data": {
      "image/png": "[encoded data removed]",
      "text/plain": [
       "<Figure size 640x480 with 1 Axes>"
      ]
     },
     "metadata": {},
     "output_type": "display_data"
    }
   ],
   "source": [
    "### result for using iso-mirror\n",
    "pw_fit.plot_data(color='black',s=15)\n",
    "pw_fit.plot_fit(color=\"red\", linewidth=1)\n",
    "pw_fit.plot_breakpoints()\n",
    "pw_fit.plot_breakpoint_confidence_intervals()\n",
    "plt.xlabel(\"day\",fontsize=15)\n",
    "plt.ylabel(\"iso-mirror\",fontsize=15)\n",
    "#plt.title('Well 34')\n",
    "#for i in range(30):\n",
    "#    plt.text(day[i]-1,iso[i,0]+0.01,str(int(day[i])), fontsize=7)\n",
    "#plt.savefig('well_34_approx_FC.pdf',bbox_inches='tight')\n",
    "plt.show()\n",
    "plt.close()"
   ]
  },
  {
   "cell_type": "code",
   "execution_count": null,
   "id": "da04d978",
   "metadata": {},
   "outputs": [],
   "source": [
    "pw_fit = piecewise_regression.Fit(day, -MDS[:,0], n_breakpoints=1)\n",
    "#pw_fit.summary()"
   ]
  },
  {
   "cell_type": "code",
   "execution_count": null,
   "id": "572eaf1d",
   "metadata": {},
   "outputs": [],
   "source": [
    "pw_fit.plot_data(color='black',s=15)\n",
    "pw_fit.plot_fit(color=\"red\", linewidth=1)\n",
    "pw_fit.plot_breakpoints()\n",
    "pw_fit.plot_breakpoint_confidence_intervals()\n",
    "plt.xlabel(\"day\",fontsize=15)\n",
    "plt.ylabel(\"MDS1\",fontsize=15)\n",
    "#plt.title('Well 34')\n",
    "#for i in range(30):\n",
    "#    plt.text(day[i]-1,iso[i,0]+0.01,str(int(day[i])), fontsize=7)\n",
    "#plt.savefig('well_34_approx_FC.pdf',bbox_inches='tight')\n",
    "plt.show()\n",
    "plt.close()"
   ]
  },
  {
   "cell_type": "code",
   "execution_count": null,
   "id": "7281f8e4",
   "metadata": {},
   "outputs": [],
   "source": []
  },
  {
   "cell_type": "code",
   "execution_count": null,
   "id": "5a54818e",
   "metadata": {},
   "outputs": [],
   "source": [
    "plt.scatter(result[:,0],MDS[:,0])"
   ]
  },
  {
   "cell_type": "code",
   "execution_count": null,
   "id": "468f909f",
   "metadata": {},
   "outputs": [],
   "source": [
    "pw_fit = piecewise_regression.Fit(day, -MDS[:,0], n_breakpoints=1)\n",
    "pw_fit.summary()"
   ]
  },
  {
   "cell_type": "code",
   "execution_count": null,
   "id": "91f13767",
   "metadata": {},
   "outputs": [],
   "source": [
    "pw_fit.plot_data(color=\"black\", s=20)\n",
    "# Pass in standard matplotlib keywords to control any of the plots\n",
    "pw_fit.plot_fit(color=\"red\", linewidth=1)\n",
    "pw_fit.plot_breakpoints()\n",
    "pw_fit.plot_breakpoint_confidence_intervals()\n",
    "plt.xlabel(\"day\",fontsize=15)\n",
    "plt.ylabel(\"mirror\",fontsize=15)\n",
    "plt.show()\n",
    "plt.close()"
   ]
  }
 ],
 "metadata": {
  "kernelspec": {
   "display_name": "Python 3 (ipykernel)",
   "language": "python",
   "name": "python3"
  },
  "language_info": {
   "codemirror_mode": {
    "name": "ipython",
    "version": 3
   },
   "file_extension": ".py",
   "mimetype": "text/x-python",
   "name": "python",
   "nbconvert_exporter": "python",
   "pygments_lexer": "ipython3",
   "version": "3.10.10"
  }
 },
 "nbformat": 4,
 "nbformat_minor": 5
}
