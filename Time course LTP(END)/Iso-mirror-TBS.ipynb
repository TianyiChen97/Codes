{
 "cells": [
  {
   "cell_type": "code",
   "execution_count": 1,
   "metadata": {},
   "outputs": [
    {
     "data": {
      "text/plain": [
       "<matplotlib.pyplot._IonContext at 0x7f9238d737f0>"
      ]
     },
     "execution_count": 1,
     "metadata": {},
     "output_type": "execute_result"
    }
   ],
   "source": [
    "import numpy as np\n",
    "import pickle as pkl\n",
    "from pprint import pprint\n",
    "import os\n",
    "import matplotlib\n",
    "import matplotlib.pyplot as plt\n",
    "from datetime import datetime\n",
    "plt.ion()"
   ]
  },
  {
   "cell_type": "code",
   "execution_count": 3,
   "metadata": {},
   "outputs": [],
   "source": [
    "dr='/Users/tianyichen/Desktop/Research /PhDresearch/Hopkins_Organoid/April 19 2024/Run_8_TBS_Experiment_ecr_results_windowed/230601 RUN 8 Wells 1-3'"
   ]
  },
  {
   "cell_type": "code",
   "execution_count": 4,
   "metadata": {},
   "outputs": [
    {
     "data": {
      "text/plain": [
       "['#12 (well #3 post stim 3)',\n",
       " '#4 (well #1 post stim 3)',\n",
       " '#6 (well #2 post stim 1)',\n",
       " '.DS_Store',\n",
       " '#3 (well #1 post stim 2)',\n",
       " '#18 ( Well #1 340 minutes Well #2 240 minutes Well #3 180 minutes)',\n",
       " '#9 (well #2 post stim 4)',\n",
       " '#11 (well #3 post stim 2)',\n",
       " '#17 (Well #1 310 minutes Well #2 210 minutes Well #3 150 minutes)',\n",
       " '#15 (Well #1 210 minutes Well #2 150 minutes Well #3 90 minutes)',\n",
       " '#16 (Well #1 240 minutes Well #2 180 minutes Well #3 120 minutes',\n",
       " '#7 (well #2 post stim 2)',\n",
       " '#8 (well #2 post stim 3)',\n",
       " '#14 (Well #1 180 minutes Well #2 120 minutes Well #3 60 minutes)',\n",
       " '#1 (baseline)',\n",
       " '#2 (well #1 post stim 1)',\n",
       " '#5 (well #1 post stim 4)',\n",
       " '#10 (well #3 post stim 1)',\n",
       " '#13 (well #3 post stim 4)']"
      ]
     },
     "execution_count": 4,
     "metadata": {},
     "output_type": "execute_result"
    }
   ],
   "source": [
    "filenames=os.listdir(dr)\n",
    "filenames"
   ]
  },
  {
   "cell_type": "code",
   "execution_count": 5,
   "metadata": {},
   "outputs": [],
   "source": [
    "filenames.remove('.DS_Store')"
   ]
  },
  {
   "cell_type": "code",
   "execution_count": 6,
   "metadata": {},
   "outputs": [
    {
     "data": {
      "text/plain": [
       "['#1 (baseline)',\n",
       " '#2 (well #1 post stim 1)',\n",
       " '#3 (well #1 post stim 2)',\n",
       " '#4 (well #1 post stim 3)',\n",
       " '#5 (well #1 post stim 4)',\n",
       " '#6 (well #2 post stim 1)',\n",
       " '#7 (well #2 post stim 2)',\n",
       " '#8 (well #2 post stim 3)',\n",
       " '#9 (well #2 post stim 4)',\n",
       " '#10 (well #3 post stim 1)',\n",
       " '#11 (well #3 post stim 2)',\n",
       " '#12 (well #3 post stim 3)',\n",
       " '#13 (well #3 post stim 4)',\n",
       " '#14 (Well #1 180 minutes Well #2 120 minutes Well #3 60 minutes)',\n",
       " '#15 (Well #1 210 minutes Well #2 150 minutes Well #3 90 minutes)',\n",
       " '#16 (Well #1 240 minutes Well #2 180 minutes Well #3 120 minutes',\n",
       " '#17 (Well #1 310 minutes Well #2 210 minutes Well #3 150 minutes)',\n",
       " '#18 ( Well #1 340 minutes Well #2 240 minutes Well #3 180 minutes)']"
      ]
     },
     "execution_count": 6,
     "metadata": {},
     "output_type": "execute_result"
    }
   ],
   "source": [
    "sorted_filenames = sorted(filenames, key=lambda x: int(x.split('#')[1].split()[0]))\n",
    "sorted_filenames"
   ]
  },
  {
   "cell_type": "code",
   "execution_count": 7,
   "metadata": {},
   "outputs": [
    {
     "name": "stdout",
     "output_type": "stream",
     "text": [
      "[1, 2, 3, 4, 13, 14, 15, 16, 17]\n"
     ]
    }
   ],
   "source": [
    "indices = [i for i, filename in enumerate(sorted_filenames) if 'well #1' in filename.lower()]\n",
    "print(indices)"
   ]
  },
  {
   "cell_type": "code",
   "execution_count": 8,
   "metadata": {},
   "outputs": [],
   "source": [
    "os.chdir(dr)"
   ]
  },
  {
   "cell_type": "code",
   "execution_count": 9,
   "metadata": {},
   "outputs": [
    {
     "data": {
      "text/plain": [
       "['#1 (baseline)/data.raw_20240415_18h04m.pkl',\n",
       " '#2 (well #1 post stim 1)/data.raw_20240415_18h04m.pkl',\n",
       " '#3 (well #1 post stim 2)/data.raw_20240415_18h04m.pkl',\n",
       " '#4 (well #1 post stim 3)/data.raw_20240415_18h04m.pkl',\n",
       " '#5 (well #1 post stim 4)/data.raw_20240415_18h04m.pkl',\n",
       " '#6 (well #2 post stim 1)/data.raw_20240415_18h04m.pkl',\n",
       " '#7 (well #2 post stim 2)/data.raw_20240415_18h04m.pkl',\n",
       " '#8 (well #2 post stim 3)/data.raw_20240415_18h04m.pkl',\n",
       " '#9 (well #2 post stim 4)/data.raw_20240415_18h04m.pkl',\n",
       " '#10 (well #3 post stim 1)/data.raw_20240415_18h04m.pkl',\n",
       " '#11 (well #3 post stim 2)/data.raw_20240415_18h04m.pkl',\n",
       " '#12 (well #3 post stim 3)/data.raw_20240415_18h04m.pkl',\n",
       " '#13 (well #3 post stim 4)/data.raw_20240415_18h04m.pkl',\n",
       " '#14 (Well #1 180 minutes Well #2 120 minutes Well #3 60 minutes)/data.raw_20240415_18h04m.pkl',\n",
       " '#15 (Well #1 210 minutes Well #2 150 minutes Well #3 90 minutes)/data.raw_20240415_18h04m.pkl',\n",
       " '#16 (Well #1 240 minutes Well #2 180 minutes Well #3 120 minutes/data.raw_20240415_18h04m.pkl',\n",
       " '#17 (Well #1 310 minutes Well #2 210 minutes Well #3 150 minutes)/data.raw_20240415_18h04m.pkl',\n",
       " '#18 ( Well #1 340 minutes Well #2 240 minutes Well #3 180 minutes)/data.raw_20240415_18h04m.pkl']"
      ]
     },
     "execution_count": 9,
     "metadata": {},
     "output_type": "execute_result"
    }
   ],
   "source": [
    "sorted_filenames_updated = [filename + '/data.raw_20240415_18h04m.pkl' for filename in sorted_filenames]\n",
    "sorted_filenames_updated"
   ]
  },
  {
   "cell_type": "code",
   "execution_count": 10,
   "metadata": {},
   "outputs": [],
   "source": [
    "def filter_matrix(src_filename, well, win):\n",
    "    # Load data from the specified source file\n",
    "    with open(src_filename, 'rb') as f:\n",
    "        data = pkl.load(f)\n",
    "\n",
    "    # Extract necessary data from the loaded data structure\n",
    "    adj_matrix = data[well][win]['adj_matrix_predicted']\n",
    "    votes = data[well][win]['votes']  # This variable is loaded but not used in the snippet you provided\n",
    "    corr_peaks = data[well][win]['corr_peaks']\n",
    "    fs = data['config']['data']['fs']  # Sampling frequency\n",
    "\n",
    "    # Initialize a matrix to track synchronization based on correlation peaks\n",
    "    synced_matrix = np.full(adj_matrix.shape, False)\n",
    "    for key in corr_peaks.keys():\n",
    "        if np.all(np.abs(np.array(corr_peaks[key]['delays'])) < 1/fs):\n",
    "            synced_matrix[key[0], key[1]] = True\n",
    "            synced_matrix[key[1], key[0]] = True\n",
    "\n",
    "    # Create the filtered matrix as per the given logic\n",
    "    filtered_matrix = np.logical_and(adj_matrix, np.logical_not(synced_matrix))\n",
    "\n",
    "    return filtered_matrix"
   ]
  },
  {
   "cell_type": "code",
   "execution_count": 30,
   "metadata": {},
   "outputs": [],
   "source": [
    "with open(sorted_filenames_updated[0], 'rb') as f:\n",
    "        data = pkl.load(f)"
   ]
  },
  {
   "cell_type": "code",
   "execution_count": 34,
   "metadata": {},
   "outputs": [
    {
     "data": {
      "text/plain": [
       "dict_keys(['source_filename', 'config', 'well000', 'well001', 'well002', 'well003', 'well004', 'well005'])"
      ]
     },
     "execution_count": 34,
     "metadata": {},
     "output_type": "execute_result"
    }
   ],
   "source": [
    "data.keys()"
   ]
  },
  {
   "cell_type": "code",
   "execution_count": 45,
   "metadata": {},
   "outputs": [
    {
     "data": {
      "text/plain": [
       "3"
      ]
     },
     "execution_count": 45,
     "metadata": {},
     "output_type": "execute_result"
    }
   ],
   "source": [
    "sum(sum(data['well000']['win_2']['adj_matrix_predicted']))"
   ]
  },
  {
   "cell_type": "code",
   "execution_count": 34,
   "metadata": {},
   "outputs": [],
   "source": [
    "import numpy as np\n",
    "import itertools\n",
    "\n",
    "all_well=['well000', 'well001', 'well002', 'well003', 'well004', 'well005']\n",
    "all_win=[ 'win_0', 'win_1', 'win_2', 'win_3', 'win_4', 'win_5', 'win_6', 'win_7', 'win_8', 'win_9']\n",
    "\n",
    "summary_array = np.empty((60, 1), dtype=np.dtype([('col1', 'U10'), ('col2', 'U10'), ('col3', float), ('col4', float)]))\n",
    "\n",
    "# Create the Cartesian product of all_well and all_win\n",
    "cartesian_product = list(itertools.product(all_well, all_win))\n",
    "\n",
    "summary_array['col1'] = np.array([item[0] for item in cartesian_product]).reshape((60,1))\n",
    "summary_array['col2'] = np.array([item[1] for item in cartesian_product]).reshape((60,1))"
   ]
  },
  {
   "cell_type": "code",
   "execution_count": 60,
   "metadata": {},
   "outputs": [],
   "source": [
    "def calculate_summary(well_choosen, win_choosen):\n",
    "    m = len(sorted_filenames_updated)\n",
    "    all_adj = []\n",
    "    for i in range(m):\n",
    "        try:\n",
    "            adj = filter_matrix(sorted_filenames_updated[i], well_choosen, win_choosen)\n",
    "            all_adj.append(adj)\n",
    "        except:\n",
    "            all_adj.append(None)\n",
    "    \n",
    "    sort_filename = np.zeros((m, 3))  # Define the sort_filename variable\n",
    "    for i in range(0, m):\n",
    "        if all_adj[i] is not None:\n",
    "            mat_data = all_adj[i]\n",
    "            sort_filename[i, 1] = (mat_data.shape[0])\n",
    "            #sort_filename[i, 2] = (sum(sum(mat_data > 0)))\n",
    "            sort_filename[i, 2] = (sum(sum(mat_data > 0)))>900\n",
    "    #sort_filename[:,[0]] = np.reshape([filename.split('DIV ')[1] for filename in sorted_filenames], (m, 1))\n",
    "    mean_col2 = np.mean(sort_filename[:, 1])\n",
    "    mean_col3 = np.mean(sort_filename[:, 2])\n",
    "\n",
    "    return mean_col2, mean_col3"
   ]
  },
  {
   "cell_type": "code",
   "execution_count": 36,
   "metadata": {},
   "outputs": [
    {
     "name": "stdout",
     "output_type": "stream",
     "text": [
      "('well000', 'win_0', 631.72222222, 25.5)\n",
      "('well000', 'win_1', 631.72222222, 23.55555556)\n",
      "('well000', 'win_2', 631.72222222, 12.)\n",
      "('well000', 'win_3', 631.72222222, 23.83333333)\n",
      "('well000', 'win_4', 631.72222222, 18.38888889)\n",
      "('well000', 'win_5', 631.72222222, 16.38888889)\n",
      "('well000', 'win_6', 631.72222222, 13.22222222)\n",
      "('well000', 'win_7', 631.72222222, 9.38888889)\n",
      "('well000', 'win_8', 631.72222222, 10.5)\n",
      "('well000', 'win_9', 631.72222222, 7.88888889)\n",
      "('well001', 'win_0', 471.05555556, 2.27777778)\n",
      "('well001', 'win_1', 471.05555556, 2.22222222)\n",
      "('well001', 'win_2', 471.05555556, 2.16666667)\n",
      "('well001', 'win_3', 471.05555556, 2.55555556)\n",
      "('well001', 'win_4', 471.05555556, 1.61111111)\n",
      "('well001', 'win_5', 471.05555556, 1.33333333)\n",
      "('well001', 'win_6', 471.05555556, 1.72222222)\n",
      "('well001', 'win_7', 471.05555556, 1.11111111)\n",
      "('well001', 'win_8', 471.05555556, 1.)\n",
      "('well001', 'win_9', 471.05555556, 0.94444444)\n",
      "('well002', 'win_0', 376.16666667, 1.5)\n",
      "('well002', 'win_1', 376.16666667, 1.55555556)\n",
      "('well002', 'win_2', 376.16666667, 1.5)\n",
      "('well002', 'win_3', 376.16666667, 1.33333333)\n",
      "('well002', 'win_4', 376.16666667, 1.22222222)\n",
      "('well002', 'win_5', 376.16666667, 1.94444444)\n",
      "('well002', 'win_6', 376.16666667, 0.94444444)\n",
      "('well002', 'win_7', 376.16666667, 0.88888889)\n",
      "('well002', 'win_8', 376.16666667, 1.16666667)\n",
      "('well002', 'win_9', 376.16666667, 1.05555556)\n",
      "('well003', 'win_0', 925.55555556, 597.22222222)\n",
      "('well003', 'win_1', 925.55555556, 137.5)\n",
      "('well003', 'win_2', 925.55555556, 358.77777778)\n",
      "('well003', 'win_3', 925.55555556, 392.27777778)\n",
      "('well003', 'win_4', 925.55555556, 7.44444444)\n",
      "('well003', 'win_5', 925.55555556, 48.44444444)\n",
      "('well003', 'win_6', 925.55555556, 106.94444444)\n",
      "('well003', 'win_7', 925.55555556, 125.88888889)\n",
      "('well003', 'win_8', 925.55555556, 59.44444444)\n",
      "('well003', 'win_9', 925.55555556, 49.61111111)\n",
      "('well004', 'win_0', 978.83333333, 10267.72222222)\n",
      "('well004', 'win_1', 978.83333333, 3112.33333333)\n",
      "('well004', 'win_2', 978.83333333, 3440.22222222)\n",
      "('well004', 'win_3', 978.83333333, 4195.88888889)\n",
      "('well004', 'win_4', 978.83333333, 4165.38888889)\n",
      "('well004', 'win_5', 978.83333333, 2412.94444444)\n",
      "('well004', 'win_6', 978.83333333, 2235.72222222)\n",
      "('well004', 'win_7', 978.83333333, 2098.27777778)\n",
      "('well004', 'win_8', 978.83333333, 2375.22222222)\n",
      "('well004', 'win_9', 978.83333333, 1005.5)\n",
      "('well005', 'win_0', 950.66666667, 263.66666667)\n",
      "('well005', 'win_1', 950.66666667, 201.77777778)\n",
      "('well005', 'win_2', 950.66666667, 230.61111111)\n",
      "('well005', 'win_3', 950.66666667, 113.94444444)\n",
      "('well005', 'win_4', 950.66666667, 74.94444444)\n",
      "('well005', 'win_5', 950.66666667, 185.55555556)\n",
      "('well005', 'win_6', 950.66666667, 69.33333333)\n",
      "('well005', 'win_7', 950.66666667, 105.38888889)\n",
      "('well005', 'win_8', 950.66666667, 78.5)\n",
      "('well005', 'win_9', 950.66666667, 53.)\n"
     ]
    }
   ],
   "source": [
    "for i in range(0, 60):\n",
    "    cs=calculate_summary(summary_array[i, 0][0], summary_array[i, 0][1])\n",
    "    summary_array[i, 0][2]=cs[0]\n",
    "    summary_array[i, 0][3]=cs[1]\n",
    "    print(summary_array[i,0])"
   ]
  },
  {
   "cell_type": "code",
   "execution_count": null,
   "metadata": {},
   "outputs": [],
   "source": []
  },
  {
   "cell_type": "code",
   "execution_count": 37,
   "metadata": {},
   "outputs": [],
   "source": [
    "well='well004'\n",
    "win='win_0'"
   ]
  },
  {
   "cell_type": "code",
   "execution_count": 38,
   "metadata": {},
   "outputs": [
    {
     "name": "stdout",
     "output_type": "stream",
     "text": [
      "0 22919 978\n",
      "1 172 985\n",
      "2 126 981\n",
      "3 20128 979\n",
      "4 173 985\n",
      "5 27156 980\n",
      "6 26862 982\n",
      "7 21399 982\n",
      "8 162 987\n",
      "9 156 980\n",
      "10 404 977\n",
      "11 30563 975\n",
      "12 583 982\n",
      "13 123 975\n",
      "14 528 981\n",
      "15 33125 971\n",
      "16 103 968\n",
      "17 137 971\n"
     ]
    }
   ],
   "source": [
    "m = len(sorted_filenames_updated)\n",
    "all_adj = []\n",
    "for i in range(m):\n",
    "    try:\n",
    "        adj = filter_matrix(sorted_filenames_updated[i], well, win)\n",
    "        print(i, sum(sum(adj)), adj.shape[0]  )\n",
    "        all_adj.append(adj)\n",
    "    except:\n",
    "        all_adj.append(None)"
   ]
  },
  {
   "cell_type": "code",
   "execution_count": 42,
   "metadata": {},
   "outputs": [
    {
     "data": {
      "text/plain": [
       "['#13 (well #6 post stim 4)',\n",
       " '#6 (well #5 post stim 1)',\n",
       " '#17 (310 minutes after, Well #5 210 minutes after, Well #6 150 mintes after)',\n",
       " '#5 (well #4 post stim 4)',\n",
       " '#10 (well #6 post stim 1)',\n",
       " '#18 (340 minutes after, Well #5 240 minutes after, Well #6 180 mintes after)',\n",
       " '#9 (well #5 post stim 4)',\n",
       " '#2 (well #4 post stim 1)',\n",
       " '#16 (Well #4 240 minutes after, Well #5 180 minutes after, Well #6 120 mintes after)',\n",
       " '#14 (Well #4 180 min, Well #5 120 min, Well #6 60 min)',\n",
       " '#7 (well #5 post stim 2)',\n",
       " '#15 (Well #4 210 minutes after, Well #5 150 minutes after, Well #6 90 mintes after',\n",
       " '#8 (well #5 post stim 3)',\n",
       " '#1 (baseline)',\n",
       " '#11 (well #6 post stim 2)',\n",
       " '#4 (well #4 post stim 3)',\n",
       " '#3 (well #4 post stim 2)',\n",
       " '#12 (well #6 post stim 3)']"
      ]
     },
     "execution_count": 42,
     "metadata": {},
     "output_type": "execute_result"
    }
   ],
   "source": [
    "dr='/Users/tianyichen/Desktop/Research /PhDresearch/Hopkins_Organoid/April 19 2024/Run_8_TBS_Experiment_ecr_results_windowed/230602 RUN 8 Wells 4-6'\n",
    "filenames=os.listdir(dr)\n",
    "filenames"
   ]
  },
  {
   "cell_type": "code",
   "execution_count": 44,
   "metadata": {},
   "outputs": [
    {
     "data": {
      "text/plain": [
       "['#1 (baseline)/data.raw_20240415_18h04m.pkl',\n",
       " '#2 (well #4 post stim 1)/data.raw_20240415_18h04m.pkl',\n",
       " '#3 (well #4 post stim 2)/data.raw_20240415_18h04m.pkl',\n",
       " '#4 (well #4 post stim 3)/data.raw_20240415_18h04m.pkl',\n",
       " '#5 (well #4 post stim 4)/data.raw_20240415_18h04m.pkl',\n",
       " '#6 (well #5 post stim 1)/data.raw_20240415_18h04m.pkl',\n",
       " '#7 (well #5 post stim 2)/data.raw_20240415_18h04m.pkl',\n",
       " '#8 (well #5 post stim 3)/data.raw_20240415_18h04m.pkl',\n",
       " '#9 (well #5 post stim 4)/data.raw_20240415_18h04m.pkl',\n",
       " '#10 (well #6 post stim 1)/data.raw_20240415_18h04m.pkl',\n",
       " '#11 (well #6 post stim 2)/data.raw_20240415_18h04m.pkl',\n",
       " '#12 (well #6 post stim 3)/data.raw_20240415_18h04m.pkl',\n",
       " '#13 (well #6 post stim 4)/data.raw_20240415_18h04m.pkl',\n",
       " '#14 (Well #4 180 min, Well #5 120 min, Well #6 60 min)/data.raw_20240415_18h04m.pkl',\n",
       " '#15 (Well #4 210 minutes after, Well #5 150 minutes after, Well #6 90 mintes after/data.raw_20240415_18h04m.pkl',\n",
       " '#16 (Well #4 240 minutes after, Well #5 180 minutes after, Well #6 120 mintes after)/data.raw_20240415_18h04m.pkl',\n",
       " '#17 (310 minutes after, Well #5 210 minutes after, Well #6 150 mintes after)/data.raw_20240415_18h04m.pkl',\n",
       " '#18 (340 minutes after, Well #5 240 minutes after, Well #6 180 mintes after)/data.raw_20240415_18h04m.pkl']"
      ]
     },
     "execution_count": 44,
     "metadata": {},
     "output_type": "execute_result"
    }
   ],
   "source": [
    "sorted_filenames = sorted(filenames, key=lambda x: int(x.split('#')[1].split()[0]))\n",
    "#sorted_filenames\n",
    "os.chdir(dr)\n",
    "sorted_filenames_updated = [filename + '/data.raw_20240415_18h04m.pkl' for filename in sorted_filenames]\n",
    "sorted_filenames_updated\n",
    "\n",
    "\n"
   ]
  },
  {
   "cell_type": "code",
   "execution_count": 45,
   "metadata": {},
   "outputs": [
    {
     "name": "stdout",
     "output_type": "stream",
     "text": [
      "('well000', 'win_0', 634.94444444, 30.77777778)\n",
      "('well000', 'win_1', 634.94444444, 34.5)\n",
      "('well000', 'win_2', 634.94444444, 25.27777778)\n",
      "('well000', 'win_3', 634.94444444, 20.77777778)\n",
      "('well000', 'win_4', 634.94444444, 22.22222222)\n",
      "('well000', 'win_5', 634.94444444, 18.44444444)\n",
      "('well000', 'win_6', 634.94444444, 19.44444444)\n",
      "('well000', 'win_7', 634.94444444, 14.66666667)\n",
      "('well000', 'win_8', 634.94444444, 10.88888889)\n",
      "('well000', 'win_9', 634.94444444, 10.61111111)\n",
      "('well001', 'win_0', 471.61111111, 1.94444444)\n",
      "('well001', 'win_1', 471.61111111, 2.16666667)\n",
      "('well001', 'win_2', 471.61111111, 2.16666667)\n",
      "('well001', 'win_3', 471.61111111, 2.05555556)\n",
      "('well001', 'win_4', 471.61111111, 1.88888889)\n",
      "('well001', 'win_5', 471.61111111, 1.27777778)\n",
      "('well001', 'win_6', 471.61111111, 1.66666667)\n",
      "('well001', 'win_7', 471.61111111, 1.38888889)\n",
      "('well001', 'win_8', 471.61111111, 1.)\n",
      "('well001', 'win_9', 471.61111111, 0.88888889)\n",
      "('well002', 'win_0', 389.22222222, 2.33333333)\n",
      "('well002', 'win_1', 389.22222222, 3.27777778)\n",
      "('well002', 'win_2', 389.22222222, 1.5)\n",
      "('well002', 'win_3', 389.22222222, 2.16666667)\n",
      "('well002', 'win_4', 389.22222222, 1.55555556)\n",
      "('well002', 'win_5', 389.22222222, 1.05555556)\n",
      "('well002', 'win_6', 389.22222222, 1.88888889)\n",
      "('well002', 'win_7', 389.22222222, 1.22222222)\n",
      "('well002', 'win_8', 389.22222222, 0.83333333)\n",
      "('well002', 'win_9', 389.22222222, 0.83333333)\n",
      "('well003', 'win_0', 910.11111111, 12.)\n",
      "('well003', 'win_1', 910.11111111, 324.88888889)\n",
      "('well003', 'win_2', 910.11111111, 11.22222222)\n",
      "('well003', 'win_3', 910.11111111, 54.16666667)\n",
      "('well003', 'win_4', 910.11111111, 93.55555556)\n",
      "('well003', 'win_5', 910.11111111, 76.61111111)\n",
      "('well003', 'win_6', 910.11111111, 138.88888889)\n",
      "('well003', 'win_7', 910.11111111, 90.16666667)\n",
      "('well003', 'win_8', 910.11111111, 35.83333333)\n",
      "('well003', 'win_9', 910.11111111, 100.05555556)\n",
      "('well004', 'win_0', 949.27777778, 7304.33333333)\n",
      "('well004', 'win_1', 949.27777778, 7516.66666667)\n",
      "('well004', 'win_2', 949.27777778, 5099.)\n",
      "('well004', 'win_3', 949.27777778, 4880.83333333)\n",
      "('well004', 'win_4', 949.27777778, 6725.22222222)\n",
      "('well004', 'win_5', 949.27777778, 1341.66666667)\n",
      "('well004', 'win_6', 949.27777778, 2926.22222222)\n",
      "('well004', 'win_7', 949.27777778, 3042.)\n",
      "('well004', 'win_8', 949.27777778, 3684.83333333)\n",
      "('well004', 'win_9', 949.27777778, 269.11111111)\n",
      "('well005', 'win_0', 934.61111111, 172.)\n",
      "('well005', 'win_1', 934.61111111, 148.66666667)\n",
      "('well005', 'win_2', 934.61111111, 229.5)\n",
      "('well005', 'win_3', 934.61111111, 104.05555556)\n",
      "('well005', 'win_4', 934.61111111, 91.94444444)\n",
      "('well005', 'win_5', 934.61111111, 127.77777778)\n",
      "('well005', 'win_6', 934.61111111, 190.22222222)\n",
      "('well005', 'win_7', 934.61111111, 2.66666667)\n",
      "('well005', 'win_8', 934.61111111, 87.77777778)\n",
      "('well005', 'win_9', 934.61111111, 63.16666667)\n"
     ]
    }
   ],
   "source": [
    "for i in range(0, 60):\n",
    "    cs=calculate_summary(summary_array[i, 0][0], summary_array[i, 0][1])\n",
    "    summary_array[i, 0][2]=cs[0]\n",
    "    summary_array[i, 0][3]=cs[1]\n",
    "    print(summary_array[i,0])"
   ]
  },
  {
   "cell_type": "code",
   "execution_count": 62,
   "metadata": {},
   "outputs": [],
   "source": [
    "well='well004'\n",
    "win='win_4'"
   ]
  },
  {
   "cell_type": "code",
   "execution_count": 63,
   "metadata": {},
   "outputs": [
    {
     "name": "stdout",
     "output_type": "stream",
     "text": [
      "0 92 951\n",
      "1 23109 954\n",
      "2 16890 955\n",
      "3 8668 948\n",
      "4 16885 952\n",
      "5 150 948\n",
      "6 1991 950\n",
      "7 199 951\n",
      "8 153 940\n",
      "9 164 948\n",
      "10 67 949\n",
      "11 107 943\n",
      "12 20262 949\n",
      "13 70 945\n",
      "14 5502 954\n",
      "15 11611 945\n",
      "16 15060 952\n",
      "17 74 953\n"
     ]
    }
   ],
   "source": [
    "m = len(sorted_filenames_updated)\n",
    "all_adj = []\n",
    "for i in range(m):\n",
    "    try:\n",
    "        adj = filter_matrix(sorted_filenames_updated[i], well, win)\n",
    "        print(i, sum(sum(adj)), adj.shape[0]  )\n",
    "        all_adj.append(adj)\n",
    "    except:\n",
    "        all_adj.append(None)"
   ]
  },
  {
   "cell_type": "code",
   "execution_count": 61,
   "metadata": {},
   "outputs": [
    {
     "name": "stdout",
     "output_type": "stream",
     "text": [
      "('well003', 'win_9', 910.11111111, 0.)\n",
      "('well004', 'win_0', 949.27777778, 0.27777778)\n",
      "('well004', 'win_1', 949.27777778, 0.38888889)\n",
      "('well004', 'win_2', 949.27777778, 0.27777778)\n",
      "('well004', 'win_3', 949.27777778, 0.27777778)\n",
      "('well004', 'win_4', 949.27777778, 0.5)\n",
      "('well004', 'win_5', 949.27777778, 0.16666667)\n",
      "('well004', 'win_6', 949.27777778, 0.22222222)\n",
      "('well004', 'win_7', 949.27777778, 0.33333333)\n",
      "('well004', 'win_8', 949.27777778, 0.33333333)\n",
      "('well004', 'win_9', 949.27777778, 0.05555556)\n",
      "('well005', 'win_0', 934.61111111, 0.)\n"
     ]
    }
   ],
   "source": [
    "for i in range(39, 51):\n",
    "    cs=calculate_summary(summary_array[i, 0][0], summary_array[i, 0][1])\n",
    "    summary_array[i, 0][2]=cs[0]\n",
    "    summary_array[i, 0][3]=cs[1]\n",
    "    print(summary_array[i,0])"
   ]
  },
  {
   "cell_type": "code",
   "execution_count": null,
   "metadata": {},
   "outputs": [],
   "source": [
    "well='well004'\n",
    "win='win_4'"
   ]
  },
  {
   "cell_type": "code",
   "execution_count": 64,
   "metadata": {},
   "outputs": [
    {
     "name": "stdout",
     "output_type": "stream",
     "text": [
      "0 False 951\n",
      "1 True 954\n",
      "2 True 955\n",
      "3 True 948\n",
      "4 True 952\n",
      "5 False 948\n",
      "6 True 950\n",
      "7 False 951\n",
      "8 False 940\n",
      "9 False 948\n",
      "10 False 949\n",
      "11 False 943\n",
      "12 True 949\n",
      "13 False 945\n",
      "14 True 954\n",
      "15 True 945\n",
      "16 True 952\n",
      "17 False 953\n"
     ]
    }
   ],
   "source": [
    "m = len(sorted_filenames_updated)\n",
    "all_adj = []\n",
    "for i in range(m):\n",
    "    try:\n",
    "        adj = filter_matrix(sorted_filenames_updated[i], well, win)\n",
    "        print(i, sum(sum(adj))>900, adj.shape[0]  )\n",
    "        all_adj.append(adj)\n",
    "    except:\n",
    "        all_adj.append(None)"
   ]
  },
  {
   "cell_type": "code",
   "execution_count": 69,
   "metadata": {},
   "outputs": [
    {
     "name": "stdout",
     "output_type": "stream",
     "text": [
      "0 True 954\n",
      "1 True 955\n",
      "2 True 948\n",
      "3 True 952\n",
      "4 True 950\n",
      "5 True 949\n",
      "6 True 954\n",
      "7 True 945\n",
      "8 True 952\n"
     ]
    }
   ],
   "source": [
    "tm=[1,2,3,4,6,12,14,15,16]\n",
    "m = len(tm)\n",
    "all_adj = []\n",
    "for i in range(m):\n",
    "    try:\n",
    "        adj = filter_matrix(sorted_filenames_updated[tm[i]], well, win)\n",
    "        print(i, sum(sum(adj))>900, adj.shape[0]  )\n",
    "        all_adj.append(adj)\n",
    "    except:\n",
    "        all_adj.append(None)"
   ]
  },
  {
   "cell_type": "code",
   "execution_count": 70,
   "metadata": {},
   "outputs": [
    {
     "name": "stderr",
     "output_type": "stream",
     "text": [
      "/Users/tianyichen/opt/anaconda3/lib/python3.9/site-packages/matplotlib/collections.py:196: ComplexWarning: Casting complex values to real discards the imaginary part\n",
      "  offsets = np.asanyarray(offsets, float)\n"
     ]
    },
    {
     "data": {
      "text/plain": [
       "<matplotlib.collections.PathCollection at 0x7fac672285b0>"
      ]
     },
     "execution_count": 70,
     "metadata": {},
     "output_type": "execute_result"
    },
    {
     "data": {
      "image/png": "[encoded data removed]",
      "text/plain": [
       "<Figure size 640x480 with 1 Axes>"
      ]
     },
     "metadata": {},
     "output_type": "display_data"
    }
   ],
   "source": [
    "s,u=np.linalg.eig(all_adj[1])\n",
    "plt.scatter(range(all_adj[1].shape[0]),s)"
   ]
  },
  {
   "cell_type": "code",
   "execution_count": 76,
   "metadata": {},
   "outputs": [],
   "source": [
    "## add zeros to the adj mat such that they have the same dims \n",
    "dim = 956 # Max number of vertices to determine dimension\n",
    "adj_aug = np.zeros((m, dim, dim))  # Pre-allocate a zero matrix of the desired size\n",
    "\n",
    "for i in range(m):\n",
    "    ma = all_adj[i]  \n",
    "    l = ma.shape[0]  \n",
    "    adj_aug[i, :l, :l] = ma "
   ]
  },
  {
   "cell_type": "code",
   "execution_count": 77,
   "metadata": {},
   "outputs": [],
   "source": [
    "from scipy.optimize import quadratic_assignment\n",
    "from numpy import linalg as LA\n",
    "adj_gm=np.zeros([m,dim,dim])\n",
    "adj_gm[0]=adj_aug[0] ## use the first graph as baseline"
   ]
  },
  {
   "cell_type": "code",
   "execution_count": 78,
   "metadata": {},
   "outputs": [
    {
     "name": "stdout",
     "output_type": "stream",
     "text": [
      "Frob diff before GM: 191.1203809121361, After GM: 130.01922934704697\n",
      "Frob diff before GM: 155.76905982896602, After GM: 115.69788243524597\n",
      "Frob diff before GM: 154.97419139972953, After GM: 113.07961796893373\n",
      "Frob diff before GM: 136.74063039199433, After GM: 123.60420704814217\n",
      "Frob diff before GM: 148.52272553383875, After GM: 136.09188072769072\n",
      "Frob diff before GM: 158.55598380382872, After GM: 130.11533345459327\n",
      "Frob diff before GM: 129.75746606650424, After GM: 98.91915891272023\n",
      "Frob diff before GM: 160.09684569035082, After GM: 108.97247358851683\n"
     ]
    }
   ],
   "source": [
    "for i in range(1, m):\n",
    "    res = quadratic_assignment(adj_gm[i-1],adj_aug[i],options = {'maximize': True})\n",
    "    perm = res['col_ind']\n",
    "    adj_gm[i]=adj_aug[i][perm][:,perm]\n",
    "    before_norm = LA.norm(adj_aug[i] - adj_gm[i-1], 'fro')\n",
    "    after_norm = LA.norm(adj_gm[i] - adj_gm[i-1], 'fro')\n",
    "\n",
    "     # Printing the before and after norms to see the difference\n",
    "    print(f\"Frob diff before GM: {before_norm}, After GM: {after_norm}\")"
   ]
  },
  {
   "cell_type": "code",
   "execution_count": 79,
   "metadata": {},
   "outputs": [],
   "source": [
    "## find largest common connected component \n",
    "prod=adj_gm[0]\n",
    "for i in range(1,m):\n",
    "    prod=prod * adj_gm[i]"
   ]
  },
  {
   "cell_type": "code",
   "execution_count": 80,
   "metadata": {},
   "outputs": [],
   "source": [
    "from graspologic.datasets import load_drosophila_right\n",
    "from graspologic.plot import heatmap\n",
    "from graspologic.utils import binarize, symmetrize\n",
    "import graspologic.utils as graspologic_utils"
   ]
  },
  {
   "cell_type": "code",
   "execution_count": 84,
   "metadata": {},
   "outputs": [],
   "source": [
    "## find the connected component for the common edge subgraph \n",
    "[a,ind]=graspologic_utils.largest_connected_component(prod,return_inds=True)\n",
    "len(ind)\n",
    "n=len(ind)"
   ]
  },
  {
   "cell_type": "code",
   "execution_count": 85,
   "metadata": {},
   "outputs": [
    {
     "name": "stdout",
     "output_type": "stream",
     "text": [
      "True\n",
      "True\n",
      "True\n",
      "True\n",
      "True\n",
      "True\n",
      "True\n",
      "True\n",
      "True\n"
     ]
    }
   ],
   "source": [
    "# double check every adj mat is connected \n",
    "glist=np.zeros([m,len(ind),len(ind)])\n",
    "for i in range(m):\n",
    "    glist[i]=adj_gm[i][ind][:,ind]\n",
    "    print(graspologic_utils.is_fully_connected(glist[i]))"
   ]
  },
  {
   "cell_type": "code",
   "execution_count": 86,
   "metadata": {},
   "outputs": [
    {
     "data": {
      "text/plain": [
       "<matplotlib.collections.PathCollection at 0x7fac73ed4130>"
      ]
     },
     "execution_count": 86,
     "metadata": {},
     "output_type": "execute_result"
    },
    {
     "data": {
      "image/png": "[encoded data removed]",
      "text/plain": [
       "<Figure size 640x480 with 1 Axes>"
      ]
     },
     "metadata": {},
     "output_type": "display_data"
    }
   ],
   "source": [
    "## scree plot for one graph \n",
    "u,s,v=np.linalg.svd(glist[0], full_matrices=True)\n",
    "plt.scatter(range(n),s)"
   ]
  },
  {
   "cell_type": "code",
   "execution_count": 87,
   "metadata": {},
   "outputs": [],
   "source": [
    "from graspologic.embed import AdjacencySpectralEmbed"
   ]
  },
  {
   "cell_type": "code",
   "execution_count": 88,
   "metadata": {},
   "outputs": [],
   "source": [
    "ed=2\n",
    "Xhat_list=np.zeros([len(tm),n,2*ed])\n",
    "for i in range(len(tm)):\n",
    "    ase = AdjacencySpectralEmbed(n_components=ed)\n",
    "    Xhat, Yhat = ase.fit_transform(glist[i])\n",
    "    Xhat_list[i][:,list(np.arange(ed))]=Xhat\n",
    "    Xhat_list[i][:,list(np.arange(ed,2*ed))]=Yhat"
   ]
  },
  {
   "cell_type": "code",
   "execution_count": 89,
   "metadata": {},
   "outputs": [],
   "source": [
    "from scipy.linalg import orthogonal_procrustes\n",
    "D=np.zeros([len(tm),len(tm)])"
   ]
  },
  {
   "cell_type": "code",
   "execution_count": 90,
   "metadata": {},
   "outputs": [],
   "source": [
    "for i in range(len(tm)):\n",
    "    for j in range(len(tm)):\n",
    "        R, sca = orthogonal_procrustes(Xhat_list[i] , Xhat_list[j] )\n",
    "        D[i,j]=LA.norm(Xhat_list[i] @ R -  Xhat_list[j],2)**2/n  "
   ]
  },
  {
   "cell_type": "code",
   "execution_count": 91,
   "metadata": {},
   "outputs": [],
   "source": [
    "J=np.ones([len(tm),len(tm)])/len(tm)\n",
    "I=np.eye(len(tm))\n",
    "P=I-J"
   ]
  },
  {
   "cell_type": "code",
   "execution_count": 92,
   "metadata": {},
   "outputs": [
    {
     "data": {
      "text/plain": [
       "Text(0, 0.5, 'eigen value')"
      ]
     },
     "execution_count": 92,
     "metadata": {},
     "output_type": "execute_result"
    },
    {
     "data": {
      "image/png": "[encoded data removed]",
      "text/plain": [
       "<Figure size 640x480 with 1 Axes>"
      ]
     },
     "metadata": {},
     "output_type": "display_data"
    }
   ],
   "source": [
    "H=(-1/2)*P@D@P\n",
    "w,v=LA.eig(H)\n",
    "idx = w.argsort()[::-1]   \n",
    "w = w[idx]\n",
    "v = v[:,idx]\n",
    "plt.scatter(range(len(tm)),w) \n",
    "#plt.title('scree plot for MDS')\n",
    "plt.xlabel('dimension',fontsize=15)\n",
    "plt.ylabel('eigen value',fontsize=15)"
   ]
  },
  {
   "cell_type": "code",
   "execution_count": 95,
   "metadata": {},
   "outputs": [],
   "source": [
    "d=4\n",
    "MDS=v[:,:d] @ np.diag(np.sqrt(w[:d]))"
   ]
  },
  {
   "cell_type": "code",
   "execution_count": 96,
   "metadata": {},
   "outputs": [
    {
     "data": {
      "text/plain": [
       "Text(0, 0.5, 'dim 2')"
      ]
     },
     "execution_count": 96,
     "metadata": {},
     "output_type": "execute_result"
    },
    {
     "data": {
      "image/png": "[encoded data removed]",
      "text/plain": [
       "<Figure size 640x480 with 1 Axes>"
      ]
     },
     "metadata": {},
     "output_type": "display_data"
    }
   ],
   "source": [
    "plt.scatter(MDS[:,0],MDS[:,1],color='black')\n",
    "#for i in range(len(tm)):\n",
    "#    plt.text(MDS[i,0],MDS[i,1]+0.01,str(int(day[i])), fontsize=16)\n",
    "plt.xlabel(\"dim 1\",fontsize=15)\n",
    "plt.ylabel(\"dim 2\",fontsize=15)"
   ]
  },
  {
   "cell_type": "code",
   "execution_count": 97,
   "metadata": {},
   "outputs": [],
   "source": [
    "from sklearn.manifold import Isomap"
   ]
  },
  {
   "cell_type": "code",
   "execution_count": 100,
   "metadata": {},
   "outputs": [],
   "source": [
    "embedding = Isomap(n_neighbors=2,n_components=1)\n",
    "iso = embedding.fit_transform(MDS)"
   ]
  },
  {
   "cell_type": "code",
   "execution_count": 105,
   "metadata": {},
   "outputs": [],
   "source": [
    "%store -r time_diff"
   ]
  },
  {
   "cell_type": "code",
   "execution_count": 115,
   "metadata": {},
   "outputs": [
    {
     "name": "stdout",
     "output_type": "stream",
     "text": [
      "[13.216666666666667, 26.433333333333334, 39.666666666666664, 52.916666666666664, 84.63333333333334, 171.9, 221.88333333333333, 250.95, 281.6666666666667]\n"
     ]
    }
   ],
   "source": [
    "time_diff_tm = [time_diff[i] for i in tm]\n",
    "print(time_diff_tm)\n"
   ]
  },
  {
   "cell_type": "code",
   "execution_count": 121,
   "metadata": {},
   "outputs": [
    {
     "data": {
      "image/png": "[encoded data removed]",
      "text/plain": [
       "<Figure size 640x480 with 1 Axes>"
      ]
     },
     "metadata": {},
     "output_type": "display_data"
    }
   ],
   "source": [
    "\n",
    "# Plot the scatter plot\n",
    "plt.scatter(time_diff_tm, iso)\n",
    "\n",
    "# Add vertical lines\n",
    "plt.axvline(x=11, color='red', linestyle='--', label='stimu 1')\n",
    "plt.axvline(x=24, color='blue', linestyle='--', label='stimu 2')\n",
    "plt.axvline(x=37, color='green', linestyle='--', label='stimu 3')\n",
    "plt.axvline(x=50, color='orange', linestyle='--', label='stimu 4')\n",
    "\n",
    "# Set the x-axis label and y-axis label\n",
    "plt.xlabel('minutes after Baseline 2023-06-02-14:24:58')\n",
    "plt.ylabel('iso-mirror')\n",
    "\n",
    "# Add a title\n",
    "plt.title('well 5')\n",
    "\n",
    "# Add a legend\n",
    "plt.legend()\n",
    "\n",
    "# Show the plot\n",
    "plt.show()\n"
   ]
  }
 ],
 "metadata": {
  "kernelspec": {
   "display_name": "base",
   "language": "python",
   "name": "python3"
  },
  "language_info": {
   "codemirror_mode": {
    "name": "ipython",
    "version": 3
   },
   "file_extension": ".py",
   "mimetype": "text/x-python",
   "name": "python",
   "nbconvert_exporter": "python",
   "pygments_lexer": "ipython3",
   "version": "3.9.13"
  }
 },
 "nbformat": 4,
 "nbformat_minor": 2
}
